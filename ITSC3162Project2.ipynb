{
  "nbformat": 4,
  "nbformat_minor": 0,
  "metadata": {
    "colab": {
      "name": "ITSC3162Project2.ipynb",
      "provenance": [],
      "collapsed_sections": []
    },
    "kernelspec": {
      "name": "python3",
      "display_name": "Python 3"
    },
    "language_info": {
      "name": "python"
    }
  },
  "cells": [
    {
      "cell_type": "markdown",
      "source": [
        "# Project 2 - Classification"
      ],
      "metadata": {
        "id": "XREObe3c-T2u"
      }
    },
    {
      "cell_type": "markdown",
      "source": [
        "For this project, I am going to build classification models to predict if a person is diabetic or not given certain features. My main goal for this project is to understand various classification algorithms on a deeper level and be able to compare them."
      ],
      "metadata": {
        "id": "2twB08q48-K7"
      }
    },
    {
      "cell_type": "markdown",
      "source": [
        "## Inspecting the data\n"
      ],
      "metadata": {
        "id": "I651gWmfZlFN"
      }
    },
    {
      "cell_type": "code",
      "execution_count": 1,
      "metadata": {
        "id": "W93q_EZD8dKW"
      },
      "outputs": [],
      "source": [
        "# import libraries\n",
        "import numpy as np\n",
        "import pandas as pd\n",
        "import seaborn as sns\n",
        "import matplotlib.pyplot as plt\n",
        "import math\n",
        "import scipy.stats as stats\n"
      ]
    },
    {
      "cell_type": "code",
      "source": [
        "# read data\n",
        "data = pd.read_csv('/content/diabetes_binary_5050split_health_indicators_BRFSS2015.csv')"
      ],
      "metadata": {
        "id": "CKE3uaXqKJ0u"
      },
      "execution_count": 2,
      "outputs": []
    },
    {
      "cell_type": "code",
      "source": [
        "# inspect shape, columns, nulls, datatypes\n",
        "data.shape"
      ],
      "metadata": {
        "colab": {
          "base_uri": "https://localhost:8080/"
        },
        "id": "um7l3KTwLH_I",
        "outputId": "5a365140-f806-4989-8ef6-5f379f061d8a"
      },
      "execution_count": 3,
      "outputs": [
        {
          "output_type": "execute_result",
          "data": {
            "text/plain": [
              "(70692, 22)"
            ]
          },
          "metadata": {},
          "execution_count": 3
        }
      ]
    },
    {
      "cell_type": "code",
      "source": [
        "data.info()"
      ],
      "metadata": {
        "colab": {
          "base_uri": "https://localhost:8080/"
        },
        "id": "38FY7Cx_Lfam",
        "outputId": "885cfaba-1e80-4396-f24a-d72053912573"
      },
      "execution_count": 4,
      "outputs": [
        {
          "output_type": "stream",
          "name": "stdout",
          "text": [
            "<class 'pandas.core.frame.DataFrame'>\n",
            "RangeIndex: 70692 entries, 0 to 70691\n",
            "Data columns (total 22 columns):\n",
            " #   Column                Non-Null Count  Dtype  \n",
            "---  ------                --------------  -----  \n",
            " 0   Diabetes_binary       70692 non-null  float64\n",
            " 1   HighBP                70692 non-null  float64\n",
            " 2   HighChol              70692 non-null  float64\n",
            " 3   CholCheck             70692 non-null  float64\n",
            " 4   BMI                   70692 non-null  float64\n",
            " 5   Smoker                70692 non-null  float64\n",
            " 6   Stroke                70692 non-null  float64\n",
            " 7   HeartDiseaseorAttack  70692 non-null  float64\n",
            " 8   PhysActivity          70692 non-null  float64\n",
            " 9   Fruits                70692 non-null  float64\n",
            " 10  Veggies               70692 non-null  float64\n",
            " 11  HvyAlcoholConsump     70692 non-null  float64\n",
            " 12  AnyHealthcare         70692 non-null  float64\n",
            " 13  NoDocbcCost           70692 non-null  float64\n",
            " 14  GenHlth               70692 non-null  float64\n",
            " 15  MentHlth              70692 non-null  float64\n",
            " 16  PhysHlth              70692 non-null  float64\n",
            " 17  DiffWalk              70692 non-null  float64\n",
            " 18  Sex                   70692 non-null  float64\n",
            " 19  Age                   70692 non-null  float64\n",
            " 20  Education             70692 non-null  float64\n",
            " 21  Income                70692 non-null  float64\n",
            "dtypes: float64(22)\n",
            "memory usage: 11.9 MB\n"
          ]
        }
      ]
    },
    {
      "cell_type": "markdown",
      "source": [
        "There are no nulls so that is great."
      ],
      "metadata": {
        "id": "cnUSPbMeZ9aZ"
      }
    },
    {
      "cell_type": "code",
      "source": [
        "data.head()"
      ],
      "metadata": {
        "colab": {
          "base_uri": "https://localhost:8080/",
          "height": 270
        },
        "id": "Ecirz0LeLMFd",
        "outputId": "9e370149-2f84-4ed0-9dad-d12120020e72"
      },
      "execution_count": 5,
      "outputs": [
        {
          "output_type": "execute_result",
          "data": {
            "text/html": [
              "\n",
              "  <div id=\"df-c830acc3-46d0-4441-a27d-ea7c29a2ff59\">\n",
              "    <div class=\"colab-df-container\">\n",
              "      <div>\n",
              "<style scoped>\n",
              "    .dataframe tbody tr th:only-of-type {\n",
              "        vertical-align: middle;\n",
              "    }\n",
              "\n",
              "    .dataframe tbody tr th {\n",
              "        vertical-align: top;\n",
              "    }\n",
              "\n",
              "    .dataframe thead th {\n",
              "        text-align: right;\n",
              "    }\n",
              "</style>\n",
              "<table border=\"1\" class=\"dataframe\">\n",
              "  <thead>\n",
              "    <tr style=\"text-align: right;\">\n",
              "      <th></th>\n",
              "      <th>Diabetes_binary</th>\n",
              "      <th>HighBP</th>\n",
              "      <th>HighChol</th>\n",
              "      <th>CholCheck</th>\n",
              "      <th>BMI</th>\n",
              "      <th>Smoker</th>\n",
              "      <th>Stroke</th>\n",
              "      <th>HeartDiseaseorAttack</th>\n",
              "      <th>PhysActivity</th>\n",
              "      <th>Fruits</th>\n",
              "      <th>Veggies</th>\n",
              "      <th>HvyAlcoholConsump</th>\n",
              "      <th>AnyHealthcare</th>\n",
              "      <th>NoDocbcCost</th>\n",
              "      <th>GenHlth</th>\n",
              "      <th>MentHlth</th>\n",
              "      <th>PhysHlth</th>\n",
              "      <th>DiffWalk</th>\n",
              "      <th>Sex</th>\n",
              "      <th>Age</th>\n",
              "      <th>Education</th>\n",
              "      <th>Income</th>\n",
              "    </tr>\n",
              "  </thead>\n",
              "  <tbody>\n",
              "    <tr>\n",
              "      <th>0</th>\n",
              "      <td>0.0</td>\n",
              "      <td>1.0</td>\n",
              "      <td>0.0</td>\n",
              "      <td>1.0</td>\n",
              "      <td>26.0</td>\n",
              "      <td>0.0</td>\n",
              "      <td>0.0</td>\n",
              "      <td>0.0</td>\n",
              "      <td>1.0</td>\n",
              "      <td>0.0</td>\n",
              "      <td>1.0</td>\n",
              "      <td>0.0</td>\n",
              "      <td>1.0</td>\n",
              "      <td>0.0</td>\n",
              "      <td>3.0</td>\n",
              "      <td>5.0</td>\n",
              "      <td>30.0</td>\n",
              "      <td>0.0</td>\n",
              "      <td>1.0</td>\n",
              "      <td>4.0</td>\n",
              "      <td>6.0</td>\n",
              "      <td>8.0</td>\n",
              "    </tr>\n",
              "    <tr>\n",
              "      <th>1</th>\n",
              "      <td>0.0</td>\n",
              "      <td>1.0</td>\n",
              "      <td>1.0</td>\n",
              "      <td>1.0</td>\n",
              "      <td>26.0</td>\n",
              "      <td>1.0</td>\n",
              "      <td>1.0</td>\n",
              "      <td>0.0</td>\n",
              "      <td>0.0</td>\n",
              "      <td>1.0</td>\n",
              "      <td>0.0</td>\n",
              "      <td>0.0</td>\n",
              "      <td>1.0</td>\n",
              "      <td>0.0</td>\n",
              "      <td>3.0</td>\n",
              "      <td>0.0</td>\n",
              "      <td>0.0</td>\n",
              "      <td>0.0</td>\n",
              "      <td>1.0</td>\n",
              "      <td>12.0</td>\n",
              "      <td>6.0</td>\n",
              "      <td>8.0</td>\n",
              "    </tr>\n",
              "    <tr>\n",
              "      <th>2</th>\n",
              "      <td>0.0</td>\n",
              "      <td>0.0</td>\n",
              "      <td>0.0</td>\n",
              "      <td>1.0</td>\n",
              "      <td>26.0</td>\n",
              "      <td>0.0</td>\n",
              "      <td>0.0</td>\n",
              "      <td>0.0</td>\n",
              "      <td>1.0</td>\n",
              "      <td>1.0</td>\n",
              "      <td>1.0</td>\n",
              "      <td>0.0</td>\n",
              "      <td>1.0</td>\n",
              "      <td>0.0</td>\n",
              "      <td>1.0</td>\n",
              "      <td>0.0</td>\n",
              "      <td>10.0</td>\n",
              "      <td>0.0</td>\n",
              "      <td>1.0</td>\n",
              "      <td>13.0</td>\n",
              "      <td>6.0</td>\n",
              "      <td>8.0</td>\n",
              "    </tr>\n",
              "    <tr>\n",
              "      <th>3</th>\n",
              "      <td>0.0</td>\n",
              "      <td>1.0</td>\n",
              "      <td>1.0</td>\n",
              "      <td>1.0</td>\n",
              "      <td>28.0</td>\n",
              "      <td>1.0</td>\n",
              "      <td>0.0</td>\n",
              "      <td>0.0</td>\n",
              "      <td>1.0</td>\n",
              "      <td>1.0</td>\n",
              "      <td>1.0</td>\n",
              "      <td>0.0</td>\n",
              "      <td>1.0</td>\n",
              "      <td>0.0</td>\n",
              "      <td>3.0</td>\n",
              "      <td>0.0</td>\n",
              "      <td>3.0</td>\n",
              "      <td>0.0</td>\n",
              "      <td>1.0</td>\n",
              "      <td>11.0</td>\n",
              "      <td>6.0</td>\n",
              "      <td>8.0</td>\n",
              "    </tr>\n",
              "    <tr>\n",
              "      <th>4</th>\n",
              "      <td>0.0</td>\n",
              "      <td>0.0</td>\n",
              "      <td>0.0</td>\n",
              "      <td>1.0</td>\n",
              "      <td>29.0</td>\n",
              "      <td>1.0</td>\n",
              "      <td>0.0</td>\n",
              "      <td>0.0</td>\n",
              "      <td>1.0</td>\n",
              "      <td>1.0</td>\n",
              "      <td>1.0</td>\n",
              "      <td>0.0</td>\n",
              "      <td>1.0</td>\n",
              "      <td>0.0</td>\n",
              "      <td>2.0</td>\n",
              "      <td>0.0</td>\n",
              "      <td>0.0</td>\n",
              "      <td>0.0</td>\n",
              "      <td>0.0</td>\n",
              "      <td>8.0</td>\n",
              "      <td>5.0</td>\n",
              "      <td>8.0</td>\n",
              "    </tr>\n",
              "  </tbody>\n",
              "</table>\n",
              "</div>\n",
              "      <button class=\"colab-df-convert\" onclick=\"convertToInteractive('df-c830acc3-46d0-4441-a27d-ea7c29a2ff59')\"\n",
              "              title=\"Convert this dataframe to an interactive table.\"\n",
              "              style=\"display:none;\">\n",
              "        \n",
              "  <svg xmlns=\"http://www.w3.org/2000/svg\" height=\"24px\"viewBox=\"0 0 24 24\"\n",
              "       width=\"24px\">\n",
              "    <path d=\"M0 0h24v24H0V0z\" fill=\"none\"/>\n",
              "    <path d=\"M18.56 5.44l.94 2.06.94-2.06 2.06-.94-2.06-.94-.94-2.06-.94 2.06-2.06.94zm-11 1L8.5 8.5l.94-2.06 2.06-.94-2.06-.94L8.5 2.5l-.94 2.06-2.06.94zm10 10l.94 2.06.94-2.06 2.06-.94-2.06-.94-.94-2.06-.94 2.06-2.06.94z\"/><path d=\"M17.41 7.96l-1.37-1.37c-.4-.4-.92-.59-1.43-.59-.52 0-1.04.2-1.43.59L10.3 9.45l-7.72 7.72c-.78.78-.78 2.05 0 2.83L4 21.41c.39.39.9.59 1.41.59.51 0 1.02-.2 1.41-.59l7.78-7.78 2.81-2.81c.8-.78.8-2.07 0-2.86zM5.41 20L4 18.59l7.72-7.72 1.47 1.35L5.41 20z\"/>\n",
              "  </svg>\n",
              "      </button>\n",
              "      \n",
              "  <style>\n",
              "    .colab-df-container {\n",
              "      display:flex;\n",
              "      flex-wrap:wrap;\n",
              "      gap: 12px;\n",
              "    }\n",
              "\n",
              "    .colab-df-convert {\n",
              "      background-color: #E8F0FE;\n",
              "      border: none;\n",
              "      border-radius: 50%;\n",
              "      cursor: pointer;\n",
              "      display: none;\n",
              "      fill: #1967D2;\n",
              "      height: 32px;\n",
              "      padding: 0 0 0 0;\n",
              "      width: 32px;\n",
              "    }\n",
              "\n",
              "    .colab-df-convert:hover {\n",
              "      background-color: #E2EBFA;\n",
              "      box-shadow: 0px 1px 2px rgba(60, 64, 67, 0.3), 0px 1px 3px 1px rgba(60, 64, 67, 0.15);\n",
              "      fill: #174EA6;\n",
              "    }\n",
              "\n",
              "    [theme=dark] .colab-df-convert {\n",
              "      background-color: #3B4455;\n",
              "      fill: #D2E3FC;\n",
              "    }\n",
              "\n",
              "    [theme=dark] .colab-df-convert:hover {\n",
              "      background-color: #434B5C;\n",
              "      box-shadow: 0px 1px 3px 1px rgba(0, 0, 0, 0.15);\n",
              "      filter: drop-shadow(0px 1px 2px rgba(0, 0, 0, 0.3));\n",
              "      fill: #FFFFFF;\n",
              "    }\n",
              "  </style>\n",
              "\n",
              "      <script>\n",
              "        const buttonEl =\n",
              "          document.querySelector('#df-c830acc3-46d0-4441-a27d-ea7c29a2ff59 button.colab-df-convert');\n",
              "        buttonEl.style.display =\n",
              "          google.colab.kernel.accessAllowed ? 'block' : 'none';\n",
              "\n",
              "        async function convertToInteractive(key) {\n",
              "          const element = document.querySelector('#df-c830acc3-46d0-4441-a27d-ea7c29a2ff59');\n",
              "          const dataTable =\n",
              "            await google.colab.kernel.invokeFunction('convertToInteractive',\n",
              "                                                     [key], {});\n",
              "          if (!dataTable) return;\n",
              "\n",
              "          const docLinkHtml = 'Like what you see? Visit the ' +\n",
              "            '<a target=\"_blank\" href=https://colab.research.google.com/notebooks/data_table.ipynb>data table notebook</a>'\n",
              "            + ' to learn more about interactive tables.';\n",
              "          element.innerHTML = '';\n",
              "          dataTable['output_type'] = 'display_data';\n",
              "          await google.colab.output.renderOutput(dataTable, element);\n",
              "          const docLink = document.createElement('div');\n",
              "          docLink.innerHTML = docLinkHtml;\n",
              "          element.appendChild(docLink);\n",
              "        }\n",
              "      </script>\n",
              "    </div>\n",
              "  </div>\n",
              "  "
            ],
            "text/plain": [
              "   Diabetes_binary  HighBP  HighChol  CholCheck  ...  Sex   Age  Education  Income\n",
              "0              0.0     1.0       0.0        1.0  ...  1.0   4.0        6.0     8.0\n",
              "1              0.0     1.0       1.0        1.0  ...  1.0  12.0        6.0     8.0\n",
              "2              0.0     0.0       0.0        1.0  ...  1.0  13.0        6.0     8.0\n",
              "3              0.0     1.0       1.0        1.0  ...  1.0  11.0        6.0     8.0\n",
              "4              0.0     0.0       0.0        1.0  ...  0.0   8.0        5.0     8.0\n",
              "\n",
              "[5 rows x 22 columns]"
            ]
          },
          "metadata": {},
          "execution_count": 5
        }
      ]
    },
    {
      "cell_type": "markdown",
      "source": [
        "After inpsecting the data, I see that there are 2 types of variables in the dataset: categorical and numerical variables. So, instead of calculating correlation normally, I will need to use Cramer's V to calculate the correlation between each of the categorical value with the target and point biserial between the numerical value with the target."
      ],
      "metadata": {
        "id": "cdZ2fhveXqAI"
      }
    },
    {
      "cell_type": "code",
      "source": [
        "# Check see if data is balanced\n",
        "ax = sns.countplot(x=\"Diabetes_binary\", data=data)"
      ],
      "metadata": {
        "colab": {
          "base_uri": "https://localhost:8080/",
          "height": 280
        },
        "id": "_jK1kN_8QMte",
        "outputId": "2d97526d-7fbe-475c-93dd-a8d28c387808"
      },
      "execution_count": 6,
      "outputs": [
        {
          "output_type": "display_data",
          "data": {
            "image/png": "[encoded data removed]",
            "text/plain": [
              "<Figure size 432x288 with 1 Axes>"
            ]
          },
          "metadata": {
            "needs_background": "light"
          }
        }
      ]
    },
    {
      "cell_type": "code",
      "source": [
        "data['Diabetes_binary'].value_counts()"
      ],
      "metadata": {
        "colab": {
          "base_uri": "https://localhost:8080/"
        },
        "id": "eqaEjXENZdui",
        "outputId": "1064c5c5-a643-4735-9e7f-4ee355a3701d"
      },
      "execution_count": 7,
      "outputs": [
        {
          "output_type": "execute_result",
          "data": {
            "text/plain": [
              "0.0    35346\n",
              "1.0    35346\n",
              "Name: Diabetes_binary, dtype: int64"
            ]
          },
          "metadata": {},
          "execution_count": 7
        }
      ]
    },
    {
      "cell_type": "markdown",
      "source": [
        "Data is perfectly balanced.\n"
      ],
      "metadata": {
        "id": "by_KFFmoaQvA"
      }
    },
    {
      "cell_type": "markdown",
      "source": [
        "## Preprocessing - Calculating Correlation"
      ],
      "metadata": {
        "id": "fJhEieuIpQuV"
      }
    },
    {
      "cell_type": "markdown",
      "source": [
        "First, I will calculate the correlation between numerical data and categorical data using Point Biserial. A result of 1 means there is a positive correlation, 0 means there is no correlation, and -1 means there is a negative correlation."
      ],
      "metadata": {
        "id": "D_n7EJ-zpT0O"
      }
    },
    {
      "cell_type": "code",
      "source": [
        "# calculate point-biserial correlation between BMI and target\n",
        "x = data['Diabetes_binary'].to_numpy()\n",
        "y = data['BMI'].to_numpy()\n",
        "stats.pointbiserialr(x, y)"
      ],
      "metadata": {
        "colab": {
          "base_uri": "https://localhost:8080/"
        },
        "id": "QX6oHbNAkowH",
        "outputId": "456976e0-a182-4fef-a4a6-daa98fca49b7"
      },
      "execution_count": 8,
      "outputs": [
        {
          "output_type": "execute_result",
          "data": {
            "text/plain": [
              "PointbiserialrResult(correlation=0.29337274476104624, pvalue=0.0)"
            ]
          },
          "metadata": {},
          "execution_count": 8
        }
      ]
    },
    {
      "cell_type": "code",
      "source": [
        "# similarly, correlation between target and mental health days\n",
        "x = data['Diabetes_binary'].to_numpy()\n",
        "y = data['MentHlth'].to_numpy()\n",
        "stats.pointbiserialr(x, y)"
      ],
      "metadata": {
        "colab": {
          "base_uri": "https://localhost:8080/"
        },
        "id": "PnK9iZRbmjg4",
        "outputId": "69a73eb6-52ba-485e-cc17-5f93952c0a9e"
      },
      "execution_count": 9,
      "outputs": [
        {
          "output_type": "execute_result",
          "data": {
            "text/plain": [
              "PointbiserialrResult(correlation=0.08702877147509541, pvalue=6.795439709628024e-119)"
            ]
          },
          "metadata": {},
          "execution_count": 9
        }
      ]
    },
    {
      "cell_type": "code",
      "source": [
        "# correlation between target and days with physical illness or injury\n",
        "x = data['Diabetes_binary'].to_numpy()\n",
        "y = data['PhysHlth'].to_numpy()\n",
        "stats.pointbiserialr(x, y)"
      ],
      "metadata": {
        "colab": {
          "base_uri": "https://localhost:8080/"
        },
        "id": "K2DJ0Japm28F",
        "outputId": "f515a4e2-ea32-488b-d004-53330a2884e6"
      },
      "execution_count": 10,
      "outputs": [
        {
          "output_type": "execute_result",
          "data": {
            "text/plain": [
              "PointbiserialrResult(correlation=0.21308101903810778, pvalue=0.0)"
            ]
          },
          "metadata": {},
          "execution_count": 10
        }
      ]
    },
    {
      "cell_type": "markdown",
      "source": [
        "Since the p-value of all 3 correlations are less than .05, they are statistically significant. "
      ],
      "metadata": {
        "id": "pmR15L6SnZV_"
      }
    },
    {
      "cell_type": "markdown",
      "source": [
        "Now I will use Cramer's V to calculate correlation between the categorical variables. A result of 1 means highly associated, 0 means not."
      ],
      "metadata": {
        "id": "XBBW78TepcgP"
      }
    },
    {
      "cell_type": "code",
      "source": [
        "# define cramers_v function\n",
        "def cramers_v(x, y):\n",
        "    confusion_matrix = pd.crosstab(x,y)\n",
        "    chi2 = stats.chi2_contingency(confusion_matrix)[0]\n",
        "    n = confusion_matrix.sum().sum()\n",
        "    phi2 = chi2/n\n",
        "    r,k = confusion_matrix.shape\n",
        "    phi2corr = max(0, phi2-((k-1)*(r-1))/(n-1))\n",
        "    rcorr = r-((r-1)**2)/(n-1)\n",
        "    kcorr = k-((k-1)**2)/(n-1)\n",
        "    return np.sqrt(phi2corr/min((kcorr-1),(rcorr-1)))"
      ],
      "metadata": {
        "id": "CkqC_qfcoxOY"
      },
      "execution_count": 11,
      "outputs": []
    },
    {
      "cell_type": "code",
      "source": [
        "# New dataframe with only categorical values\n",
        "data2 = data.copy()\n",
        "data2 = data2.drop(columns=['BMI', 'MentHlth', 'PhysHlth'])\n",
        "data2"
      ],
      "metadata": {
        "id": "1UBzUkNeqjjA",
        "colab": {
          "base_uri": "https://localhost:8080/",
          "height": 487
        },
        "outputId": "40fd53d2-d93c-4dee-d033-41ba09bd2cc7"
      },
      "execution_count": 12,
      "outputs": [
        {
          "output_type": "execute_result",
          "data": {
            "text/html": [
              "\n",
              "  <div id=\"df-f77cec6e-edba-4457-b0ff-601ce7560fa0\">\n",
              "    <div class=\"colab-df-container\">\n",
              "      <div>\n",
              "<style scoped>\n",
              "    .dataframe tbody tr th:only-of-type {\n",
              "        vertical-align: middle;\n",
              "    }\n",
              "\n",
              "    .dataframe tbody tr th {\n",
              "        vertical-align: top;\n",
              "    }\n",
              "\n",
              "    .dataframe thead th {\n",
              "        text-align: right;\n",
              "    }\n",
              "</style>\n",
              "<table border=\"1\" class=\"dataframe\">\n",
              "  <thead>\n",
              "    <tr style=\"text-align: right;\">\n",
              "      <th></th>\n",
              "      <th>Diabetes_binary</th>\n",
              "      <th>HighBP</th>\n",
              "      <th>HighChol</th>\n",
              "      <th>CholCheck</th>\n",
              "      <th>Smoker</th>\n",
              "      <th>Stroke</th>\n",
              "      <th>HeartDiseaseorAttack</th>\n",
              "      <th>PhysActivity</th>\n",
              "      <th>Fruits</th>\n",
              "      <th>Veggies</th>\n",
              "      <th>HvyAlcoholConsump</th>\n",
              "      <th>AnyHealthcare</th>\n",
              "      <th>NoDocbcCost</th>\n",
              "      <th>GenHlth</th>\n",
              "      <th>DiffWalk</th>\n",
              "      <th>Sex</th>\n",
              "      <th>Age</th>\n",
              "      <th>Education</th>\n",
              "      <th>Income</th>\n",
              "    </tr>\n",
              "  </thead>\n",
              "  <tbody>\n",
              "    <tr>\n",
              "      <th>0</th>\n",
              "      <td>0.0</td>\n",
              "      <td>1.0</td>\n",
              "      <td>0.0</td>\n",
              "      <td>1.0</td>\n",
              "      <td>0.0</td>\n",
              "      <td>0.0</td>\n",
              "      <td>0.0</td>\n",
              "      <td>1.0</td>\n",
              "      <td>0.0</td>\n",
              "      <td>1.0</td>\n",
              "      <td>0.0</td>\n",
              "      <td>1.0</td>\n",
              "      <td>0.0</td>\n",
              "      <td>3.0</td>\n",
              "      <td>0.0</td>\n",
              "      <td>1.0</td>\n",
              "      <td>4.0</td>\n",
              "      <td>6.0</td>\n",
              "      <td>8.0</td>\n",
              "    </tr>\n",
              "    <tr>\n",
              "      <th>1</th>\n",
              "      <td>0.0</td>\n",
              "      <td>1.0</td>\n",
              "      <td>1.0</td>\n",
              "      <td>1.0</td>\n",
              "      <td>1.0</td>\n",
              "      <td>1.0</td>\n",
              "      <td>0.0</td>\n",
              "      <td>0.0</td>\n",
              "      <td>1.0</td>\n",
              "      <td>0.0</td>\n",
              "      <td>0.0</td>\n",
              "      <td>1.0</td>\n",
              "      <td>0.0</td>\n",
              "      <td>3.0</td>\n",
              "      <td>0.0</td>\n",
              "      <td>1.0</td>\n",
              "      <td>12.0</td>\n",
              "      <td>6.0</td>\n",
              "      <td>8.0</td>\n",
              "    </tr>\n",
              "    <tr>\n",
              "      <th>2</th>\n",
              "      <td>0.0</td>\n",
              "      <td>0.0</td>\n",
              "      <td>0.0</td>\n",
              "      <td>1.0</td>\n",
              "      <td>0.0</td>\n",
              "      <td>0.0</td>\n",
              "      <td>0.0</td>\n",
              "      <td>1.0</td>\n",
              "      <td>1.0</td>\n",
              "      <td>1.0</td>\n",
              "      <td>0.0</td>\n",
              "      <td>1.0</td>\n",
              "      <td>0.0</td>\n",
              "      <td>1.0</td>\n",
              "      <td>0.0</td>\n",
              "      <td>1.0</td>\n",
              "      <td>13.0</td>\n",
              "      <td>6.0</td>\n",
              "      <td>8.0</td>\n",
              "    </tr>\n",
              "    <tr>\n",
              "      <th>3</th>\n",
              "      <td>0.0</td>\n",
              "      <td>1.0</td>\n",
              "      <td>1.0</td>\n",
              "      <td>1.0</td>\n",
              "      <td>1.0</td>\n",
              "      <td>0.0</td>\n",
              "      <td>0.0</td>\n",
              "      <td>1.0</td>\n",
              "      <td>1.0</td>\n",
              "      <td>1.0</td>\n",
              "      <td>0.0</td>\n",
              "      <td>1.0</td>\n",
              "      <td>0.0</td>\n",
              "      <td>3.0</td>\n",
              "      <td>0.0</td>\n",
              "      <td>1.0</td>\n",
              "      <td>11.0</td>\n",
              "      <td>6.0</td>\n",
              "      <td>8.0</td>\n",
              "    </tr>\n",
              "    <tr>\n",
              "      <th>4</th>\n",
              "      <td>0.0</td>\n",
              "      <td>0.0</td>\n",
              "      <td>0.0</td>\n",
              "      <td>1.0</td>\n",
              "      <td>1.0</td>\n",
              "      <td>0.0</td>\n",
              "      <td>0.0</td>\n",
              "      <td>1.0</td>\n",
              "      <td>1.0</td>\n",
              "      <td>1.0</td>\n",
              "      <td>0.0</td>\n",
              "      <td>1.0</td>\n",
              "      <td>0.0</td>\n",
              "      <td>2.0</td>\n",
              "      <td>0.0</td>\n",
              "      <td>0.0</td>\n",
              "      <td>8.0</td>\n",
              "      <td>5.0</td>\n",
              "      <td>8.0</td>\n",
              "    </tr>\n",
              "    <tr>\n",
              "      <th>...</th>\n",
              "      <td>...</td>\n",
              "      <td>...</td>\n",
              "      <td>...</td>\n",
              "      <td>...</td>\n",
              "      <td>...</td>\n",
              "      <td>...</td>\n",
              "      <td>...</td>\n",
              "      <td>...</td>\n",
              "      <td>...</td>\n",
              "      <td>...</td>\n",
              "      <td>...</td>\n",
              "      <td>...</td>\n",
              "      <td>...</td>\n",
              "      <td>...</td>\n",
              "      <td>...</td>\n",
              "      <td>...</td>\n",
              "      <td>...</td>\n",
              "      <td>...</td>\n",
              "      <td>...</td>\n",
              "    </tr>\n",
              "    <tr>\n",
              "      <th>70687</th>\n",
              "      <td>1.0</td>\n",
              "      <td>0.0</td>\n",
              "      <td>1.0</td>\n",
              "      <td>1.0</td>\n",
              "      <td>0.0</td>\n",
              "      <td>0.0</td>\n",
              "      <td>0.0</td>\n",
              "      <td>0.0</td>\n",
              "      <td>0.0</td>\n",
              "      <td>1.0</td>\n",
              "      <td>0.0</td>\n",
              "      <td>1.0</td>\n",
              "      <td>0.0</td>\n",
              "      <td>4.0</td>\n",
              "      <td>0.0</td>\n",
              "      <td>0.0</td>\n",
              "      <td>6.0</td>\n",
              "      <td>4.0</td>\n",
              "      <td>1.0</td>\n",
              "    </tr>\n",
              "    <tr>\n",
              "      <th>70688</th>\n",
              "      <td>1.0</td>\n",
              "      <td>0.0</td>\n",
              "      <td>1.0</td>\n",
              "      <td>1.0</td>\n",
              "      <td>1.0</td>\n",
              "      <td>0.0</td>\n",
              "      <td>1.0</td>\n",
              "      <td>0.0</td>\n",
              "      <td>1.0</td>\n",
              "      <td>1.0</td>\n",
              "      <td>0.0</td>\n",
              "      <td>1.0</td>\n",
              "      <td>0.0</td>\n",
              "      <td>2.0</td>\n",
              "      <td>1.0</td>\n",
              "      <td>1.0</td>\n",
              "      <td>10.0</td>\n",
              "      <td>3.0</td>\n",
              "      <td>6.0</td>\n",
              "    </tr>\n",
              "    <tr>\n",
              "      <th>70689</th>\n",
              "      <td>1.0</td>\n",
              "      <td>1.0</td>\n",
              "      <td>1.0</td>\n",
              "      <td>1.0</td>\n",
              "      <td>0.0</td>\n",
              "      <td>0.0</td>\n",
              "      <td>1.0</td>\n",
              "      <td>0.0</td>\n",
              "      <td>1.0</td>\n",
              "      <td>0.0</td>\n",
              "      <td>0.0</td>\n",
              "      <td>1.0</td>\n",
              "      <td>0.0</td>\n",
              "      <td>5.0</td>\n",
              "      <td>1.0</td>\n",
              "      <td>0.0</td>\n",
              "      <td>13.0</td>\n",
              "      <td>6.0</td>\n",
              "      <td>4.0</td>\n",
              "    </tr>\n",
              "    <tr>\n",
              "      <th>70690</th>\n",
              "      <td>1.0</td>\n",
              "      <td>1.0</td>\n",
              "      <td>1.0</td>\n",
              "      <td>1.0</td>\n",
              "      <td>0.0</td>\n",
              "      <td>0.0</td>\n",
              "      <td>0.0</td>\n",
              "      <td>0.0</td>\n",
              "      <td>0.0</td>\n",
              "      <td>0.0</td>\n",
              "      <td>0.0</td>\n",
              "      <td>1.0</td>\n",
              "      <td>0.0</td>\n",
              "      <td>4.0</td>\n",
              "      <td>1.0</td>\n",
              "      <td>0.0</td>\n",
              "      <td>11.0</td>\n",
              "      <td>2.0</td>\n",
              "      <td>4.0</td>\n",
              "    </tr>\n",
              "    <tr>\n",
              "      <th>70691</th>\n",
              "      <td>1.0</td>\n",
              "      <td>1.0</td>\n",
              "      <td>1.0</td>\n",
              "      <td>1.0</td>\n",
              "      <td>0.0</td>\n",
              "      <td>0.0</td>\n",
              "      <td>1.0</td>\n",
              "      <td>1.0</td>\n",
              "      <td>1.0</td>\n",
              "      <td>0.0</td>\n",
              "      <td>0.0</td>\n",
              "      <td>1.0</td>\n",
              "      <td>0.0</td>\n",
              "      <td>2.0</td>\n",
              "      <td>0.0</td>\n",
              "      <td>0.0</td>\n",
              "      <td>9.0</td>\n",
              "      <td>6.0</td>\n",
              "      <td>2.0</td>\n",
              "    </tr>\n",
              "  </tbody>\n",
              "</table>\n",
              "<p>70692 rows × 19 columns</p>\n",
              "</div>\n",
              "      <button class=\"colab-df-convert\" onclick=\"convertToInteractive('df-f77cec6e-edba-4457-b0ff-601ce7560fa0')\"\n",
              "              title=\"Convert this dataframe to an interactive table.\"\n",
              "              style=\"display:none;\">\n",
              "        \n",
              "  <svg xmlns=\"http://www.w3.org/2000/svg\" height=\"24px\"viewBox=\"0 0 24 24\"\n",
              "       width=\"24px\">\n",
              "    <path d=\"M0 0h24v24H0V0z\" fill=\"none\"/>\n",
              "    <path d=\"M18.56 5.44l.94 2.06.94-2.06 2.06-.94-2.06-.94-.94-2.06-.94 2.06-2.06.94zm-11 1L8.5 8.5l.94-2.06 2.06-.94-2.06-.94L8.5 2.5l-.94 2.06-2.06.94zm10 10l.94 2.06.94-2.06 2.06-.94-2.06-.94-.94-2.06-.94 2.06-2.06.94z\"/><path d=\"M17.41 7.96l-1.37-1.37c-.4-.4-.92-.59-1.43-.59-.52 0-1.04.2-1.43.59L10.3 9.45l-7.72 7.72c-.78.78-.78 2.05 0 2.83L4 21.41c.39.39.9.59 1.41.59.51 0 1.02-.2 1.41-.59l7.78-7.78 2.81-2.81c.8-.78.8-2.07 0-2.86zM5.41 20L4 18.59l7.72-7.72 1.47 1.35L5.41 20z\"/>\n",
              "  </svg>\n",
              "      </button>\n",
              "      \n",
              "  <style>\n",
              "    .colab-df-container {\n",
              "      display:flex;\n",
              "      flex-wrap:wrap;\n",
              "      gap: 12px;\n",
              "    }\n",
              "\n",
              "    .colab-df-convert {\n",
              "      background-color: #E8F0FE;\n",
              "      border: none;\n",
              "      border-radius: 50%;\n",
              "      cursor: pointer;\n",
              "      display: none;\n",
              "      fill: #1967D2;\n",
              "      height: 32px;\n",
              "      padding: 0 0 0 0;\n",
              "      width: 32px;\n",
              "    }\n",
              "\n",
              "    .colab-df-convert:hover {\n",
              "      background-color: #E2EBFA;\n",
              "      box-shadow: 0px 1px 2px rgba(60, 64, 67, 0.3), 0px 1px 3px 1px rgba(60, 64, 67, 0.15);\n",
              "      fill: #174EA6;\n",
              "    }\n",
              "\n",
              "    [theme=dark] .colab-df-convert {\n",
              "      background-color: #3B4455;\n",
              "      fill: #D2E3FC;\n",
              "    }\n",
              "\n",
              "    [theme=dark] .colab-df-convert:hover {\n",
              "      background-color: #434B5C;\n",
              "      box-shadow: 0px 1px 3px 1px rgba(0, 0, 0, 0.15);\n",
              "      filter: drop-shadow(0px 1px 2px rgba(0, 0, 0, 0.3));\n",
              "      fill: #FFFFFF;\n",
              "    }\n",
              "  </style>\n",
              "\n",
              "      <script>\n",
              "        const buttonEl =\n",
              "          document.querySelector('#df-f77cec6e-edba-4457-b0ff-601ce7560fa0 button.colab-df-convert');\n",
              "        buttonEl.style.display =\n",
              "          google.colab.kernel.accessAllowed ? 'block' : 'none';\n",
              "\n",
              "        async function convertToInteractive(key) {\n",
              "          const element = document.querySelector('#df-f77cec6e-edba-4457-b0ff-601ce7560fa0');\n",
              "          const dataTable =\n",
              "            await google.colab.kernel.invokeFunction('convertToInteractive',\n",
              "                                                     [key], {});\n",
              "          if (!dataTable) return;\n",
              "\n",
              "          const docLinkHtml = 'Like what you see? Visit the ' +\n",
              "            '<a target=\"_blank\" href=https://colab.research.google.com/notebooks/data_table.ipynb>data table notebook</a>'\n",
              "            + ' to learn more about interactive tables.';\n",
              "          element.innerHTML = '';\n",
              "          dataTable['output_type'] = 'display_data';\n",
              "          await google.colab.output.renderOutput(dataTable, element);\n",
              "          const docLink = document.createElement('div');\n",
              "          docLink.innerHTML = docLinkHtml;\n",
              "          element.appendChild(docLink);\n",
              "        }\n",
              "      </script>\n",
              "    </div>\n",
              "  </div>\n",
              "  "
            ],
            "text/plain": [
              "       Diabetes_binary  HighBP  HighChol  ...   Age  Education  Income\n",
              "0                  0.0     1.0       0.0  ...   4.0        6.0     8.0\n",
              "1                  0.0     1.0       1.0  ...  12.0        6.0     8.0\n",
              "2                  0.0     0.0       0.0  ...  13.0        6.0     8.0\n",
              "3                  0.0     1.0       1.0  ...  11.0        6.0     8.0\n",
              "4                  0.0     0.0       0.0  ...   8.0        5.0     8.0\n",
              "...                ...     ...       ...  ...   ...        ...     ...\n",
              "70687              1.0     0.0       1.0  ...   6.0        4.0     1.0\n",
              "70688              1.0     0.0       1.0  ...  10.0        3.0     6.0\n",
              "70689              1.0     1.0       1.0  ...  13.0        6.0     4.0\n",
              "70690              1.0     1.0       1.0  ...  11.0        2.0     4.0\n",
              "70691              1.0     1.0       1.0  ...   9.0        6.0     2.0\n",
              "\n",
              "[70692 rows x 19 columns]"
            ]
          },
          "metadata": {},
          "execution_count": 12
        }
      ]
    },
    {
      "cell_type": "code",
      "source": [
        "# Make empty dataframe\n",
        "df_cramers = pd.DataFrame(index = data2.columns, columns = data2.columns)\n",
        "# Use the function above to calculate cramers_v\n",
        "for col in df_cramers.columns:\n",
        "    for row in df_cramers.index:\n",
        "        df_cramers[col][row] = cramers_v(data2[col], data2[row])"
      ],
      "metadata": {
        "id": "oCI444LTwI6h"
      },
      "execution_count": 13,
      "outputs": []
    },
    {
      "cell_type": "code",
      "source": [
        "# Visualize it\n",
        "sns.heatmap(df_cramers.astype(float))"
      ],
      "metadata": {
        "colab": {
          "base_uri": "https://localhost:8080/",
          "height": 386
        },
        "id": "_icR0Nh1riZj",
        "outputId": "e881de58-06d5-4a3b-e90b-59a237535795"
      },
      "execution_count": 14,
      "outputs": [
        {
          "output_type": "execute_result",
          "data": {
            "text/plain": [
              "<matplotlib.axes._subplots.AxesSubplot at 0x7f08bcaf2c90>"
            ]
          },
          "metadata": {},
          "execution_count": 14
        },
        {
          "output_type": "display_data",
          "data": {
            "image/png": "[encoded data removed]",
            "text/plain": [
              "<Figure size 432x288 with 2 Axes>"
            ]
          },
          "metadata": {
            "needs_background": "light"
          }
        }
      ]
    },
    {
      "cell_type": "code",
      "source": [
        "df_cramers"
      ],
      "metadata": {
        "id": "hySaATJUxRpO",
        "colab": {
          "base_uri": "https://localhost:8080/",
          "height": 709
        },
        "outputId": "347c68ca-56bc-47a1-cc4e-fdcdde3654a1"
      },
      "execution_count": 15,
      "outputs": [
        {
          "output_type": "execute_result",
          "data": {
            "text/html": [
              "\n",
              "  <div id=\"df-a5e9c8a4-59a5-4812-bdc7-2358b05ec577\">\n",
              "    <div class=\"colab-df-container\">\n",
              "      <div>\n",
              "<style scoped>\n",
              "    .dataframe tbody tr th:only-of-type {\n",
              "        vertical-align: middle;\n",
              "    }\n",
              "\n",
              "    .dataframe tbody tr th {\n",
              "        vertical-align: top;\n",
              "    }\n",
              "\n",
              "    .dataframe thead th {\n",
              "        text-align: right;\n",
              "    }\n",
              "</style>\n",
              "<table border=\"1\" class=\"dataframe\">\n",
              "  <thead>\n",
              "    <tr style=\"text-align: right;\">\n",
              "      <th></th>\n",
              "      <th>Diabetes_binary</th>\n",
              "      <th>HighBP</th>\n",
              "      <th>HighChol</th>\n",
              "      <th>CholCheck</th>\n",
              "      <th>Smoker</th>\n",
              "      <th>Stroke</th>\n",
              "      <th>HeartDiseaseorAttack</th>\n",
              "      <th>PhysActivity</th>\n",
              "      <th>Fruits</th>\n",
              "      <th>Veggies</th>\n",
              "      <th>HvyAlcoholConsump</th>\n",
              "      <th>AnyHealthcare</th>\n",
              "      <th>NoDocbcCost</th>\n",
              "      <th>GenHlth</th>\n",
              "      <th>DiffWalk</th>\n",
              "      <th>Sex</th>\n",
              "      <th>Age</th>\n",
              "      <th>Education</th>\n",
              "      <th>Income</th>\n",
              "    </tr>\n",
              "  </thead>\n",
              "  <tbody>\n",
              "    <tr>\n",
              "      <th>Diabetes_binary</th>\n",
              "      <td>0.999972</td>\n",
              "      <td>0.381471</td>\n",
              "      <td>0.289162</td>\n",
              "      <td>0.11523</td>\n",
              "      <td>0.085889</td>\n",
              "      <td>0.125313</td>\n",
              "      <td>0.211452</td>\n",
              "      <td>0.158591</td>\n",
              "      <td>0.053917</td>\n",
              "      <td>0.07917</td>\n",
              "      <td>0.094709</td>\n",
              "      <td>0.022815</td>\n",
              "      <td>0.040755</td>\n",
              "      <td>0.417135</td>\n",
              "      <td>0.272589</td>\n",
              "      <td>0.044225</td>\n",
              "      <td>0.295364</td>\n",
              "      <td>0.173472</td>\n",
              "      <td>0.233325</td>\n",
              "    </tr>\n",
              "    <tr>\n",
              "      <th>HighBP</th>\n",
              "      <td>0.381471</td>\n",
              "      <td>0.999971</td>\n",
              "      <td>0.316466</td>\n",
              "      <td>0.103124</td>\n",
              "      <td>0.087329</td>\n",
              "      <td>0.128947</td>\n",
              "      <td>0.210678</td>\n",
              "      <td>0.13602</td>\n",
              "      <td>0.04065</td>\n",
              "      <td>0.066483</td>\n",
              "      <td>0.026696</td>\n",
              "      <td>0.035497</td>\n",
              "      <td>0.0262</td>\n",
              "      <td>0.328611</td>\n",
              "      <td>0.234723</td>\n",
              "      <td>0.040617</td>\n",
              "      <td>0.34953</td>\n",
              "      <td>0.144578</td>\n",
              "      <td>0.198216</td>\n",
              "    </tr>\n",
              "    <tr>\n",
              "      <th>HighChol</th>\n",
              "      <td>0.289162</td>\n",
              "      <td>0.316466</td>\n",
              "      <td>0.999972</td>\n",
              "      <td>0.085808</td>\n",
              "      <td>0.093295</td>\n",
              "      <td>0.099657</td>\n",
              "      <td>0.181109</td>\n",
              "      <td>0.090345</td>\n",
              "      <td>0.047205</td>\n",
              "      <td>0.042636</td>\n",
              "      <td>0.025093</td>\n",
              "      <td>0.031238</td>\n",
              "      <td>0.032937</td>\n",
              "      <td>0.24258</td>\n",
              "      <td>0.161968</td>\n",
              "      <td>0.016882</td>\n",
              "      <td>0.271031</td>\n",
              "      <td>0.084759</td>\n",
              "      <td>0.111766</td>\n",
              "    </tr>\n",
              "    <tr>\n",
              "      <th>CholCheck</th>\n",
              "      <td>0.11523</td>\n",
              "      <td>0.103124</td>\n",
              "      <td>0.085808</td>\n",
              "      <td>0.999707</td>\n",
              "      <td>0.001956</td>\n",
              "      <td>0.022022</td>\n",
              "      <td>0.043206</td>\n",
              "      <td>0.00723</td>\n",
              "      <td>0.016876</td>\n",
              "      <td>0.0</td>\n",
              "      <td>0.026657</td>\n",
              "      <td>0.106515</td>\n",
              "      <td>0.0624</td>\n",
              "      <td>0.061656</td>\n",
              "      <td>0.044166</td>\n",
              "      <td>0.006947</td>\n",
              "      <td>0.108023</td>\n",
              "      <td>0.007366</td>\n",
              "      <td>0.0</td>\n",
              "    </tr>\n",
              "    <tr>\n",
              "      <th>Smoker</th>\n",
              "      <td>0.085889</td>\n",
              "      <td>0.087329</td>\n",
              "      <td>0.093295</td>\n",
              "      <td>0.001956</td>\n",
              "      <td>0.999972</td>\n",
              "      <td>0.064491</td>\n",
              "      <td>0.124322</td>\n",
              "      <td>0.079704</td>\n",
              "      <td>0.074688</td>\n",
              "      <td>0.029654</td>\n",
              "      <td>0.077675</td>\n",
              "      <td>0.012309</td>\n",
              "      <td>0.035552</td>\n",
              "      <td>0.152524</td>\n",
              "      <td>0.119698</td>\n",
              "      <td>0.112034</td>\n",
              "      <td>0.126877</td>\n",
              "      <td>0.164007</td>\n",
              "      <td>0.115921</td>\n",
              "    </tr>\n",
              "    <tr>\n",
              "      <th>Stroke</th>\n",
              "      <td>0.125313</td>\n",
              "      <td>0.128947</td>\n",
              "      <td>0.099657</td>\n",
              "      <td>0.022022</td>\n",
              "      <td>0.064491</td>\n",
              "      <td>0.999879</td>\n",
              "      <td>0.223281</td>\n",
              "      <td>0.079833</td>\n",
              "      <td>0.008106</td>\n",
              "      <td>0.047381</td>\n",
              "      <td>0.022944</td>\n",
              "      <td>0.005107</td>\n",
              "      <td>0.035902</td>\n",
              "      <td>0.203748</td>\n",
              "      <td>0.192163</td>\n",
              "      <td>0.000128</td>\n",
              "      <td>0.125096</td>\n",
              "      <td>0.076245</td>\n",
              "      <td>0.137563</td>\n",
              "    </tr>\n",
              "    <tr>\n",
              "      <th>HeartDiseaseorAttack</th>\n",
              "      <td>0.211452</td>\n",
              "      <td>0.210678</td>\n",
              "      <td>0.181109</td>\n",
              "      <td>0.043206</td>\n",
              "      <td>0.124322</td>\n",
              "      <td>0.223281</td>\n",
              "      <td>0.999944</td>\n",
              "      <td>0.098108</td>\n",
              "      <td>0.019027</td>\n",
              "      <td>0.036071</td>\n",
              "      <td>0.03684</td>\n",
              "      <td>0.015131</td>\n",
              "      <td>0.035763</td>\n",
              "      <td>0.287309</td>\n",
              "      <td>0.232536</td>\n",
              "      <td>0.09805</td>\n",
              "      <td>0.225598</td>\n",
              "      <td>0.097944</td>\n",
              "      <td>0.149964</td>\n",
              "    </tr>\n",
              "    <tr>\n",
              "      <th>PhysActivity</th>\n",
              "      <td>0.158591</td>\n",
              "      <td>0.13602</td>\n",
              "      <td>0.090345</td>\n",
              "      <td>0.00723</td>\n",
              "      <td>0.079704</td>\n",
              "      <td>0.079833</td>\n",
              "      <td>0.098108</td>\n",
              "      <td>0.999966</td>\n",
              "      <td>0.133729</td>\n",
              "      <td>0.149238</td>\n",
              "      <td>0.018659</td>\n",
              "      <td>0.026751</td>\n",
              "      <td>0.063137</td>\n",
              "      <td>0.277149</td>\n",
              "      <td>0.276809</td>\n",
              "      <td>0.051585</td>\n",
              "      <td>0.104097</td>\n",
              "      <td>0.194184</td>\n",
              "      <td>0.202555</td>\n",
              "    </tr>\n",
              "    <tr>\n",
              "      <th>Fruits</th>\n",
              "      <td>0.053917</td>\n",
              "      <td>0.04065</td>\n",
              "      <td>0.047205</td>\n",
              "      <td>0.016876</td>\n",
              "      <td>0.074688</td>\n",
              "      <td>0.008106</td>\n",
              "      <td>0.019027</td>\n",
              "      <td>0.133729</td>\n",
              "      <td>0.99997</td>\n",
              "      <td>0.238542</td>\n",
              "      <td>0.03296</td>\n",
              "      <td>0.029073</td>\n",
              "      <td>0.045638</td>\n",
              "      <td>0.099937</td>\n",
              "      <td>0.050612</td>\n",
              "      <td>0.088615</td>\n",
              "      <td>0.086784</td>\n",
              "      <td>0.105919</td>\n",
              "      <td>0.080944</td>\n",
              "    </tr>\n",
              "    <tr>\n",
              "      <th>Veggies</th>\n",
              "      <td>0.07917</td>\n",
              "      <td>0.066483</td>\n",
              "      <td>0.042636</td>\n",
              "      <td>0.0</td>\n",
              "      <td>0.029654</td>\n",
              "      <td>0.047381</td>\n",
              "      <td>0.036071</td>\n",
              "      <td>0.149238</td>\n",
              "      <td>0.238542</td>\n",
              "      <td>0.999958</td>\n",
              "      <td>0.021681</td>\n",
              "      <td>0.028825</td>\n",
              "      <td>0.036896</td>\n",
              "      <td>0.117293</td>\n",
              "      <td>0.083948</td>\n",
              "      <td>0.052435</td>\n",
              "      <td>0.025875</td>\n",
              "      <td>0.154883</td>\n",
              "      <td>0.156458</td>\n",
              "    </tr>\n",
              "    <tr>\n",
              "      <th>HvyAlcoholConsump</th>\n",
              "      <td>0.094709</td>\n",
              "      <td>0.026696</td>\n",
              "      <td>0.025093</td>\n",
              "      <td>0.026657</td>\n",
              "      <td>0.077675</td>\n",
              "      <td>0.022944</td>\n",
              "      <td>0.03684</td>\n",
              "      <td>0.018659</td>\n",
              "      <td>0.03296</td>\n",
              "      <td>0.021681</td>\n",
              "      <td>0.999827</td>\n",
              "      <td>0.012773</td>\n",
              "      <td>0.008792</td>\n",
              "      <td>0.058737</td>\n",
              "      <td>0.04907</td>\n",
              "      <td>0.013583</td>\n",
              "      <td>0.057876</td>\n",
              "      <td>0.036785</td>\n",
              "      <td>0.066238</td>\n",
              "    </tr>\n",
              "    <tr>\n",
              "      <th>AnyHealthcare</th>\n",
              "      <td>0.022815</td>\n",
              "      <td>0.035497</td>\n",
              "      <td>0.031238</td>\n",
              "      <td>0.106515</td>\n",
              "      <td>0.012309</td>\n",
              "      <td>0.005107</td>\n",
              "      <td>0.015131</td>\n",
              "      <td>0.026751</td>\n",
              "      <td>0.029073</td>\n",
              "      <td>0.028825</td>\n",
              "      <td>0.012773</td>\n",
              "      <td>0.999836</td>\n",
              "      <td>0.22151</td>\n",
              "      <td>0.036136</td>\n",
              "      <td>0.0071</td>\n",
              "      <td>0.005293</td>\n",
              "      <td>0.147813</td>\n",
              "      <td>0.108314</td>\n",
              "      <td>0.133339</td>\n",
              "    </tr>\n",
              "    <tr>\n",
              "      <th>NoDocbcCost</th>\n",
              "      <td>0.040755</td>\n",
              "      <td>0.0262</td>\n",
              "      <td>0.032937</td>\n",
              "      <td>0.0624</td>\n",
              "      <td>0.035552</td>\n",
              "      <td>0.035902</td>\n",
              "      <td>0.035763</td>\n",
              "      <td>0.063137</td>\n",
              "      <td>0.045638</td>\n",
              "      <td>0.036896</td>\n",
              "      <td>0.008792</td>\n",
              "      <td>0.22151</td>\n",
              "      <td>0.999917</td>\n",
              "      <td>0.176638</td>\n",
              "      <td>0.127</td>\n",
              "      <td>0.047991</td>\n",
              "      <td>0.147085</td>\n",
              "      <td>0.104486</td>\n",
              "      <td>0.198535</td>\n",
              "    </tr>\n",
              "    <tr>\n",
              "      <th>GenHlth</th>\n",
              "      <td>0.417135</td>\n",
              "      <td>0.328611</td>\n",
              "      <td>0.24258</td>\n",
              "      <td>0.061656</td>\n",
              "      <td>0.152524</td>\n",
              "      <td>0.203748</td>\n",
              "      <td>0.287309</td>\n",
              "      <td>0.277149</td>\n",
              "      <td>0.099937</td>\n",
              "      <td>0.117293</td>\n",
              "      <td>0.058737</td>\n",
              "      <td>0.036136</td>\n",
              "      <td>0.176638</td>\n",
              "      <td>1.0</td>\n",
              "      <td>0.503896</td>\n",
              "      <td>0.032456</td>\n",
              "      <td>0.091427</td>\n",
              "      <td>0.150413</td>\n",
              "      <td>0.203369</td>\n",
              "    </tr>\n",
              "    <tr>\n",
              "      <th>DiffWalk</th>\n",
              "      <td>0.272589</td>\n",
              "      <td>0.234723</td>\n",
              "      <td>0.161968</td>\n",
              "      <td>0.044166</td>\n",
              "      <td>0.119698</td>\n",
              "      <td>0.192163</td>\n",
              "      <td>0.232536</td>\n",
              "      <td>0.276809</td>\n",
              "      <td>0.050612</td>\n",
              "      <td>0.083948</td>\n",
              "      <td>0.04907</td>\n",
              "      <td>0.0071</td>\n",
              "      <td>0.127</td>\n",
              "      <td>0.503896</td>\n",
              "      <td>0.999963</td>\n",
              "      <td>0.08213</td>\n",
              "      <td>0.201399</td>\n",
              "      <td>0.208486</td>\n",
              "      <td>0.344189</td>\n",
              "    </tr>\n",
              "    <tr>\n",
              "      <th>Sex</th>\n",
              "      <td>0.044225</td>\n",
              "      <td>0.040617</td>\n",
              "      <td>0.016882</td>\n",
              "      <td>0.006947</td>\n",
              "      <td>0.112034</td>\n",
              "      <td>0.000128</td>\n",
              "      <td>0.09805</td>\n",
              "      <td>0.051585</td>\n",
              "      <td>0.088615</td>\n",
              "      <td>0.052435</td>\n",
              "      <td>0.013583</td>\n",
              "      <td>0.005293</td>\n",
              "      <td>0.047991</td>\n",
              "      <td>0.032456</td>\n",
              "      <td>0.08213</td>\n",
              "      <td>0.999971</td>\n",
              "      <td>0.034789</td>\n",
              "      <td>0.059492</td>\n",
              "      <td>0.159844</td>\n",
              "    </tr>\n",
              "    <tr>\n",
              "      <th>Age</th>\n",
              "      <td>0.295364</td>\n",
              "      <td>0.34953</td>\n",
              "      <td>0.271031</td>\n",
              "      <td>0.108023</td>\n",
              "      <td>0.126877</td>\n",
              "      <td>0.125096</td>\n",
              "      <td>0.225598</td>\n",
              "      <td>0.104097</td>\n",
              "      <td>0.086784</td>\n",
              "      <td>0.025875</td>\n",
              "      <td>0.057876</td>\n",
              "      <td>0.147813</td>\n",
              "      <td>0.147085</td>\n",
              "      <td>0.091427</td>\n",
              "      <td>0.201399</td>\n",
              "      <td>0.034789</td>\n",
              "      <td>1.0</td>\n",
              "      <td>0.064986</td>\n",
              "      <td>0.09592</td>\n",
              "    </tr>\n",
              "    <tr>\n",
              "      <th>Education</th>\n",
              "      <td>0.173472</td>\n",
              "      <td>0.144578</td>\n",
              "      <td>0.084759</td>\n",
              "      <td>0.007366</td>\n",
              "      <td>0.164007</td>\n",
              "      <td>0.076245</td>\n",
              "      <td>0.097944</td>\n",
              "      <td>0.194184</td>\n",
              "      <td>0.105919</td>\n",
              "      <td>0.154883</td>\n",
              "      <td>0.036785</td>\n",
              "      <td>0.108314</td>\n",
              "      <td>0.104486</td>\n",
              "      <td>0.150413</td>\n",
              "      <td>0.208486</td>\n",
              "      <td>0.059492</td>\n",
              "      <td>0.064986</td>\n",
              "      <td>1.0</td>\n",
              "      <td>0.223364</td>\n",
              "    </tr>\n",
              "    <tr>\n",
              "      <th>Income</th>\n",
              "      <td>0.233325</td>\n",
              "      <td>0.198216</td>\n",
              "      <td>0.111766</td>\n",
              "      <td>0.0</td>\n",
              "      <td>0.115921</td>\n",
              "      <td>0.137563</td>\n",
              "      <td>0.149964</td>\n",
              "      <td>0.202555</td>\n",
              "      <td>0.080944</td>\n",
              "      <td>0.156458</td>\n",
              "      <td>0.066238</td>\n",
              "      <td>0.133339</td>\n",
              "      <td>0.198535</td>\n",
              "      <td>0.203369</td>\n",
              "      <td>0.344189</td>\n",
              "      <td>0.159844</td>\n",
              "      <td>0.09592</td>\n",
              "      <td>0.223364</td>\n",
              "      <td>1.0</td>\n",
              "    </tr>\n",
              "  </tbody>\n",
              "</table>\n",
              "</div>\n",
              "      <button class=\"colab-df-convert\" onclick=\"convertToInteractive('df-a5e9c8a4-59a5-4812-bdc7-2358b05ec577')\"\n",
              "              title=\"Convert this dataframe to an interactive table.\"\n",
              "              style=\"display:none;\">\n",
              "        \n",
              "  <svg xmlns=\"http://www.w3.org/2000/svg\" height=\"24px\"viewBox=\"0 0 24 24\"\n",
              "       width=\"24px\">\n",
              "    <path d=\"M0 0h24v24H0V0z\" fill=\"none\"/>\n",
              "    <path d=\"M18.56 5.44l.94 2.06.94-2.06 2.06-.94-2.06-.94-.94-2.06-.94 2.06-2.06.94zm-11 1L8.5 8.5l.94-2.06 2.06-.94-2.06-.94L8.5 2.5l-.94 2.06-2.06.94zm10 10l.94 2.06.94-2.06 2.06-.94-2.06-.94-.94-2.06-.94 2.06-2.06.94z\"/><path d=\"M17.41 7.96l-1.37-1.37c-.4-.4-.92-.59-1.43-.59-.52 0-1.04.2-1.43.59L10.3 9.45l-7.72 7.72c-.78.78-.78 2.05 0 2.83L4 21.41c.39.39.9.59 1.41.59.51 0 1.02-.2 1.41-.59l7.78-7.78 2.81-2.81c.8-.78.8-2.07 0-2.86zM5.41 20L4 18.59l7.72-7.72 1.47 1.35L5.41 20z\"/>\n",
              "  </svg>\n",
              "      </button>\n",
              "      \n",
              "  <style>\n",
              "    .colab-df-container {\n",
              "      display:flex;\n",
              "      flex-wrap:wrap;\n",
              "      gap: 12px;\n",
              "    }\n",
              "\n",
              "    .colab-df-convert {\n",
              "      background-color: #E8F0FE;\n",
              "      border: none;\n",
              "      border-radius: 50%;\n",
              "      cursor: pointer;\n",
              "      display: none;\n",
              "      fill: #1967D2;\n",
              "      height: 32px;\n",
              "      padding: 0 0 0 0;\n",
              "      width: 32px;\n",
              "    }\n",
              "\n",
              "    .colab-df-convert:hover {\n",
              "      background-color: #E2EBFA;\n",
              "      box-shadow: 0px 1px 2px rgba(60, 64, 67, 0.3), 0px 1px 3px 1px rgba(60, 64, 67, 0.15);\n",
              "      fill: #174EA6;\n",
              "    }\n",
              "\n",
              "    [theme=dark] .colab-df-convert {\n",
              "      background-color: #3B4455;\n",
              "      fill: #D2E3FC;\n",
              "    }\n",
              "\n",
              "    [theme=dark] .colab-df-convert:hover {\n",
              "      background-color: #434B5C;\n",
              "      box-shadow: 0px 1px 3px 1px rgba(0, 0, 0, 0.15);\n",
              "      filter: drop-shadow(0px 1px 2px rgba(0, 0, 0, 0.3));\n",
              "      fill: #FFFFFF;\n",
              "    }\n",
              "  </style>\n",
              "\n",
              "      <script>\n",
              "        const buttonEl =\n",
              "          document.querySelector('#df-a5e9c8a4-59a5-4812-bdc7-2358b05ec577 button.colab-df-convert');\n",
              "        buttonEl.style.display =\n",
              "          google.colab.kernel.accessAllowed ? 'block' : 'none';\n",
              "\n",
              "        async function convertToInteractive(key) {\n",
              "          const element = document.querySelector('#df-a5e9c8a4-59a5-4812-bdc7-2358b05ec577');\n",
              "          const dataTable =\n",
              "            await google.colab.kernel.invokeFunction('convertToInteractive',\n",
              "                                                     [key], {});\n",
              "          if (!dataTable) return;\n",
              "\n",
              "          const docLinkHtml = 'Like what you see? Visit the ' +\n",
              "            '<a target=\"_blank\" href=https://colab.research.google.com/notebooks/data_table.ipynb>data table notebook</a>'\n",
              "            + ' to learn more about interactive tables.';\n",
              "          element.innerHTML = '';\n",
              "          dataTable['output_type'] = 'display_data';\n",
              "          await google.colab.output.renderOutput(dataTable, element);\n",
              "          const docLink = document.createElement('div');\n",
              "          docLink.innerHTML = docLinkHtml;\n",
              "          element.appendChild(docLink);\n",
              "        }\n",
              "      </script>\n",
              "    </div>\n",
              "  </div>\n",
              "  "
            ],
            "text/plain": [
              "                     Diabetes_binary    HighBP  ... Education    Income\n",
              "Diabetes_binary             0.999972  0.381471  ...  0.173472  0.233325\n",
              "HighBP                      0.381471  0.999971  ...  0.144578  0.198216\n",
              "HighChol                    0.289162  0.316466  ...  0.084759  0.111766\n",
              "CholCheck                    0.11523  0.103124  ...  0.007366       0.0\n",
              "Smoker                      0.085889  0.087329  ...  0.164007  0.115921\n",
              "Stroke                      0.125313  0.128947  ...  0.076245  0.137563\n",
              "HeartDiseaseorAttack        0.211452  0.210678  ...  0.097944  0.149964\n",
              "PhysActivity                0.158591   0.13602  ...  0.194184  0.202555\n",
              "Fruits                      0.053917   0.04065  ...  0.105919  0.080944\n",
              "Veggies                      0.07917  0.066483  ...  0.154883  0.156458\n",
              "HvyAlcoholConsump           0.094709  0.026696  ...  0.036785  0.066238\n",
              "AnyHealthcare               0.022815  0.035497  ...  0.108314  0.133339\n",
              "NoDocbcCost                 0.040755    0.0262  ...  0.104486  0.198535\n",
              "GenHlth                     0.417135  0.328611  ...  0.150413  0.203369\n",
              "DiffWalk                    0.272589  0.234723  ...  0.208486  0.344189\n",
              "Sex                         0.044225  0.040617  ...  0.059492  0.159844\n",
              "Age                         0.295364   0.34953  ...  0.064986   0.09592\n",
              "Education                   0.173472  0.144578  ...       1.0  0.223364\n",
              "Income                      0.233325  0.198216  ...  0.223364       1.0\n",
              "\n",
              "[19 rows x 19 columns]"
            ]
          },
          "metadata": {},
          "execution_count": 15
        }
      ]
    },
    {
      "cell_type": "markdown",
      "source": [
        "I will drop several variables that have very low correlation with the target: Smoker, Fruits, Veggies, HvyAlcoholConsump, AnyHealthcare, NoDocbcCost, Sex as Cramer V's values below 0.1 indicate no to very weak relationship. This also helps with the model's performance."
      ],
      "metadata": {
        "id": "ADmhzjmTxbS2"
      }
    },
    {
      "cell_type": "code",
      "source": [
        "data = data.drop(columns=['Smoker', 'Fruits', 'Veggies', 'HvyAlcoholConsump', 'AnyHealthcare', 'NoDocbcCost', 'Sex'])"
      ],
      "metadata": {
        "id": "9z1PhDyHJ4Tu"
      },
      "execution_count": 16,
      "outputs": []
    },
    {
      "cell_type": "code",
      "source": [
        "data"
      ],
      "metadata": {
        "colab": {
          "base_uri": "https://localhost:8080/",
          "height": 487
        },
        "id": "p-0FQOOELil_",
        "outputId": "742aa09b-d2a5-4dfc-fdd7-6bc0d08c5991"
      },
      "execution_count": 17,
      "outputs": [
        {
          "output_type": "execute_result",
          "data": {
            "text/html": [
              "\n",
              "  <div id=\"df-e69f369a-229c-4219-a685-a577e3432a87\">\n",
              "    <div class=\"colab-df-container\">\n",
              "      <div>\n",
              "<style scoped>\n",
              "    .dataframe tbody tr th:only-of-type {\n",
              "        vertical-align: middle;\n",
              "    }\n",
              "\n",
              "    .dataframe tbody tr th {\n",
              "        vertical-align: top;\n",
              "    }\n",
              "\n",
              "    .dataframe thead th {\n",
              "        text-align: right;\n",
              "    }\n",
              "</style>\n",
              "<table border=\"1\" class=\"dataframe\">\n",
              "  <thead>\n",
              "    <tr style=\"text-align: right;\">\n",
              "      <th></th>\n",
              "      <th>Diabetes_binary</th>\n",
              "      <th>HighBP</th>\n",
              "      <th>HighChol</th>\n",
              "      <th>CholCheck</th>\n",
              "      <th>BMI</th>\n",
              "      <th>Stroke</th>\n",
              "      <th>HeartDiseaseorAttack</th>\n",
              "      <th>PhysActivity</th>\n",
              "      <th>GenHlth</th>\n",
              "      <th>MentHlth</th>\n",
              "      <th>PhysHlth</th>\n",
              "      <th>DiffWalk</th>\n",
              "      <th>Age</th>\n",
              "      <th>Education</th>\n",
              "      <th>Income</th>\n",
              "    </tr>\n",
              "  </thead>\n",
              "  <tbody>\n",
              "    <tr>\n",
              "      <th>0</th>\n",
              "      <td>0.0</td>\n",
              "      <td>1.0</td>\n",
              "      <td>0.0</td>\n",
              "      <td>1.0</td>\n",
              "      <td>26.0</td>\n",
              "      <td>0.0</td>\n",
              "      <td>0.0</td>\n",
              "      <td>1.0</td>\n",
              "      <td>3.0</td>\n",
              "      <td>5.0</td>\n",
              "      <td>30.0</td>\n",
              "      <td>0.0</td>\n",
              "      <td>4.0</td>\n",
              "      <td>6.0</td>\n",
              "      <td>8.0</td>\n",
              "    </tr>\n",
              "    <tr>\n",
              "      <th>1</th>\n",
              "      <td>0.0</td>\n",
              "      <td>1.0</td>\n",
              "      <td>1.0</td>\n",
              "      <td>1.0</td>\n",
              "      <td>26.0</td>\n",
              "      <td>1.0</td>\n",
              "      <td>0.0</td>\n",
              "      <td>0.0</td>\n",
              "      <td>3.0</td>\n",
              "      <td>0.0</td>\n",
              "      <td>0.0</td>\n",
              "      <td>0.0</td>\n",
              "      <td>12.0</td>\n",
              "      <td>6.0</td>\n",
              "      <td>8.0</td>\n",
              "    </tr>\n",
              "    <tr>\n",
              "      <th>2</th>\n",
              "      <td>0.0</td>\n",
              "      <td>0.0</td>\n",
              "      <td>0.0</td>\n",
              "      <td>1.0</td>\n",
              "      <td>26.0</td>\n",
              "      <td>0.0</td>\n",
              "      <td>0.0</td>\n",
              "      <td>1.0</td>\n",
              "      <td>1.0</td>\n",
              "      <td>0.0</td>\n",
              "      <td>10.0</td>\n",
              "      <td>0.0</td>\n",
              "      <td>13.0</td>\n",
              "      <td>6.0</td>\n",
              "      <td>8.0</td>\n",
              "    </tr>\n",
              "    <tr>\n",
              "      <th>3</th>\n",
              "      <td>0.0</td>\n",
              "      <td>1.0</td>\n",
              "      <td>1.0</td>\n",
              "      <td>1.0</td>\n",
              "      <td>28.0</td>\n",
              "      <td>0.0</td>\n",
              "      <td>0.0</td>\n",
              "      <td>1.0</td>\n",
              "      <td>3.0</td>\n",
              "      <td>0.0</td>\n",
              "      <td>3.0</td>\n",
              "      <td>0.0</td>\n",
              "      <td>11.0</td>\n",
              "      <td>6.0</td>\n",
              "      <td>8.0</td>\n",
              "    </tr>\n",
              "    <tr>\n",
              "      <th>4</th>\n",
              "      <td>0.0</td>\n",
              "      <td>0.0</td>\n",
              "      <td>0.0</td>\n",
              "      <td>1.0</td>\n",
              "      <td>29.0</td>\n",
              "      <td>0.0</td>\n",
              "      <td>0.0</td>\n",
              "      <td>1.0</td>\n",
              "      <td>2.0</td>\n",
              "      <td>0.0</td>\n",
              "      <td>0.0</td>\n",
              "      <td>0.0</td>\n",
              "      <td>8.0</td>\n",
              "      <td>5.0</td>\n",
              "      <td>8.0</td>\n",
              "    </tr>\n",
              "    <tr>\n",
              "      <th>...</th>\n",
              "      <td>...</td>\n",
              "      <td>...</td>\n",
              "      <td>...</td>\n",
              "      <td>...</td>\n",
              "      <td>...</td>\n",
              "      <td>...</td>\n",
              "      <td>...</td>\n",
              "      <td>...</td>\n",
              "      <td>...</td>\n",
              "      <td>...</td>\n",
              "      <td>...</td>\n",
              "      <td>...</td>\n",
              "      <td>...</td>\n",
              "      <td>...</td>\n",
              "      <td>...</td>\n",
              "    </tr>\n",
              "    <tr>\n",
              "      <th>70687</th>\n",
              "      <td>1.0</td>\n",
              "      <td>0.0</td>\n",
              "      <td>1.0</td>\n",
              "      <td>1.0</td>\n",
              "      <td>37.0</td>\n",
              "      <td>0.0</td>\n",
              "      <td>0.0</td>\n",
              "      <td>0.0</td>\n",
              "      <td>4.0</td>\n",
              "      <td>0.0</td>\n",
              "      <td>0.0</td>\n",
              "      <td>0.0</td>\n",
              "      <td>6.0</td>\n",
              "      <td>4.0</td>\n",
              "      <td>1.0</td>\n",
              "    </tr>\n",
              "    <tr>\n",
              "      <th>70688</th>\n",
              "      <td>1.0</td>\n",
              "      <td>0.0</td>\n",
              "      <td>1.0</td>\n",
              "      <td>1.0</td>\n",
              "      <td>29.0</td>\n",
              "      <td>0.0</td>\n",
              "      <td>1.0</td>\n",
              "      <td>0.0</td>\n",
              "      <td>2.0</td>\n",
              "      <td>0.0</td>\n",
              "      <td>0.0</td>\n",
              "      <td>1.0</td>\n",
              "      <td>10.0</td>\n",
              "      <td>3.0</td>\n",
              "      <td>6.0</td>\n",
              "    </tr>\n",
              "    <tr>\n",
              "      <th>70689</th>\n",
              "      <td>1.0</td>\n",
              "      <td>1.0</td>\n",
              "      <td>1.0</td>\n",
              "      <td>1.0</td>\n",
              "      <td>25.0</td>\n",
              "      <td>0.0</td>\n",
              "      <td>1.0</td>\n",
              "      <td>0.0</td>\n",
              "      <td>5.0</td>\n",
              "      <td>15.0</td>\n",
              "      <td>0.0</td>\n",
              "      <td>1.0</td>\n",
              "      <td>13.0</td>\n",
              "      <td>6.0</td>\n",
              "      <td>4.0</td>\n",
              "    </tr>\n",
              "    <tr>\n",
              "      <th>70690</th>\n",
              "      <td>1.0</td>\n",
              "      <td>1.0</td>\n",
              "      <td>1.0</td>\n",
              "      <td>1.0</td>\n",
              "      <td>18.0</td>\n",
              "      <td>0.0</td>\n",
              "      <td>0.0</td>\n",
              "      <td>0.0</td>\n",
              "      <td>4.0</td>\n",
              "      <td>0.0</td>\n",
              "      <td>0.0</td>\n",
              "      <td>1.0</td>\n",
              "      <td>11.0</td>\n",
              "      <td>2.0</td>\n",
              "      <td>4.0</td>\n",
              "    </tr>\n",
              "    <tr>\n",
              "      <th>70691</th>\n",
              "      <td>1.0</td>\n",
              "      <td>1.0</td>\n",
              "      <td>1.0</td>\n",
              "      <td>1.0</td>\n",
              "      <td>25.0</td>\n",
              "      <td>0.0</td>\n",
              "      <td>1.0</td>\n",
              "      <td>1.0</td>\n",
              "      <td>2.0</td>\n",
              "      <td>0.0</td>\n",
              "      <td>0.0</td>\n",
              "      <td>0.0</td>\n",
              "      <td>9.0</td>\n",
              "      <td>6.0</td>\n",
              "      <td>2.0</td>\n",
              "    </tr>\n",
              "  </tbody>\n",
              "</table>\n",
              "<p>70692 rows × 15 columns</p>\n",
              "</div>\n",
              "      <button class=\"colab-df-convert\" onclick=\"convertToInteractive('df-e69f369a-229c-4219-a685-a577e3432a87')\"\n",
              "              title=\"Convert this dataframe to an interactive table.\"\n",
              "              style=\"display:none;\">\n",
              "        \n",
              "  <svg xmlns=\"http://www.w3.org/2000/svg\" height=\"24px\"viewBox=\"0 0 24 24\"\n",
              "       width=\"24px\">\n",
              "    <path d=\"M0 0h24v24H0V0z\" fill=\"none\"/>\n",
              "    <path d=\"M18.56 5.44l.94 2.06.94-2.06 2.06-.94-2.06-.94-.94-2.06-.94 2.06-2.06.94zm-11 1L8.5 8.5l.94-2.06 2.06-.94-2.06-.94L8.5 2.5l-.94 2.06-2.06.94zm10 10l.94 2.06.94-2.06 2.06-.94-2.06-.94-.94-2.06-.94 2.06-2.06.94z\"/><path d=\"M17.41 7.96l-1.37-1.37c-.4-.4-.92-.59-1.43-.59-.52 0-1.04.2-1.43.59L10.3 9.45l-7.72 7.72c-.78.78-.78 2.05 0 2.83L4 21.41c.39.39.9.59 1.41.59.51 0 1.02-.2 1.41-.59l7.78-7.78 2.81-2.81c.8-.78.8-2.07 0-2.86zM5.41 20L4 18.59l7.72-7.72 1.47 1.35L5.41 20z\"/>\n",
              "  </svg>\n",
              "      </button>\n",
              "      \n",
              "  <style>\n",
              "    .colab-df-container {\n",
              "      display:flex;\n",
              "      flex-wrap:wrap;\n",
              "      gap: 12px;\n",
              "    }\n",
              "\n",
              "    .colab-df-convert {\n",
              "      background-color: #E8F0FE;\n",
              "      border: none;\n",
              "      border-radius: 50%;\n",
              "      cursor: pointer;\n",
              "      display: none;\n",
              "      fill: #1967D2;\n",
              "      height: 32px;\n",
              "      padding: 0 0 0 0;\n",
              "      width: 32px;\n",
              "    }\n",
              "\n",
              "    .colab-df-convert:hover {\n",
              "      background-color: #E2EBFA;\n",
              "      box-shadow: 0px 1px 2px rgba(60, 64, 67, 0.3), 0px 1px 3px 1px rgba(60, 64, 67, 0.15);\n",
              "      fill: #174EA6;\n",
              "    }\n",
              "\n",
              "    [theme=dark] .colab-df-convert {\n",
              "      background-color: #3B4455;\n",
              "      fill: #D2E3FC;\n",
              "    }\n",
              "\n",
              "    [theme=dark] .colab-df-convert:hover {\n",
              "      background-color: #434B5C;\n",
              "      box-shadow: 0px 1px 3px 1px rgba(0, 0, 0, 0.15);\n",
              "      filter: drop-shadow(0px 1px 2px rgba(0, 0, 0, 0.3));\n",
              "      fill: #FFFFFF;\n",
              "    }\n",
              "  </style>\n",
              "\n",
              "      <script>\n",
              "        const buttonEl =\n",
              "          document.querySelector('#df-e69f369a-229c-4219-a685-a577e3432a87 button.colab-df-convert');\n",
              "        buttonEl.style.display =\n",
              "          google.colab.kernel.accessAllowed ? 'block' : 'none';\n",
              "\n",
              "        async function convertToInteractive(key) {\n",
              "          const element = document.querySelector('#df-e69f369a-229c-4219-a685-a577e3432a87');\n",
              "          const dataTable =\n",
              "            await google.colab.kernel.invokeFunction('convertToInteractive',\n",
              "                                                     [key], {});\n",
              "          if (!dataTable) return;\n",
              "\n",
              "          const docLinkHtml = 'Like what you see? Visit the ' +\n",
              "            '<a target=\"_blank\" href=https://colab.research.google.com/notebooks/data_table.ipynb>data table notebook</a>'\n",
              "            + ' to learn more about interactive tables.';\n",
              "          element.innerHTML = '';\n",
              "          dataTable['output_type'] = 'display_data';\n",
              "          await google.colab.output.renderOutput(dataTable, element);\n",
              "          const docLink = document.createElement('div');\n",
              "          docLink.innerHTML = docLinkHtml;\n",
              "          element.appendChild(docLink);\n",
              "        }\n",
              "      </script>\n",
              "    </div>\n",
              "  </div>\n",
              "  "
            ],
            "text/plain": [
              "       Diabetes_binary  HighBP  HighChol  ...   Age  Education  Income\n",
              "0                  0.0     1.0       0.0  ...   4.0        6.0     8.0\n",
              "1                  0.0     1.0       1.0  ...  12.0        6.0     8.0\n",
              "2                  0.0     0.0       0.0  ...  13.0        6.0     8.0\n",
              "3                  0.0     1.0       1.0  ...  11.0        6.0     8.0\n",
              "4                  0.0     0.0       0.0  ...   8.0        5.0     8.0\n",
              "...                ...     ...       ...  ...   ...        ...     ...\n",
              "70687              1.0     0.0       1.0  ...   6.0        4.0     1.0\n",
              "70688              1.0     0.0       1.0  ...  10.0        3.0     6.0\n",
              "70689              1.0     1.0       1.0  ...  13.0        6.0     4.0\n",
              "70690              1.0     1.0       1.0  ...  11.0        2.0     4.0\n",
              "70691              1.0     1.0       1.0  ...   9.0        6.0     2.0\n",
              "\n",
              "[70692 rows x 15 columns]"
            ]
          },
          "metadata": {},
          "execution_count": 17
        }
      ]
    },
    {
      "cell_type": "markdown",
      "source": [
        "## Data Understanding"
      ],
      "metadata": {
        "id": "ASsPYQ9Ii9Lm"
      }
    },
    {
      "cell_type": "markdown",
      "source": [
        "I am going to visualize each feature's count of each Diabetes status category. "
      ],
      "metadata": {
        "id": "jaIYEJukj8Bq"
      }
    },
    {
      "cell_type": "code",
      "source": [
        "# group Diabetes_binary & HighBP\n",
        "diabetes_bp = data.groupby(['Diabetes_binary', 'HighBP']).size().reset_index(name = 'Count')\n",
        "print(diabetes_bp)\n",
        "# visualize \n",
        "plt.figure(figsize = (8,6))\n",
        "sns.barplot(x = 'Diabetes_binary', y = 'Count', hue = 'HighBP', data = diabetes_bp)\n",
        "plt.title(\"Diabetes Status - High Blood Pressure\")\n",
        "plt.show()"
      ],
      "metadata": {
        "colab": {
          "base_uri": "https://localhost:8080/",
          "height": 492
        },
        "id": "hkAA4opZi_RI",
        "outputId": "ad8d5c7a-4491-410d-afe5-f24a5cf3e1d9"
      },
      "execution_count": 18,
      "outputs": [
        {
          "output_type": "stream",
          "name": "stdout",
          "text": [
            "   Diabetes_binary  HighBP  Count\n",
            "0              0.0     0.0  22118\n",
            "1              0.0     1.0  13228\n",
            "2              1.0     0.0   8742\n",
            "3              1.0     1.0  26604\n"
          ]
        },
        {
          "output_type": "display_data",
          "data": {
            "image/png": "[encoded data removed]",
            "text/plain": [
              "<Figure size 576x432 with 1 Axes>"
            ]
          },
          "metadata": {
            "needs_background": "light"
          }
        }
      ]
    },
    {
      "cell_type": "code",
      "source": [
        "# group Diabetes_binary & HighChol\n",
        "diabetes_hc = data.groupby(['Diabetes_binary', 'HighChol']).size().reset_index(name = 'Count')\n",
        "print(diabetes_hc)\n",
        "# visualize \n",
        "plt.figure(figsize = (8,6))\n",
        "sns.barplot(x = 'Diabetes_binary', y = 'Count', hue = 'HighChol', data = diabetes_hc)\n",
        "plt.title(\"Diabetes Status - High Cholesterol\")\n",
        "plt.show()"
      ],
      "metadata": {
        "colab": {
          "base_uri": "https://localhost:8080/",
          "height": 492
        },
        "id": "AZTb-r4gn5YR",
        "outputId": "20b912c3-79b5-4ff7-8102-3f4794861f8b"
      },
      "execution_count": 19,
      "outputs": [
        {
          "output_type": "stream",
          "name": "stdout",
          "text": [
            "   Diabetes_binary  HighChol  Count\n",
            "0              0.0       0.0  21869\n",
            "1              0.0       1.0  13477\n",
            "2              1.0       0.0  11660\n",
            "3              1.0       1.0  23686\n"
          ]
        },
        {
          "output_type": "display_data",
          "data": {
            "image/png": "[encoded data removed]",
            "text/plain": [
              "<Figure size 576x432 with 1 Axes>"
            ]
          },
          "metadata": {
            "needs_background": "light"
          }
        }
      ]
    },
    {
      "cell_type": "code",
      "source": [
        "# group Diabetes_binary & CholCheck\n",
        "diabetes_cc = data.groupby(['Diabetes_binary', 'CholCheck']).size().reset_index(name = 'Count')\n",
        "print(diabetes_cc)\n",
        "# visualize\n",
        "plt.figure(figsize = (8,6))\n",
        "sns.barplot(x = 'Diabetes_binary', y = 'Count', hue = 'CholCheck', data = diabetes_cc)\n",
        "plt.title(\"Diabetes Status - Choleterol Check\")\n",
        "plt.show()"
      ],
      "metadata": {
        "colab": {
          "base_uri": "https://localhost:8080/",
          "height": 492
        },
        "id": "oZczYJqykSr-",
        "outputId": "f64b6fb4-c7f5-4daf-a65a-15d6a83a3628"
      },
      "execution_count": 20,
      "outputs": [
        {
          "output_type": "stream",
          "name": "stdout",
          "text": [
            "   Diabetes_binary  CholCheck  Count\n",
            "0              0.0        0.0   1508\n",
            "1              0.0        1.0  33838\n",
            "2              1.0        0.0    241\n",
            "3              1.0        1.0  35105\n"
          ]
        },
        {
          "output_type": "display_data",
          "data": {
            "image/png": "[encoded data removed]",
            "text/plain": [
              "<Figure size 576x432 with 1 Axes>"
            ]
          },
          "metadata": {
            "needs_background": "light"
          }
        }
      ]
    },
    {
      "cell_type": "code",
      "source": [
        "# visualize diabetes status ~ BMI\n",
        "plt.figure(figsize = (8,6))\n",
        "sns.boxplot(data = data, x = 'Diabetes_binary', y = 'BMI')\n",
        "plt.title(\"Diabetes Status - BMI\")\n",
        "plt.show()"
      ],
      "metadata": {
        "colab": {
          "base_uri": "https://localhost:8080/",
          "height": 405
        },
        "id": "xKwu4CvuoPV5",
        "outputId": "5ecd3f33-f399-4696-d90d-10bd974da2d4"
      },
      "execution_count": 21,
      "outputs": [
        {
          "output_type": "display_data",
          "data": {
            "image/png": "[encoded data removed]",
            "text/plain": [
              "<Figure size 576x432 with 1 Axes>"
            ]
          },
          "metadata": {
            "needs_background": "light"
          }
        }
      ]
    },
    {
      "cell_type": "code",
      "source": [
        "# group Diabetes_binary & Stroke\n",
        "diabetes_st = data.groupby(['Diabetes_binary', 'Stroke']).size().reset_index(name = 'Count')\n",
        "print(diabetes_st)\n",
        "# visualize\n",
        "plt.figure(figsize = (8,6))\n",
        "sns.barplot(x = 'Diabetes_binary', y = 'Count', hue = 'Stroke', data = diabetes_st)\n",
        "plt.title(\"Diabetes Status - Stroke\")\n",
        "plt.show()"
      ],
      "metadata": {
        "colab": {
          "base_uri": "https://localhost:8080/",
          "height": 492
        },
        "id": "VwUdrALeo0S1",
        "outputId": "c89c54bc-1dee-4570-8545-1c5d77b25012"
      },
      "execution_count": 22,
      "outputs": [
        {
          "output_type": "stream",
          "name": "stdout",
          "text": [
            "   Diabetes_binary  Stroke  Count\n",
            "0              0.0     0.0  34219\n",
            "1              0.0     1.0   1127\n",
            "2              1.0     0.0  32078\n",
            "3              1.0     1.0   3268\n"
          ]
        },
        {
          "output_type": "display_data",
          "data": {
            "image/png": "[encoded data removed]",
            "text/plain": [
              "<Figure size 576x432 with 1 Axes>"
            ]
          },
          "metadata": {
            "needs_background": "light"
          }
        }
      ]
    },
    {
      "cell_type": "code",
      "source": [
        "# group Diabetes_binary & HeartDiseaseorAttack\n",
        "diabetes_hd = data.groupby(['Diabetes_binary', 'HeartDiseaseorAttack']).size().reset_index(name = 'Count')\n",
        "print(diabetes_hd)\n",
        "# visualize\n",
        "plt.figure(figsize = (8,6))\n",
        "sns.barplot(x = 'Diabetes_binary', y = 'Count', hue = 'HeartDiseaseorAttack', data = diabetes_hd)\n",
        "plt.title(\"Diabetes Status - Heart Disease or Attack\")\n",
        "plt.show()"
      ],
      "metadata": {
        "colab": {
          "base_uri": "https://localhost:8080/",
          "height": 492
        },
        "id": "E3iWBFC4prLB",
        "outputId": "99283aeb-283b-4ea7-e1e8-747ebe0c3291"
      },
      "execution_count": 23,
      "outputs": [
        {
          "output_type": "stream",
          "name": "stdout",
          "text": [
            "   Diabetes_binary  HeartDiseaseorAttack  Count\n",
            "0              0.0                   0.0  32775\n",
            "1              0.0                   1.0   2571\n",
            "2              1.0                   0.0  27468\n",
            "3              1.0                   1.0   7878\n"
          ]
        },
        {
          "output_type": "display_data",
          "data": {
            "image/png": "[encoded data removed]",
            "text/plain": [
              "<Figure size 576x432 with 1 Axes>"
            ]
          },
          "metadata": {
            "needs_background": "light"
          }
        }
      ]
    },
    {
      "cell_type": "code",
      "source": [
        "# group Diabetes_binary & PhysActivity\n",
        "diabetes_pa = data.groupby(['Diabetes_binary', 'PhysActivity']).size().reset_index(name = 'Count')\n",
        "print(diabetes_pa)\n",
        "# visualize\n",
        "plt.figure(figsize = (8,6))\n",
        "sns.barplot(x = 'Diabetes_binary', y = 'Count', hue = 'PhysActivity', data = diabetes_pa)\n",
        "plt.title(\"Diabetes Status - Physical Activity\")\n",
        "plt.show()"
      ],
      "metadata": {
        "colab": {
          "base_uri": "https://localhost:8080/",
          "height": 492
        },
        "id": "vW4gXhdKp1m7",
        "outputId": "86bf6f91-8d96-4c1c-97f5-862cf102000d"
      },
      "execution_count": 24,
      "outputs": [
        {
          "output_type": "stream",
          "name": "stdout",
          "text": [
            "   Diabetes_binary  PhysActivity  Count\n",
            "0              0.0           0.0   7934\n",
            "1              0.0           1.0  27412\n",
            "2              1.0           0.0  13059\n",
            "3              1.0           1.0  22287\n"
          ]
        },
        {
          "output_type": "display_data",
          "data": {
            "image/png": "[encoded data removed]",
            "text/plain": [
              "<Figure size 576x432 with 1 Axes>"
            ]
          },
          "metadata": {
            "needs_background": "light"
          }
        }
      ]
    },
    {
      "cell_type": "code",
      "source": [
        "# group diabetes status & GenHlth\n",
        "diabetes_general = data.groupby(['Diabetes_binary', 'GenHlth']).size().reset_index(name = 'Count')\n",
        "print(diabetes_general)\n",
        "# visualize diabetes status - GenHlth\n",
        "plt.figure(figsize = (8,6))\n",
        "sns.barplot(x = 'Diabetes_binary', y = 'Count', hue = 'GenHlth', data = diabetes_general)\n",
        "plt.title(\"Diabetes Status - General Health\")\n",
        "plt.show()"
      ],
      "metadata": {
        "colab": {
          "base_uri": "https://localhost:8080/",
          "height": 596
        },
        "id": "rtkx_1rBqMXK",
        "outputId": "af8bf936-91df-4ed2-f66d-1b49e7799cc3"
      },
      "execution_count": 25,
      "outputs": [
        {
          "output_type": "stream",
          "name": "stdout",
          "text": [
            "   Diabetes_binary  GenHlth  Count\n",
            "0              0.0      1.0   7142\n",
            "1              0.0      2.0  13491\n",
            "2              0.0      3.0   9970\n",
            "3              0.0      4.0   3513\n",
            "4              0.0      5.0   1230\n",
            "5              1.0      1.0   1140\n",
            "6              1.0      2.0   6381\n",
            "7              1.0      3.0  13457\n",
            "8              1.0      4.0   9790\n",
            "9              1.0      5.0   4578\n"
          ]
        },
        {
          "output_type": "display_data",
          "data": {
            "image/png": "[encoded data removed]",
            "text/plain": [
              "<Figure size 576x432 with 1 Axes>"
            ]
          },
          "metadata": {
            "needs_background": "light"
          }
        }
      ]
    },
    {
      "cell_type": "code",
      "source": [
        "# visualize Diabetes_binary - MentHlth\n",
        "plt.figure(figsize = (8,6))\n",
        "sns.boxplot(data = data, x = 'Diabetes_binary', y = 'MentHlth')\n",
        "plt.title(\"Diabetes Status - Mental Health\")\n",
        "plt.show()"
      ],
      "metadata": {
        "colab": {
          "base_uri": "https://localhost:8080/",
          "height": 405
        },
        "id": "fSR7ub6XrhnL",
        "outputId": "10a31f43-e5fb-42f3-e505-bc9d9d8875dd"
      },
      "execution_count": 26,
      "outputs": [
        {
          "output_type": "display_data",
          "data": {
            "image/png": "[encoded data removed]",
            "text/plain": [
              "<Figure size 576x432 with 1 Axes>"
            ]
          },
          "metadata": {
            "needs_background": "light"
          }
        }
      ]
    },
    {
      "cell_type": "code",
      "source": [
        "# visualize Diabetes_binary - PhysHlth\n",
        "plt.figure(figsize = (8,6))\n",
        "sns.boxplot(data = data, x = 'Diabetes_binary', y = 'PhysHlth')\n",
        "plt.title(\"Diabetes Status - Physical Health\")\n",
        "plt.show()"
      ],
      "metadata": {
        "colab": {
          "base_uri": "https://localhost:8080/",
          "height": 405
        },
        "id": "dT80ne2wsYZX",
        "outputId": "cae602bc-e7e1-488b-f974-194af5805fbe"
      },
      "execution_count": 27,
      "outputs": [
        {
          "output_type": "display_data",
          "data": {
            "image/png": "[encoded data removed]",
            "text/plain": [
              "<Figure size 576x432 with 1 Axes>"
            ]
          },
          "metadata": {
            "needs_background": "light"
          }
        }
      ]
    },
    {
      "cell_type": "code",
      "source": [
        "# group diabetes status & DiffWalk\n",
        "diabetes_dw = data.groupby(['Diabetes_binary', 'DiffWalk']).size().reset_index(name = 'Count')\n",
        "print(diabetes_dw)\n",
        "# visualize diabetes status - GenHlth\n",
        "plt.figure(figsize = (8,6))\n",
        "sns.barplot(x = 'Diabetes_binary', y = 'Count', hue = 'DiffWalk', data = diabetes_dw)\n",
        "plt.title(\"Diabetes Status - Difficulty Walking\")\n",
        "plt.show()"
      ],
      "metadata": {
        "colab": {
          "base_uri": "https://localhost:8080/",
          "height": 492
        },
        "id": "BQomXIXVssM4",
        "outputId": "87f6408f-341f-40de-a0b3-8b04471cad68"
      },
      "execution_count": 28,
      "outputs": [
        {
          "output_type": "stream",
          "name": "stdout",
          "text": [
            "   Diabetes_binary  DiffWalk  Count\n",
            "0              0.0       0.0  30601\n",
            "1              0.0       1.0   4745\n",
            "2              1.0       0.0  22225\n",
            "3              1.0       1.0  13121\n"
          ]
        },
        {
          "output_type": "display_data",
          "data": {
            "image/png": "[encoded data removed]",
            "text/plain": [
              "<Figure size 576x432 with 1 Axes>"
            ]
          },
          "metadata": {
            "needs_background": "light"
          }
        }
      ]
    },
    {
      "cell_type": "code",
      "source": [
        "# visualize diabetes status - age\n",
        "plt.figure(figsize = (8,6))\n",
        "sns.boxplot(data = data, x = 'Diabetes_binary', y = 'Age')\n",
        "plt.title(\"Diabetes Status - Age\")\n",
        "plt.show()"
      ],
      "metadata": {
        "colab": {
          "base_uri": "https://localhost:8080/",
          "height": 405
        },
        "id": "uBTxNtEgs_Gk",
        "outputId": "6227eb4d-aa5a-49d7-a241-b3da273e74d8"
      },
      "execution_count": 29,
      "outputs": [
        {
          "output_type": "display_data",
          "data": {
            "image/png": "[encoded data removed]",
            "text/plain": [
              "<Figure size 576x432 with 1 Axes>"
            ]
          },
          "metadata": {
            "needs_background": "light"
          }
        }
      ]
    },
    {
      "cell_type": "code",
      "source": [
        "# group diabetes status & education\n",
        "diabetes_ed = data.groupby(['Diabetes_binary', 'Education']).size().reset_index(name = 'Count')\n",
        "print(diabetes_ed)\n",
        "# visualize diabetes status ~ education\n",
        "plt.figure(figsize = (8,6))\n",
        "sns.barplot(x = 'Diabetes_binary', y = 'Count', hue = 'Education', data = diabetes_ed)\n",
        "plt.title(\"Diabetes Status - Education\")\n",
        "plt.show()"
      ],
      "metadata": {
        "colab": {
          "base_uri": "https://localhost:8080/",
          "height": 630
        },
        "id": "OzPDhhXqtL5d",
        "outputId": "c44e6f9c-51ca-4469-cc4b-7faf6db34951"
      },
      "execution_count": 30,
      "outputs": [
        {
          "output_type": "stream",
          "name": "stdout",
          "text": [
            "    Diabetes_binary  Education  Count\n",
            "0               0.0        1.0     28\n",
            "1               0.0        2.0    464\n",
            "2               0.0        3.0   1151\n",
            "3               0.0        4.0   8407\n",
            "4               0.0        5.0   9676\n",
            "5               0.0        6.0  15620\n",
            "6               1.0        1.0     47\n",
            "7               1.0        2.0   1183\n",
            "8               1.0        3.0   2296\n",
            "9               1.0        4.0  11066\n",
            "10              1.0        5.0  10354\n",
            "11              1.0        6.0  10400\n"
          ]
        },
        {
          "output_type": "display_data",
          "data": {
            "image/png": "[encoded data removed]",
            "text/plain": [
              "<Figure size 576x432 with 1 Axes>"
            ]
          },
          "metadata": {
            "needs_background": "light"
          }
        }
      ]
    },
    {
      "cell_type": "code",
      "source": [
        "#group diabetes status & income\n",
        "diabetes_income = data.groupby(['Diabetes_binary', 'Income']).size().reset_index(name = 'Count')\n",
        "print(diabetes_income)\n",
        "#visualize diabetes status ~ income\n",
        "plt.figure(figsize = (8,6))\n",
        "sns.barplot(x = 'Diabetes_binary', y = 'Count', hue = 'Income', data = diabetes_income)\n",
        "plt.title(\"Diabetes Status - Income\")\n",
        "plt.show()"
      ],
      "metadata": {
        "colab": {
          "base_uri": "https://localhost:8080/",
          "height": 700
        },
        "id": "tJyo0s13tu3z",
        "outputId": "1d294f95-f695-4378-cb91-1ba6fe805831"
      },
      "execution_count": 31,
      "outputs": [
        {
          "output_type": "stream",
          "name": "stdout",
          "text": [
            "    Diabetes_binary  Income  Count\n",
            "0               0.0     1.0   1228\n",
            "1               0.0     2.0   1412\n",
            "2               0.0     3.0   1989\n",
            "3               0.0     4.0   2604\n",
            "4               0.0     5.0   3506\n",
            "5               0.0     6.0   4996\n",
            "6               0.0     7.0   6160\n",
            "7               0.0     8.0  13451\n",
            "8               1.0     1.0   2383\n",
            "9               1.0     2.0   3086\n",
            "10              1.0     3.0   3568\n",
            "11              1.0     4.0   4054\n",
            "12              1.0     5.0   4504\n",
            "13              1.0     6.0   5291\n",
            "14              1.0     7.0   5265\n",
            "15              1.0     8.0   7195\n"
          ]
        },
        {
          "output_type": "display_data",
          "data": {
            "image/png": "[encoded data removed]",
            "text/plain": [
              "<Figure size 576x432 with 1 Axes>"
            ]
          },
          "metadata": {
            "needs_background": "light"
          }
        }
      ]
    },
    {
      "cell_type": "markdown",
      "source": [
        "## Modeling & Evaluating Results"
      ],
      "metadata": {
        "id": "x5n06M5YO0Im"
      }
    },
    {
      "cell_type": "markdown",
      "source": [
        "### 1. Naive Bayes"
      ],
      "metadata": {
        "id": "4PNIG7ImwLUA"
      }
    },
    {
      "cell_type": "markdown",
      "source": [
        "I am going to start with Naive Bayes because this is a fairly simple technique to use and it works well with a large data set. Based on Bayes' Theorem, this method assumes that the variables are independent of each other.\n",
        "Because my data set has a mix of numerical and categorical data, I will need to preprocess the data by converting the continuous variables (BMI, MentHlth, PhysHlth) into bins. I am going to use Categorical NB for this as it assumes that the data has categorical distribution and each category is encoded ordinally."
      ],
      "metadata": {
        "id": "zjlSU38oXEOT"
      }
    },
    {
      "cell_type": "code",
      "source": [
        "# import sklearn Naive Bayes package\n",
        "from sklearn.naive_bayes import CategoricalNB"
      ],
      "metadata": {
        "id": "O4zqJ702rxDS"
      },
      "execution_count": 32,
      "outputs": []
    },
    {
      "cell_type": "code",
      "source": [
        "# make a copy of the original dataframe\n",
        "data3 = data.copy()\n",
        "data3"
      ],
      "metadata": {
        "colab": {
          "base_uri": "https://localhost:8080/",
          "height": 487
        },
        "id": "GfHEm6fpvkwd",
        "outputId": "4dc79a25-dd87-461a-e703-df031586018c"
      },
      "execution_count": 33,
      "outputs": [
        {
          "output_type": "execute_result",
          "data": {
            "text/html": [
              "\n",
              "  <div id=\"df-83112a8e-09db-4536-909d-006ba5915ce6\">\n",
              "    <div class=\"colab-df-container\">\n",
              "      <div>\n",
              "<style scoped>\n",
              "    .dataframe tbody tr th:only-of-type {\n",
              "        vertical-align: middle;\n",
              "    }\n",
              "\n",
              "    .dataframe tbody tr th {\n",
              "        vertical-align: top;\n",
              "    }\n",
              "\n",
              "    .dataframe thead th {\n",
              "        text-align: right;\n",
              "    }\n",
              "</style>\n",
              "<table border=\"1\" class=\"dataframe\">\n",
              "  <thead>\n",
              "    <tr style=\"text-align: right;\">\n",
              "      <th></th>\n",
              "      <th>Diabetes_binary</th>\n",
              "      <th>HighBP</th>\n",
              "      <th>HighChol</th>\n",
              "      <th>CholCheck</th>\n",
              "      <th>BMI</th>\n",
              "      <th>Stroke</th>\n",
              "      <th>HeartDiseaseorAttack</th>\n",
              "      <th>PhysActivity</th>\n",
              "      <th>GenHlth</th>\n",
              "      <th>MentHlth</th>\n",
              "      <th>PhysHlth</th>\n",
              "      <th>DiffWalk</th>\n",
              "      <th>Age</th>\n",
              "      <th>Education</th>\n",
              "      <th>Income</th>\n",
              "    </tr>\n",
              "  </thead>\n",
              "  <tbody>\n",
              "    <tr>\n",
              "      <th>0</th>\n",
              "      <td>0.0</td>\n",
              "      <td>1.0</td>\n",
              "      <td>0.0</td>\n",
              "      <td>1.0</td>\n",
              "      <td>26.0</td>\n",
              "      <td>0.0</td>\n",
              "      <td>0.0</td>\n",
              "      <td>1.0</td>\n",
              "      <td>3.0</td>\n",
              "      <td>5.0</td>\n",
              "      <td>30.0</td>\n",
              "      <td>0.0</td>\n",
              "      <td>4.0</td>\n",
              "      <td>6.0</td>\n",
              "      <td>8.0</td>\n",
              "    </tr>\n",
              "    <tr>\n",
              "      <th>1</th>\n",
              "      <td>0.0</td>\n",
              "      <td>1.0</td>\n",
              "      <td>1.0</td>\n",
              "      <td>1.0</td>\n",
              "      <td>26.0</td>\n",
              "      <td>1.0</td>\n",
              "      <td>0.0</td>\n",
              "      <td>0.0</td>\n",
              "      <td>3.0</td>\n",
              "      <td>0.0</td>\n",
              "      <td>0.0</td>\n",
              "      <td>0.0</td>\n",
              "      <td>12.0</td>\n",
              "      <td>6.0</td>\n",
              "      <td>8.0</td>\n",
              "    </tr>\n",
              "    <tr>\n",
              "      <th>2</th>\n",
              "      <td>0.0</td>\n",
              "      <td>0.0</td>\n",
              "      <td>0.0</td>\n",
              "      <td>1.0</td>\n",
              "      <td>26.0</td>\n",
              "      <td>0.0</td>\n",
              "      <td>0.0</td>\n",
              "      <td>1.0</td>\n",
              "      <td>1.0</td>\n",
              "      <td>0.0</td>\n",
              "      <td>10.0</td>\n",
              "      <td>0.0</td>\n",
              "      <td>13.0</td>\n",
              "      <td>6.0</td>\n",
              "      <td>8.0</td>\n",
              "    </tr>\n",
              "    <tr>\n",
              "      <th>3</th>\n",
              "      <td>0.0</td>\n",
              "      <td>1.0</td>\n",
              "      <td>1.0</td>\n",
              "      <td>1.0</td>\n",
              "      <td>28.0</td>\n",
              "      <td>0.0</td>\n",
              "      <td>0.0</td>\n",
              "      <td>1.0</td>\n",
              "      <td>3.0</td>\n",
              "      <td>0.0</td>\n",
              "      <td>3.0</td>\n",
              "      <td>0.0</td>\n",
              "      <td>11.0</td>\n",
              "      <td>6.0</td>\n",
              "      <td>8.0</td>\n",
              "    </tr>\n",
              "    <tr>\n",
              "      <th>4</th>\n",
              "      <td>0.0</td>\n",
              "      <td>0.0</td>\n",
              "      <td>0.0</td>\n",
              "      <td>1.0</td>\n",
              "      <td>29.0</td>\n",
              "      <td>0.0</td>\n",
              "      <td>0.0</td>\n",
              "      <td>1.0</td>\n",
              "      <td>2.0</td>\n",
              "      <td>0.0</td>\n",
              "      <td>0.0</td>\n",
              "      <td>0.0</td>\n",
              "      <td>8.0</td>\n",
              "      <td>5.0</td>\n",
              "      <td>8.0</td>\n",
              "    </tr>\n",
              "    <tr>\n",
              "      <th>...</th>\n",
              "      <td>...</td>\n",
              "      <td>...</td>\n",
              "      <td>...</td>\n",
              "      <td>...</td>\n",
              "      <td>...</td>\n",
              "      <td>...</td>\n",
              "      <td>...</td>\n",
              "      <td>...</td>\n",
              "      <td>...</td>\n",
              "      <td>...</td>\n",
              "      <td>...</td>\n",
              "      <td>...</td>\n",
              "      <td>...</td>\n",
              "      <td>...</td>\n",
              "      <td>...</td>\n",
              "    </tr>\n",
              "    <tr>\n",
              "      <th>70687</th>\n",
              "      <td>1.0</td>\n",
              "      <td>0.0</td>\n",
              "      <td>1.0</td>\n",
              "      <td>1.0</td>\n",
              "      <td>37.0</td>\n",
              "      <td>0.0</td>\n",
              "      <td>0.0</td>\n",
              "      <td>0.0</td>\n",
              "      <td>4.0</td>\n",
              "      <td>0.0</td>\n",
              "      <td>0.0</td>\n",
              "      <td>0.0</td>\n",
              "      <td>6.0</td>\n",
              "      <td>4.0</td>\n",
              "      <td>1.0</td>\n",
              "    </tr>\n",
              "    <tr>\n",
              "      <th>70688</th>\n",
              "      <td>1.0</td>\n",
              "      <td>0.0</td>\n",
              "      <td>1.0</td>\n",
              "      <td>1.0</td>\n",
              "      <td>29.0</td>\n",
              "      <td>0.0</td>\n",
              "      <td>1.0</td>\n",
              "      <td>0.0</td>\n",
              "      <td>2.0</td>\n",
              "      <td>0.0</td>\n",
              "      <td>0.0</td>\n",
              "      <td>1.0</td>\n",
              "      <td>10.0</td>\n",
              "      <td>3.0</td>\n",
              "      <td>6.0</td>\n",
              "    </tr>\n",
              "    <tr>\n",
              "      <th>70689</th>\n",
              "      <td>1.0</td>\n",
              "      <td>1.0</td>\n",
              "      <td>1.0</td>\n",
              "      <td>1.0</td>\n",
              "      <td>25.0</td>\n",
              "      <td>0.0</td>\n",
              "      <td>1.0</td>\n",
              "      <td>0.0</td>\n",
              "      <td>5.0</td>\n",
              "      <td>15.0</td>\n",
              "      <td>0.0</td>\n",
              "      <td>1.0</td>\n",
              "      <td>13.0</td>\n",
              "      <td>6.0</td>\n",
              "      <td>4.0</td>\n",
              "    </tr>\n",
              "    <tr>\n",
              "      <th>70690</th>\n",
              "      <td>1.0</td>\n",
              "      <td>1.0</td>\n",
              "      <td>1.0</td>\n",
              "      <td>1.0</td>\n",
              "      <td>18.0</td>\n",
              "      <td>0.0</td>\n",
              "      <td>0.0</td>\n",
              "      <td>0.0</td>\n",
              "      <td>4.0</td>\n",
              "      <td>0.0</td>\n",
              "      <td>0.0</td>\n",
              "      <td>1.0</td>\n",
              "      <td>11.0</td>\n",
              "      <td>2.0</td>\n",
              "      <td>4.0</td>\n",
              "    </tr>\n",
              "    <tr>\n",
              "      <th>70691</th>\n",
              "      <td>1.0</td>\n",
              "      <td>1.0</td>\n",
              "      <td>1.0</td>\n",
              "      <td>1.0</td>\n",
              "      <td>25.0</td>\n",
              "      <td>0.0</td>\n",
              "      <td>1.0</td>\n",
              "      <td>1.0</td>\n",
              "      <td>2.0</td>\n",
              "      <td>0.0</td>\n",
              "      <td>0.0</td>\n",
              "      <td>0.0</td>\n",
              "      <td>9.0</td>\n",
              "      <td>6.0</td>\n",
              "      <td>2.0</td>\n",
              "    </tr>\n",
              "  </tbody>\n",
              "</table>\n",
              "<p>70692 rows × 15 columns</p>\n",
              "</div>\n",
              "      <button class=\"colab-df-convert\" onclick=\"convertToInteractive('df-83112a8e-09db-4536-909d-006ba5915ce6')\"\n",
              "              title=\"Convert this dataframe to an interactive table.\"\n",
              "              style=\"display:none;\">\n",
              "        \n",
              "  <svg xmlns=\"http://www.w3.org/2000/svg\" height=\"24px\"viewBox=\"0 0 24 24\"\n",
              "       width=\"24px\">\n",
              "    <path d=\"M0 0h24v24H0V0z\" fill=\"none\"/>\n",
              "    <path d=\"M18.56 5.44l.94 2.06.94-2.06 2.06-.94-2.06-.94-.94-2.06-.94 2.06-2.06.94zm-11 1L8.5 8.5l.94-2.06 2.06-.94-2.06-.94L8.5 2.5l-.94 2.06-2.06.94zm10 10l.94 2.06.94-2.06 2.06-.94-2.06-.94-.94-2.06-.94 2.06-2.06.94z\"/><path d=\"M17.41 7.96l-1.37-1.37c-.4-.4-.92-.59-1.43-.59-.52 0-1.04.2-1.43.59L10.3 9.45l-7.72 7.72c-.78.78-.78 2.05 0 2.83L4 21.41c.39.39.9.59 1.41.59.51 0 1.02-.2 1.41-.59l7.78-7.78 2.81-2.81c.8-.78.8-2.07 0-2.86zM5.41 20L4 18.59l7.72-7.72 1.47 1.35L5.41 20z\"/>\n",
              "  </svg>\n",
              "      </button>\n",
              "      \n",
              "  <style>\n",
              "    .colab-df-container {\n",
              "      display:flex;\n",
              "      flex-wrap:wrap;\n",
              "      gap: 12px;\n",
              "    }\n",
              "\n",
              "    .colab-df-convert {\n",
              "      background-color: #E8F0FE;\n",
              "      border: none;\n",
              "      border-radius: 50%;\n",
              "      cursor: pointer;\n",
              "      display: none;\n",
              "      fill: #1967D2;\n",
              "      height: 32px;\n",
              "      padding: 0 0 0 0;\n",
              "      width: 32px;\n",
              "    }\n",
              "\n",
              "    .colab-df-convert:hover {\n",
              "      background-color: #E2EBFA;\n",
              "      box-shadow: 0px 1px 2px rgba(60, 64, 67, 0.3), 0px 1px 3px 1px rgba(60, 64, 67, 0.15);\n",
              "      fill: #174EA6;\n",
              "    }\n",
              "\n",
              "    [theme=dark] .colab-df-convert {\n",
              "      background-color: #3B4455;\n",
              "      fill: #D2E3FC;\n",
              "    }\n",
              "\n",
              "    [theme=dark] .colab-df-convert:hover {\n",
              "      background-color: #434B5C;\n",
              "      box-shadow: 0px 1px 3px 1px rgba(0, 0, 0, 0.15);\n",
              "      filter: drop-shadow(0px 1px 2px rgba(0, 0, 0, 0.3));\n",
              "      fill: #FFFFFF;\n",
              "    }\n",
              "  </style>\n",
              "\n",
              "      <script>\n",
              "        const buttonEl =\n",
              "          document.querySelector('#df-83112a8e-09db-4536-909d-006ba5915ce6 button.colab-df-convert');\n",
              "        buttonEl.style.display =\n",
              "          google.colab.kernel.accessAllowed ? 'block' : 'none';\n",
              "\n",
              "        async function convertToInteractive(key) {\n",
              "          const element = document.querySelector('#df-83112a8e-09db-4536-909d-006ba5915ce6');\n",
              "          const dataTable =\n",
              "            await google.colab.kernel.invokeFunction('convertToInteractive',\n",
              "                                                     [key], {});\n",
              "          if (!dataTable) return;\n",
              "\n",
              "          const docLinkHtml = 'Like what you see? Visit the ' +\n",
              "            '<a target=\"_blank\" href=https://colab.research.google.com/notebooks/data_table.ipynb>data table notebook</a>'\n",
              "            + ' to learn more about interactive tables.';\n",
              "          element.innerHTML = '';\n",
              "          dataTable['output_type'] = 'display_data';\n",
              "          await google.colab.output.renderOutput(dataTable, element);\n",
              "          const docLink = document.createElement('div');\n",
              "          docLink.innerHTML = docLinkHtml;\n",
              "          element.appendChild(docLink);\n",
              "        }\n",
              "      </script>\n",
              "    </div>\n",
              "  </div>\n",
              "  "
            ],
            "text/plain": [
              "       Diabetes_binary  HighBP  HighChol  ...   Age  Education  Income\n",
              "0                  0.0     1.0       0.0  ...   4.0        6.0     8.0\n",
              "1                  0.0     1.0       1.0  ...  12.0        6.0     8.0\n",
              "2                  0.0     0.0       0.0  ...  13.0        6.0     8.0\n",
              "3                  0.0     1.0       1.0  ...  11.0        6.0     8.0\n",
              "4                  0.0     0.0       0.0  ...   8.0        5.0     8.0\n",
              "...                ...     ...       ...  ...   ...        ...     ...\n",
              "70687              1.0     0.0       1.0  ...   6.0        4.0     1.0\n",
              "70688              1.0     0.0       1.0  ...  10.0        3.0     6.0\n",
              "70689              1.0     1.0       1.0  ...  13.0        6.0     4.0\n",
              "70690              1.0     1.0       1.0  ...  11.0        2.0     4.0\n",
              "70691              1.0     1.0       1.0  ...   9.0        6.0     2.0\n",
              "\n",
              "[70692 rows x 15 columns]"
            ]
          },
          "metadata": {},
          "execution_count": 33
        }
      ]
    },
    {
      "cell_type": "code",
      "source": [
        "# Put continuous variables into bins of 20% quantiles\n",
        "names = ['bottom 20', 'lower 20', 'middle 20', 'upper 20', 'top 20']\n",
        "data3['BMI_qt'] = pd.cut(data3['BMI'].rank(pct=True), bins=5, labels=names)\n",
        "data3['MentHlth_qt'] = pd.cut(data3['MentHlth'].rank(pct=True), bins=5, labels=names)\n",
        "data3['PhysHlth_qt'] = pd.cut(data3['PhysHlth'].rank(pct=True), bins=5, labels=names)\n",
        "# drop original columns from the data\n",
        "data3 = data3.drop(columns=['BMI', 'MentHlth', 'PhysHlth'])"
      ],
      "metadata": {
        "id": "2bbqeL2rtU1x"
      },
      "execution_count": 34,
      "outputs": []
    },
    {
      "cell_type": "code",
      "source": [
        "data3"
      ],
      "metadata": {
        "colab": {
          "base_uri": "https://localhost:8080/",
          "height": 644
        },
        "id": "oMDGk2VPzuDT",
        "outputId": "e698129e-ed0c-4c5f-9518-a8f3788c646d"
      },
      "execution_count": 35,
      "outputs": [
        {
          "output_type": "execute_result",
          "data": {
            "text/html": [
              "\n",
              "  <div id=\"df-f034cc89-1a44-4c38-859f-fc7e41a8fae2\">\n",
              "    <div class=\"colab-df-container\">\n",
              "      <div>\n",
              "<style scoped>\n",
              "    .dataframe tbody tr th:only-of-type {\n",
              "        vertical-align: middle;\n",
              "    }\n",
              "\n",
              "    .dataframe tbody tr th {\n",
              "        vertical-align: top;\n",
              "    }\n",
              "\n",
              "    .dataframe thead th {\n",
              "        text-align: right;\n",
              "    }\n",
              "</style>\n",
              "<table border=\"1\" class=\"dataframe\">\n",
              "  <thead>\n",
              "    <tr style=\"text-align: right;\">\n",
              "      <th></th>\n",
              "      <th>Diabetes_binary</th>\n",
              "      <th>HighBP</th>\n",
              "      <th>HighChol</th>\n",
              "      <th>CholCheck</th>\n",
              "      <th>Stroke</th>\n",
              "      <th>HeartDiseaseorAttack</th>\n",
              "      <th>PhysActivity</th>\n",
              "      <th>GenHlth</th>\n",
              "      <th>DiffWalk</th>\n",
              "      <th>Age</th>\n",
              "      <th>Education</th>\n",
              "      <th>Income</th>\n",
              "      <th>BMI_qt</th>\n",
              "      <th>MentHlth_qt</th>\n",
              "      <th>PhysHlth_qt</th>\n",
              "    </tr>\n",
              "  </thead>\n",
              "  <tbody>\n",
              "    <tr>\n",
              "      <th>0</th>\n",
              "      <td>0.0</td>\n",
              "      <td>1.0</td>\n",
              "      <td>0.0</td>\n",
              "      <td>1.0</td>\n",
              "      <td>0.0</td>\n",
              "      <td>0.0</td>\n",
              "      <td>1.0</td>\n",
              "      <td>3.0</td>\n",
              "      <td>0.0</td>\n",
              "      <td>4.0</td>\n",
              "      <td>6.0</td>\n",
              "      <td>8.0</td>\n",
              "      <td>lower 20</td>\n",
              "      <td>upper 20</td>\n",
              "      <td>top 20</td>\n",
              "    </tr>\n",
              "    <tr>\n",
              "      <th>1</th>\n",
              "      <td>0.0</td>\n",
              "      <td>1.0</td>\n",
              "      <td>1.0</td>\n",
              "      <td>1.0</td>\n",
              "      <td>1.0</td>\n",
              "      <td>0.0</td>\n",
              "      <td>0.0</td>\n",
              "      <td>3.0</td>\n",
              "      <td>0.0</td>\n",
              "      <td>12.0</td>\n",
              "      <td>6.0</td>\n",
              "      <td>8.0</td>\n",
              "      <td>lower 20</td>\n",
              "      <td>bottom 20</td>\n",
              "      <td>bottom 20</td>\n",
              "    </tr>\n",
              "    <tr>\n",
              "      <th>2</th>\n",
              "      <td>0.0</td>\n",
              "      <td>0.0</td>\n",
              "      <td>0.0</td>\n",
              "      <td>1.0</td>\n",
              "      <td>0.0</td>\n",
              "      <td>0.0</td>\n",
              "      <td>1.0</td>\n",
              "      <td>1.0</td>\n",
              "      <td>0.0</td>\n",
              "      <td>13.0</td>\n",
              "      <td>6.0</td>\n",
              "      <td>8.0</td>\n",
              "      <td>lower 20</td>\n",
              "      <td>bottom 20</td>\n",
              "      <td>upper 20</td>\n",
              "    </tr>\n",
              "    <tr>\n",
              "      <th>3</th>\n",
              "      <td>0.0</td>\n",
              "      <td>1.0</td>\n",
              "      <td>1.0</td>\n",
              "      <td>1.0</td>\n",
              "      <td>0.0</td>\n",
              "      <td>0.0</td>\n",
              "      <td>1.0</td>\n",
              "      <td>3.0</td>\n",
              "      <td>0.0</td>\n",
              "      <td>11.0</td>\n",
              "      <td>6.0</td>\n",
              "      <td>8.0</td>\n",
              "      <td>middle 20</td>\n",
              "      <td>bottom 20</td>\n",
              "      <td>upper 20</td>\n",
              "    </tr>\n",
              "    <tr>\n",
              "      <th>4</th>\n",
              "      <td>0.0</td>\n",
              "      <td>0.0</td>\n",
              "      <td>0.0</td>\n",
              "      <td>1.0</td>\n",
              "      <td>0.0</td>\n",
              "      <td>0.0</td>\n",
              "      <td>1.0</td>\n",
              "      <td>2.0</td>\n",
              "      <td>0.0</td>\n",
              "      <td>8.0</td>\n",
              "      <td>5.0</td>\n",
              "      <td>8.0</td>\n",
              "      <td>middle 20</td>\n",
              "      <td>bottom 20</td>\n",
              "      <td>bottom 20</td>\n",
              "    </tr>\n",
              "    <tr>\n",
              "      <th>...</th>\n",
              "      <td>...</td>\n",
              "      <td>...</td>\n",
              "      <td>...</td>\n",
              "      <td>...</td>\n",
              "      <td>...</td>\n",
              "      <td>...</td>\n",
              "      <td>...</td>\n",
              "      <td>...</td>\n",
              "      <td>...</td>\n",
              "      <td>...</td>\n",
              "      <td>...</td>\n",
              "      <td>...</td>\n",
              "      <td>...</td>\n",
              "      <td>...</td>\n",
              "      <td>...</td>\n",
              "    </tr>\n",
              "    <tr>\n",
              "      <th>70687</th>\n",
              "      <td>1.0</td>\n",
              "      <td>0.0</td>\n",
              "      <td>1.0</td>\n",
              "      <td>1.0</td>\n",
              "      <td>0.0</td>\n",
              "      <td>0.0</td>\n",
              "      <td>0.0</td>\n",
              "      <td>4.0</td>\n",
              "      <td>0.0</td>\n",
              "      <td>6.0</td>\n",
              "      <td>4.0</td>\n",
              "      <td>1.0</td>\n",
              "      <td>top 20</td>\n",
              "      <td>bottom 20</td>\n",
              "      <td>bottom 20</td>\n",
              "    </tr>\n",
              "    <tr>\n",
              "      <th>70688</th>\n",
              "      <td>1.0</td>\n",
              "      <td>0.0</td>\n",
              "      <td>1.0</td>\n",
              "      <td>1.0</td>\n",
              "      <td>0.0</td>\n",
              "      <td>1.0</td>\n",
              "      <td>0.0</td>\n",
              "      <td>2.0</td>\n",
              "      <td>1.0</td>\n",
              "      <td>10.0</td>\n",
              "      <td>3.0</td>\n",
              "      <td>6.0</td>\n",
              "      <td>middle 20</td>\n",
              "      <td>bottom 20</td>\n",
              "      <td>bottom 20</td>\n",
              "    </tr>\n",
              "    <tr>\n",
              "      <th>70689</th>\n",
              "      <td>1.0</td>\n",
              "      <td>1.0</td>\n",
              "      <td>1.0</td>\n",
              "      <td>1.0</td>\n",
              "      <td>0.0</td>\n",
              "      <td>1.0</td>\n",
              "      <td>0.0</td>\n",
              "      <td>5.0</td>\n",
              "      <td>1.0</td>\n",
              "      <td>13.0</td>\n",
              "      <td>6.0</td>\n",
              "      <td>4.0</td>\n",
              "      <td>lower 20</td>\n",
              "      <td>top 20</td>\n",
              "      <td>bottom 20</td>\n",
              "    </tr>\n",
              "    <tr>\n",
              "      <th>70690</th>\n",
              "      <td>1.0</td>\n",
              "      <td>1.0</td>\n",
              "      <td>1.0</td>\n",
              "      <td>1.0</td>\n",
              "      <td>0.0</td>\n",
              "      <td>0.0</td>\n",
              "      <td>0.0</td>\n",
              "      <td>4.0</td>\n",
              "      <td>1.0</td>\n",
              "      <td>11.0</td>\n",
              "      <td>2.0</td>\n",
              "      <td>4.0</td>\n",
              "      <td>bottom 20</td>\n",
              "      <td>bottom 20</td>\n",
              "      <td>bottom 20</td>\n",
              "    </tr>\n",
              "    <tr>\n",
              "      <th>70691</th>\n",
              "      <td>1.0</td>\n",
              "      <td>1.0</td>\n",
              "      <td>1.0</td>\n",
              "      <td>1.0</td>\n",
              "      <td>0.0</td>\n",
              "      <td>1.0</td>\n",
              "      <td>1.0</td>\n",
              "      <td>2.0</td>\n",
              "      <td>0.0</td>\n",
              "      <td>9.0</td>\n",
              "      <td>6.0</td>\n",
              "      <td>2.0</td>\n",
              "      <td>lower 20</td>\n",
              "      <td>bottom 20</td>\n",
              "      <td>bottom 20</td>\n",
              "    </tr>\n",
              "  </tbody>\n",
              "</table>\n",
              "<p>70692 rows × 15 columns</p>\n",
              "</div>\n",
              "      <button class=\"colab-df-convert\" onclick=\"convertToInteractive('df-f034cc89-1a44-4c38-859f-fc7e41a8fae2')\"\n",
              "              title=\"Convert this dataframe to an interactive table.\"\n",
              "              style=\"display:none;\">\n",
              "        \n",
              "  <svg xmlns=\"http://www.w3.org/2000/svg\" height=\"24px\"viewBox=\"0 0 24 24\"\n",
              "       width=\"24px\">\n",
              "    <path d=\"M0 0h24v24H0V0z\" fill=\"none\"/>\n",
              "    <path d=\"M18.56 5.44l.94 2.06.94-2.06 2.06-.94-2.06-.94-.94-2.06-.94 2.06-2.06.94zm-11 1L8.5 8.5l.94-2.06 2.06-.94-2.06-.94L8.5 2.5l-.94 2.06-2.06.94zm10 10l.94 2.06.94-2.06 2.06-.94-2.06-.94-.94-2.06-.94 2.06-2.06.94z\"/><path d=\"M17.41 7.96l-1.37-1.37c-.4-.4-.92-.59-1.43-.59-.52 0-1.04.2-1.43.59L10.3 9.45l-7.72 7.72c-.78.78-.78 2.05 0 2.83L4 21.41c.39.39.9.59 1.41.59.51 0 1.02-.2 1.41-.59l7.78-7.78 2.81-2.81c.8-.78.8-2.07 0-2.86zM5.41 20L4 18.59l7.72-7.72 1.47 1.35L5.41 20z\"/>\n",
              "  </svg>\n",
              "      </button>\n",
              "      \n",
              "  <style>\n",
              "    .colab-df-container {\n",
              "      display:flex;\n",
              "      flex-wrap:wrap;\n",
              "      gap: 12px;\n",
              "    }\n",
              "\n",
              "    .colab-df-convert {\n",
              "      background-color: #E8F0FE;\n",
              "      border: none;\n",
              "      border-radius: 50%;\n",
              "      cursor: pointer;\n",
              "      display: none;\n",
              "      fill: #1967D2;\n",
              "      height: 32px;\n",
              "      padding: 0 0 0 0;\n",
              "      width: 32px;\n",
              "    }\n",
              "\n",
              "    .colab-df-convert:hover {\n",
              "      background-color: #E2EBFA;\n",
              "      box-shadow: 0px 1px 2px rgba(60, 64, 67, 0.3), 0px 1px 3px 1px rgba(60, 64, 67, 0.15);\n",
              "      fill: #174EA6;\n",
              "    }\n",
              "\n",
              "    [theme=dark] .colab-df-convert {\n",
              "      background-color: #3B4455;\n",
              "      fill: #D2E3FC;\n",
              "    }\n",
              "\n",
              "    [theme=dark] .colab-df-convert:hover {\n",
              "      background-color: #434B5C;\n",
              "      box-shadow: 0px 1px 3px 1px rgba(0, 0, 0, 0.15);\n",
              "      filter: drop-shadow(0px 1px 2px rgba(0, 0, 0, 0.3));\n",
              "      fill: #FFFFFF;\n",
              "    }\n",
              "  </style>\n",
              "\n",
              "      <script>\n",
              "        const buttonEl =\n",
              "          document.querySelector('#df-f034cc89-1a44-4c38-859f-fc7e41a8fae2 button.colab-df-convert');\n",
              "        buttonEl.style.display =\n",
              "          google.colab.kernel.accessAllowed ? 'block' : 'none';\n",
              "\n",
              "        async function convertToInteractive(key) {\n",
              "          const element = document.querySelector('#df-f034cc89-1a44-4c38-859f-fc7e41a8fae2');\n",
              "          const dataTable =\n",
              "            await google.colab.kernel.invokeFunction('convertToInteractive',\n",
              "                                                     [key], {});\n",
              "          if (!dataTable) return;\n",
              "\n",
              "          const docLinkHtml = 'Like what you see? Visit the ' +\n",
              "            '<a target=\"_blank\" href=https://colab.research.google.com/notebooks/data_table.ipynb>data table notebook</a>'\n",
              "            + ' to learn more about interactive tables.';\n",
              "          element.innerHTML = '';\n",
              "          dataTable['output_type'] = 'display_data';\n",
              "          await google.colab.output.renderOutput(dataTable, element);\n",
              "          const docLink = document.createElement('div');\n",
              "          docLink.innerHTML = docLinkHtml;\n",
              "          element.appendChild(docLink);\n",
              "        }\n",
              "      </script>\n",
              "    </div>\n",
              "  </div>\n",
              "  "
            ],
            "text/plain": [
              "       Diabetes_binary  HighBP  HighChol  ...     BMI_qt  MentHlth_qt  PhysHlth_qt\n",
              "0                  0.0     1.0       0.0  ...   lower 20     upper 20       top 20\n",
              "1                  0.0     1.0       1.0  ...   lower 20    bottom 20    bottom 20\n",
              "2                  0.0     0.0       0.0  ...   lower 20    bottom 20     upper 20\n",
              "3                  0.0     1.0       1.0  ...  middle 20    bottom 20     upper 20\n",
              "4                  0.0     0.0       0.0  ...  middle 20    bottom 20    bottom 20\n",
              "...                ...     ...       ...  ...        ...          ...          ...\n",
              "70687              1.0     0.0       1.0  ...     top 20    bottom 20    bottom 20\n",
              "70688              1.0     0.0       1.0  ...  middle 20    bottom 20    bottom 20\n",
              "70689              1.0     1.0       1.0  ...   lower 20       top 20    bottom 20\n",
              "70690              1.0     1.0       1.0  ...  bottom 20    bottom 20    bottom 20\n",
              "70691              1.0     1.0       1.0  ...   lower 20    bottom 20    bottom 20\n",
              "\n",
              "[70692 rows x 15 columns]"
            ]
          },
          "metadata": {},
          "execution_count": 35
        }
      ]
    },
    {
      "cell_type": "code",
      "source": [
        "# drop target from X and save target to y\n",
        "X = data3.drop('Diabetes_binary', axis = 1)\n",
        "y = data3['Diabetes_binary']"
      ],
      "metadata": {
        "id": "cvneWqwww96T"
      },
      "execution_count": 36,
      "outputs": []
    },
    {
      "cell_type": "code",
      "source": [
        "from sklearn.preprocessing import OrdinalEncoder\n",
        "from sklearn.model_selection import train_test_split"
      ],
      "metadata": {
        "id": "5c6N2grSwxu9"
      },
      "execution_count": 37,
      "outputs": []
    },
    {
      "cell_type": "code",
      "source": [
        "# encode categorical variables\n",
        "enc = OrdinalEncoder()\n",
        "X = enc.fit_transform(X)\n",
        "# create training and testing samples\n",
        "X_train, X_test, y_train, y_test = train_test_split(X, y, test_size=0.2, random_state=0)"
      ],
      "metadata": {
        "id": "I5Q7wkHwwvNJ"
      },
      "execution_count": 38,
      "outputs": []
    },
    {
      "cell_type": "code",
      "source": [
        "# build a Categorical Classifier\n",
        "cnb = CategoricalNB()\n",
        "# train the model \n",
        "%time cnb.fit(X_train, y_train)\n",
        "# mean accuracy \n",
        "cnb.score(X_test, y_test)"
      ],
      "metadata": {
        "colab": {
          "base_uri": "https://localhost:8080/"
        },
        "id": "nvlPtHVAmvHl",
        "outputId": "716d7620-93fc-4530-f5a3-9cdccbd6aed8"
      },
      "execution_count": 39,
      "outputs": [
        {
          "output_type": "stream",
          "name": "stdout",
          "text": [
            "CPU times: user 51.2 ms, sys: 4.01 ms, total: 55.2 ms\n",
            "Wall time: 73.9 ms\n"
          ]
        },
        {
          "output_type": "execute_result",
          "data": {
            "text/plain": [
              "0.738666100855789"
            ]
          },
          "metadata": {},
          "execution_count": 39
        }
      ]
    },
    {
      "cell_type": "code",
      "source": [
        "# get the predictions\n",
        "y_pred = cnb.predict(X_test)\n",
        "print(y_pred)"
      ],
      "metadata": {
        "id": "fFop-vdt19Qq",
        "colab": {
          "base_uri": "https://localhost:8080/"
        },
        "outputId": "e7a6a679-4a05-4cf0-a96a-eb2c0420460a"
      },
      "execution_count": 40,
      "outputs": [
        {
          "output_type": "stream",
          "name": "stdout",
          "text": [
            "[1. 0. 0. ... 1. 0. 0.]\n"
          ]
        }
      ]
    },
    {
      "cell_type": "markdown",
      "source": [
        "Now I will evaluate the results to see how well this model performs."
      ],
      "metadata": {
        "id": "nrK5XqDd30Mb"
      }
    },
    {
      "cell_type": "code",
      "source": [
        "from sklearn import metrics"
      ],
      "metadata": {
        "id": "ylRu6ETHPD7D"
      },
      "execution_count": 41,
      "outputs": []
    },
    {
      "cell_type": "code",
      "source": [
        "# confusion matrix to evaluate model\n",
        "matrix_nb = metrics.confusion_matrix(y_test, y_pred)\n",
        "print(matrix_nb)"
      ],
      "metadata": {
        "colab": {
          "base_uri": "https://localhost:8080/"
        },
        "id": "YrVBwYMKm_tx",
        "outputId": "a4facb33-287a-4378-8b73-47b087ceaf24"
      },
      "execution_count": 42,
      "outputs": [
        {
          "output_type": "stream",
          "name": "stdout",
          "text": [
            "[[5125 1807]\n",
            " [1888 5319]]\n"
          ]
        }
      ]
    },
    {
      "cell_type": "code",
      "source": [
        "# heatmap matrix\n",
        "plt.figure(figsize = (8,6))\n",
        "sns.heatmap(matrix_nb, annot = True, fmt = \".0f\", cmap = 'viridis')\n",
        "plt.title(\"Confusion Matrix - Naive Bayes\")\n",
        "plt.xlabel(\"Prediction\")\n",
        "plt.ylabel(\"Actual\")\n",
        "plt.show()"
      ],
      "metadata": {
        "colab": {
          "base_uri": "https://localhost:8080/",
          "height": 404
        },
        "id": "bX_EjA2Xad8D",
        "outputId": "eff74c53-4024-4dfb-d95f-aafca28c77f0"
      },
      "execution_count": 43,
      "outputs": [
        {
          "output_type": "display_data",
          "data": {
            "image/png": "[encoded data removed]",
            "text/plain": [
              "<Figure size 576x432 with 2 Axes>"
            ]
          },
          "metadata": {
            "needs_background": "light"
          }
        }
      ]
    },
    {
      "cell_type": "code",
      "source": [
        "# NB classification report\n",
        "report_nb = metrics.classification_report(y_test, y_pred)\n",
        "print(report_nb)\n"
      ],
      "metadata": {
        "colab": {
          "base_uri": "https://localhost:8080/"
        },
        "id": "sE7EhAmZnOTC",
        "outputId": "7e57fa18-4867-49b0-a7b6-c096b4f63238"
      },
      "execution_count": 44,
      "outputs": [
        {
          "output_type": "stream",
          "name": "stdout",
          "text": [
            "              precision    recall  f1-score   support\n",
            "\n",
            "         0.0       0.73      0.74      0.74      6932\n",
            "         1.0       0.75      0.74      0.74      7207\n",
            "\n",
            "    accuracy                           0.74     14139\n",
            "   macro avg       0.74      0.74      0.74     14139\n",
            "weighted avg       0.74      0.74      0.74     14139\n",
            "\n"
          ]
        }
      ]
    },
    {
      "cell_type": "markdown",
      "source": [
        "Naive Bayes yields a pretty good result. The recall value is 74%, which is pretty good.\n",
        "Now I will evaluate the model using Stratified K-Fold Cross Validation with 10 folds."
      ],
      "metadata": {
        "id": "S-pfs3H22YZH"
      }
    },
    {
      "cell_type": "code",
      "source": [
        "from sklearn.model_selection import cross_val_score"
      ],
      "metadata": {
        "id": "RLzMAy7j0XQA"
      },
      "execution_count": 45,
      "outputs": []
    },
    {
      "cell_type": "code",
      "source": [
        "# cross validate\n",
        "scores_nb = cross_val_score(cnb, X, y, cv=10)\n",
        "print(scores_nb)\n",
        "print(\"%0.2f accuracy with a standard deviation of %0.2f\" % (scores_nb.mean(), scores_nb.std()))"
      ],
      "metadata": {
        "colab": {
          "base_uri": "https://localhost:8080/"
        },
        "id": "YXzoOz7XzqLe",
        "outputId": "fb49711d-e558-447a-a711-5dd6b6dd03a2"
      },
      "execution_count": 46,
      "outputs": [
        {
          "output_type": "stream",
          "name": "stdout",
          "text": [
            "[0.72545969 0.72602546 0.73786957 0.73192814 0.73376715 0.72867449\n",
            " 0.74451832 0.7392842  0.73900127 0.7464988 ]\n",
            "0.74 accuracy with a standard deviation of 0.01\n"
          ]
        }
      ]
    },
    {
      "cell_type": "markdown",
      "source": [
        "This model performs pretty well across the entire data."
      ],
      "metadata": {
        "id": "HQbi1mFQ4FTx"
      }
    },
    {
      "cell_type": "markdown",
      "source": [
        "### 2. Decision Tree\n"
      ],
      "metadata": {
        "id": "wD9JKRwO0fXH"
      }
    },
    {
      "cell_type": "markdown",
      "source": [
        "By translating data into a tree representation, Decision Tree is a good algorithm for classification. Each attribute is represented by an internal node in the tree, and each class label is represented by a leaf node. \n",
        "I want to try Decision Tree because it can work well with both categorical and numerical data. It also requires very little preprocessing, so there is no need for scaling, normalization, one-hot encoding, etc. The only downside is that since my data has many features, I will have to choose a proper depth limit so that the tree will not be to large and the algorithm won't take too long to execute."
      ],
      "metadata": {
        "id": "RR3P6g2f0l6x"
      }
    },
    {
      "cell_type": "code",
      "source": [
        "from sklearn import tree"
      ],
      "metadata": {
        "id": "AVJNKUet0lPu"
      },
      "execution_count": 47,
      "outputs": []
    },
    {
      "cell_type": "code",
      "source": [
        "# drop target from X and save the target to y\n",
        "X = data.drop('Diabetes_binary', axis = 1)\n",
        "y = data['Diabetes_binary']\n",
        "# split data into test and train\n",
        "X_train, X_test, y_train, y_test = train_test_split(X, y, test_size = 0.2, random_state = 0)"
      ],
      "metadata": {
        "id": "2CFuJD_Qd-pO"
      },
      "execution_count": 48,
      "outputs": []
    },
    {
      "cell_type": "code",
      "source": [
        "# create Decision Tree classifer object\n",
        "dt = tree.DecisionTreeClassifier(max_depth=5)\n",
        "# train Decision Tree Classifer\n",
        "%time dt = dt.fit(X_train,y_train)\n",
        "# get the results\n",
        "y_pred = dt.predict(X_test)"
      ],
      "metadata": {
        "colab": {
          "base_uri": "https://localhost:8080/"
        },
        "id": "N2Gq6iz5aqgf",
        "outputId": "fbb76bbc-26f0-4894-facc-a37ba3b95eaa"
      },
      "execution_count": 49,
      "outputs": [
        {
          "output_type": "stream",
          "name": "stdout",
          "text": [
            "CPU times: user 122 ms, sys: 1.85 ms, total: 123 ms\n",
            "Wall time: 150 ms\n"
          ]
        }
      ]
    },
    {
      "cell_type": "code",
      "source": [
        "# get names of all features\n",
        "feature_names = ['HighBP', 'HighChol', 'CholCheck', 'BMI', 'Stroke',\n",
        "       'HeartDiseaseorAttack', 'PhysActivity', 'GenHlth', 'MentHlth',\n",
        "       'PhysHlth', 'DiffWalk', 'Age', 'Education', 'Income']\n",
        "# plot tree\n",
        "plt.figure(figsize=(50,50))\n",
        "tree.plot_tree(dt, feature_names=feature_names, filled=True)"
      ],
      "metadata": {
        "colab": {
          "base_uri": "https://localhost:8080/",
          "height": 1000
        },
        "id": "XafyII4abuxj",
        "outputId": "e9116502-00f4-4d84-dda5-051c6659819f"
      },
      "execution_count": 50,
      "outputs": [
        {
          "output_type": "execute_result",
          "data": {
            "text/plain": [
              "[Text(0.5, 0.9166666666666666, 'HighBP <= 0.5\\ngini = 0.5\\nsamples = 56553\\nvalue = [28414, 28139]'),\n",
              " Text(0.25, 0.75, 'GenHlth <= 2.5\\ngini = 0.405\\nsamples = 24714\\nvalue = [17732, 6982]'),\n",
              " Text(0.125, 0.5833333333333334, 'Age <= 8.5\\ngini = 0.246\\nsamples = 13897\\nvalue = [11898, 1999]'),\n",
              " Text(0.0625, 0.4166666666666667, 'BMI <= 28.5\\ngini = 0.163\\nsamples = 8760\\nvalue = [7977, 783]'),\n",
              " Text(0.03125, 0.25, 'HighChol <= 0.5\\ngini = 0.107\\nsamples = 6234\\nvalue = [5882, 352]'),\n",
              " Text(0.015625, 0.08333333333333333, 'gini = 0.077\\nsamples = 5022\\nvalue = [4820, 202]'),\n",
              " Text(0.046875, 0.08333333333333333, 'gini = 0.217\\nsamples = 1212\\nvalue = [1062, 150]'),\n",
              " Text(0.09375, 0.25, 'Age <= 6.5\\ngini = 0.283\\nsamples = 2526\\nvalue = [2095, 431]'),\n",
              " Text(0.078125, 0.08333333333333333, 'gini = 0.205\\nsamples = 1596\\nvalue = [1411, 185]'),\n",
              " Text(0.109375, 0.08333333333333333, 'gini = 0.389\\nsamples = 930\\nvalue = [684, 246]'),\n",
              " Text(0.1875, 0.4166666666666667, 'BMI <= 27.5\\ngini = 0.361\\nsamples = 5137\\nvalue = [3921, 1216]'),\n",
              " Text(0.15625, 0.25, 'GenHlth <= 1.5\\ngini = 0.287\\nsamples = 3411\\nvalue = [2819, 592]'),\n",
              " Text(0.140625, 0.08333333333333333, 'gini = 0.185\\nsamples = 1282\\nvalue = [1150, 132]'),\n",
              " Text(0.171875, 0.08333333333333333, 'gini = 0.339\\nsamples = 2129\\nvalue = [1669, 460]'),\n",
              " Text(0.21875, 0.25, 'GenHlth <= 1.5\\ngini = 0.462\\nsamples = 1726\\nvalue = [1102, 624]'),\n",
              " Text(0.203125, 0.08333333333333333, 'gini = 0.353\\nsamples = 429\\nvalue = [331, 98]'),\n",
              " Text(0.234375, 0.08333333333333333, 'gini = 0.482\\nsamples = 1297\\nvalue = [771, 526]'),\n",
              " Text(0.375, 0.5833333333333334, 'Age <= 5.5\\ngini = 0.497\\nsamples = 10817\\nvalue = [5834, 4983]'),\n",
              " Text(0.3125, 0.4166666666666667, 'HighChol <= 0.5\\ngini = 0.387\\nsamples = 2445\\nvalue = [1803, 642]'),\n",
              " Text(0.28125, 0.25, 'BMI <= 36.5\\ngini = 0.309\\nsamples = 1829\\nvalue = [1479, 350]'),\n",
              " Text(0.265625, 0.08333333333333333, 'gini = 0.26\\nsamples = 1527\\nvalue = [1293, 234]'),\n",
              " Text(0.296875, 0.08333333333333333, 'gini = 0.473\\nsamples = 302\\nvalue = [186, 116]'),\n",
              " Text(0.34375, 0.25, 'GenHlth <= 3.5\\ngini = 0.499\\nsamples = 616\\nvalue = [324, 292]'),\n",
              " Text(0.328125, 0.08333333333333333, 'gini = 0.476\\nsamples = 403\\nvalue = [246, 157]'),\n",
              " Text(0.359375, 0.08333333333333333, 'gini = 0.464\\nsamples = 213\\nvalue = [78, 135]'),\n",
              " Text(0.4375, 0.4166666666666667, 'BMI <= 26.5\\ngini = 0.499\\nsamples = 8372\\nvalue = [4031, 4341]'),\n",
              " Text(0.40625, 0.25, 'HighChol <= 0.5\\ngini = 0.474\\nsamples = 3071\\nvalue = [1888, 1183]'),\n",
              " Text(0.390625, 0.08333333333333333, 'gini = 0.438\\nsamples = 1782\\nvalue = [1206, 576]'),\n",
              " Text(0.421875, 0.08333333333333333, 'gini = 0.498\\nsamples = 1289\\nvalue = [682, 607]'),\n",
              " Text(0.46875, 0.25, 'GenHlth <= 3.5\\ngini = 0.482\\nsamples = 5301\\nvalue = [2143, 3158]'),\n",
              " Text(0.453125, 0.08333333333333333, 'gini = 0.498\\nsamples = 3323\\nvalue = [1549, 1774]'),\n",
              " Text(0.484375, 0.08333333333333333, 'gini = 0.42\\nsamples = 1978\\nvalue = [594, 1384]'),\n",
              " Text(0.75, 0.75, 'GenHlth <= 2.5\\ngini = 0.446\\nsamples = 31839\\nvalue = [10682, 21157]'),\n",
              " Text(0.625, 0.5833333333333334, 'BMI <= 30.5\\ngini = 0.497\\nsamples = 8721\\nvalue = [4711, 4010]'),\n",
              " Text(0.5625, 0.4166666666666667, 'Age <= 8.5\\ngini = 0.475\\nsamples = 5682\\nvalue = [3470, 2212]'),\n",
              " Text(0.53125, 0.25, 'HighChol <= 0.5\\ngini = 0.38\\nsamples = 1516\\nvalue = [1129, 387]'),\n",
              " Text(0.515625, 0.08333333333333333, 'gini = 0.288\\nsamples = 814\\nvalue = [672, 142]'),\n",
              " Text(0.546875, 0.08333333333333333, 'gini = 0.454\\nsamples = 702\\nvalue = [457, 245]'),\n",
              " Text(0.59375, 0.25, 'BMI <= 26.5\\ngini = 0.492\\nsamples = 4166\\nvalue = [2341, 1825]'),\n",
              " Text(0.578125, 0.08333333333333333, 'gini = 0.465\\nsamples = 2147\\nvalue = [1358, 789]'),\n",
              " Text(0.609375, 0.08333333333333333, 'gini = 0.5\\nsamples = 2019\\nvalue = [983, 1036]'),\n",
              " Text(0.6875, 0.4166666666666667, 'HighChol <= 0.5\\ngini = 0.483\\nsamples = 3039\\nvalue = [1241, 1798]'),\n",
              " Text(0.65625, 0.25, 'Age <= 7.5\\ngini = 0.499\\nsamples = 1245\\nvalue = [647, 598]'),\n",
              " Text(0.640625, 0.08333333333333333, 'gini = 0.422\\nsamples = 374\\nvalue = [261, 113]'),\n",
              " Text(0.671875, 0.08333333333333333, 'gini = 0.494\\nsamples = 871\\nvalue = [386, 485]'),\n",
              " Text(0.71875, 0.25, 'Income <= 5.5\\ngini = 0.443\\nsamples = 1794\\nvalue = [594, 1200]'),\n",
              " Text(0.703125, 0.08333333333333333, 'gini = 0.368\\nsamples = 564\\nvalue = [137, 427]'),\n",
              " Text(0.734375, 0.08333333333333333, 'gini = 0.467\\nsamples = 1230\\nvalue = [457, 773]'),\n",
              " Text(0.875, 0.5833333333333334, 'BMI <= 30.5\\ngini = 0.383\\nsamples = 23118\\nvalue = [5971, 17147]'),\n",
              " Text(0.8125, 0.4166666666666667, 'HighChol <= 0.5\\ngini = 0.443\\nsamples = 10993\\nvalue = [3644, 7349]'),\n",
              " Text(0.78125, 0.25, 'Age <= 8.5\\ngini = 0.491\\nsamples = 3390\\nvalue = [1473, 1917]'),\n",
              " Text(0.765625, 0.08333333333333333, 'gini = 0.49\\nsamples = 991\\nvalue = [564, 427]'),\n",
              " Text(0.796875, 0.08333333333333333, 'gini = 0.471\\nsamples = 2399\\nvalue = [909, 1490]'),\n",
              " Text(0.84375, 0.25, 'GenHlth <= 3.5\\ngini = 0.408\\nsamples = 7603\\nvalue = [2171, 5432]'),\n",
              " Text(0.828125, 0.08333333333333333, 'gini = 0.45\\nsamples = 3874\\nvalue = [1326, 2548]'),\n",
              " Text(0.859375, 0.08333333333333333, 'gini = 0.351\\nsamples = 3729\\nvalue = [845, 2884]'),\n",
              " Text(0.9375, 0.4166666666666667, 'HighChol <= 0.5\\ngini = 0.31\\nsamples = 12125\\nvalue = [2327, 9798]'),\n",
              " Text(0.90625, 0.25, 'Age <= 7.5\\ngini = 0.404\\nsamples = 3635\\nvalue = [1022, 2613]'),\n",
              " Text(0.890625, 0.08333333333333333, 'gini = 0.486\\nsamples = 1074\\nvalue = [448, 626]'),\n",
              " Text(0.921875, 0.08333333333333333, 'gini = 0.348\\nsamples = 2561\\nvalue = [574, 1987]'),\n",
              " Text(0.96875, 0.25, 'GenHlth <= 3.5\\ngini = 0.26\\nsamples = 8490\\nvalue = [1305, 7185]'),\n",
              " Text(0.953125, 0.08333333333333333, 'gini = 0.321\\nsamples = 3841\\nvalue = [771, 3070]'),\n",
              " Text(0.984375, 0.08333333333333333, 'gini = 0.203\\nsamples = 4649\\nvalue = [534, 4115]')]"
            ]
          },
          "metadata": {},
          "execution_count": 50
        },
        {
          "output_type": "display_data",
          "data": {
            "image/png": "[encoded data removed]",
            "text/plain": [
              "<Figure size 3600x3600 with 1 Axes>"
            ]
          },
          "metadata": {
            "needs_background": "light"
          }
        }
      ]
    },
    {
      "cell_type": "code",
      "source": [
        "# confusion matrix to evaluate model\n",
        "matrix_dt = metrics.confusion_matrix(y_test, y_pred)\n",
        "print(matrix_dt)"
      ],
      "metadata": {
        "colab": {
          "base_uri": "https://localhost:8080/"
        },
        "id": "HEyVImngjUFG",
        "outputId": "c03c3815-5b21-4d92-9084-2799e7ea9d41"
      },
      "execution_count": 51,
      "outputs": [
        {
          "output_type": "stream",
          "name": "stdout",
          "text": [
            "[[4540 2392]\n",
            " [1385 5822]]\n"
          ]
        }
      ]
    },
    {
      "cell_type": "code",
      "source": [
        "# heatmap matrix\n",
        "plt.figure(figsize = (8,6))\n",
        "sns.heatmap(matrix_dt, annot = True, fmt = \".0f\", cmap = 'viridis')\n",
        "plt.title(\"Confusion Matrix - Decision Tree\")\n",
        "plt.xlabel(\"Prediction\")\n",
        "plt.ylabel(\"Actual\")\n",
        "plt.show()"
      ],
      "metadata": {
        "colab": {
          "base_uri": "https://localhost:8080/",
          "height": 404
        },
        "id": "kJlwxt6jjdg-",
        "outputId": "c1acde32-01f4-4d56-9d5c-6f2515729ec9"
      },
      "execution_count": 52,
      "outputs": [
        {
          "output_type": "display_data",
          "data": {
            "image/png": "[encoded data removed]",
            "text/plain": [
              "<Figure size 576x432 with 2 Axes>"
            ]
          },
          "metadata": {
            "needs_background": "light"
          }
        }
      ]
    },
    {
      "cell_type": "code",
      "source": [
        "# RF classification report\n",
        "report_dt = metrics.classification_report(y_test, y_pred)\n",
        "print(report_dt)\n"
      ],
      "metadata": {
        "colab": {
          "base_uri": "https://localhost:8080/"
        },
        "id": "ivmfWLfujohP",
        "outputId": "2606122d-ce26-4e5c-c8fd-798ae4c61648"
      },
      "execution_count": 53,
      "outputs": [
        {
          "output_type": "stream",
          "name": "stdout",
          "text": [
            "              precision    recall  f1-score   support\n",
            "\n",
            "         0.0       0.77      0.65      0.71      6932\n",
            "         1.0       0.71      0.81      0.76      7207\n",
            "\n",
            "    accuracy                           0.73     14139\n",
            "   macro avg       0.74      0.73      0.73     14139\n",
            "weighted avg       0.74      0.73      0.73     14139\n",
            "\n"
          ]
        }
      ]
    },
    {
      "cell_type": "code",
      "source": [
        "# cross validate\n",
        "scores_dt = cross_val_score(dt, X, y, cv=10)\n",
        "print(scores_dt)\n",
        "print(\"%0.2f accuracy with a standard deviation of %0.2f\" % (scores_dt.mean(), scores_dt.std()))"
      ],
      "metadata": {
        "colab": {
          "base_uri": "https://localhost:8080/"
        },
        "id": "RY7Abw0ZlT2U",
        "outputId": "eb0ed0cb-4b1c-49a6-dddd-4c352e467c36"
      },
      "execution_count": 54,
      "outputs": [
        {
          "output_type": "stream",
          "name": "stdout",
          "text": [
            "[0.72574257 0.72347949 0.72697694 0.72867449 0.73291838 0.7309379\n",
            " 0.74013297 0.73985005 0.73362569 0.74296223]\n",
            "0.73 accuracy with a standard deviation of 0.01\n"
          ]
        }
      ]
    },
    {
      "cell_type": "markdown",
      "source": [
        "For a depth of 5, the Decision Tree is able to give good results. Increasing the depth limit would definitely make it perform better on training data, but it also makes it more prone to overfitting."
      ],
      "metadata": {
        "id": "fy9TXFKipa1x"
      }
    },
    {
      "cell_type": "markdown",
      "source": [
        "### 3. Random Forest\n",
        "\n"
      ],
      "metadata": {
        "id": "2xuHX5cjc2u_"
      }
    },
    {
      "cell_type": "markdown",
      "source": [
        "Random Forest is an ensemble method for classification using multiple decision trees. I am going to use Random Forest because it is useful for application where accuracy matters and it is suitable for large data sets. It is good for both discrete and continuous variables. Preprocessing is also quite easy. Since Decision Tree Classifier gave a pretty good result, I want to take a step further and try Random Forest to see if it will yield better results. "
      ],
      "metadata": {
        "id": "lwiQM2TAtlkh"
      }
    },
    {
      "cell_type": "code",
      "source": [
        "# drop target from X and save the target to y\n",
        "X = data.drop('Diabetes_binary', axis = 1)\n",
        "y = data['Diabetes_binary']\n",
        "# split data into test and train\n",
        "X_train, X_test, y_train, y_test = train_test_split(X, y, test_size = 0.2, random_state = 0)"
      ],
      "metadata": {
        "id": "zIpLG2R0OKa8"
      },
      "execution_count": 55,
      "outputs": []
    },
    {
      "cell_type": "code",
      "source": [
        "from sklearn.ensemble import RandomForestClassifier\n"
      ],
      "metadata": {
        "id": "1ruYRjfvO5MG"
      },
      "execution_count": 56,
      "outputs": []
    },
    {
      "cell_type": "code",
      "source": [
        "# build random forest model\n",
        "rf = RandomForestClassifier(random_state = 1, max_features = 'sqrt', n_jobs = 1, verbose = 1)\n",
        "# train the model\n",
        "%time rf.fit(X_train, y_train)\n",
        "# mean accuracy on test data and labels\n",
        "rf.score(X_test, y_test)"
      ],
      "metadata": {
        "colab": {
          "base_uri": "https://localhost:8080/"
        },
        "id": "B5MqKgRpOxxI",
        "outputId": "b6e3e9c4-59e3-4082-a0f9-cbff63a3b1f0"
      },
      "execution_count": 57,
      "outputs": [
        {
          "output_type": "stream",
          "name": "stderr",
          "text": [
            "[Parallel(n_jobs=1)]: Using backend SequentialBackend with 1 concurrent workers.\n",
            "[Parallel(n_jobs=1)]: Done 100 out of 100 | elapsed:    5.7s finished\n",
            "[Parallel(n_jobs=1)]: Using backend SequentialBackend with 1 concurrent workers.\n"
          ]
        },
        {
          "output_type": "stream",
          "name": "stdout",
          "text": [
            "CPU times: user 5.65 s, sys: 149 ms, total: 5.8 s\n",
            "Wall time: 5.8 s\n"
          ]
        },
        {
          "output_type": "stream",
          "name": "stderr",
          "text": [
            "[Parallel(n_jobs=1)]: Done 100 out of 100 | elapsed:    0.5s finished\n"
          ]
        },
        {
          "output_type": "execute_result",
          "data": {
            "text/plain": [
              "0.7242379234740788"
            ]
          },
          "metadata": {},
          "execution_count": 57
        }
      ]
    },
    {
      "cell_type": "code",
      "source": [
        "# get the predictions\n",
        "y_pred = rf.predict(X_test)\n",
        "print(y_pred)"
      ],
      "metadata": {
        "colab": {
          "base_uri": "https://localhost:8080/"
        },
        "id": "IQdN685JPO8t",
        "outputId": "7b59fc75-f67d-4bc4-ebca-4492cb83ef45"
      },
      "execution_count": 58,
      "outputs": [
        {
          "output_type": "stream",
          "name": "stderr",
          "text": [
            "[Parallel(n_jobs=1)]: Using backend SequentialBackend with 1 concurrent workers.\n"
          ]
        },
        {
          "output_type": "stream",
          "name": "stdout",
          "text": [
            "[1. 0. 0. ... 1. 0. 1.]\n"
          ]
        },
        {
          "output_type": "stream",
          "name": "stderr",
          "text": [
            "[Parallel(n_jobs=1)]: Done 100 out of 100 | elapsed:    0.5s finished\n"
          ]
        }
      ]
    },
    {
      "cell_type": "markdown",
      "source": [
        "Now I am going to evaluate the model with confusion matrix, accuracy, precision, recall and F1 score."
      ],
      "metadata": {
        "id": "irAcRiq5dX1S"
      }
    },
    {
      "cell_type": "code",
      "source": [
        "# confusion matrix to evaluate model\n",
        "matrix_rf = metrics.confusion_matrix(y_test, y_pred)\n",
        "print(matrix_rf)"
      ],
      "metadata": {
        "id": "I4E6TX3RQlt7",
        "colab": {
          "base_uri": "https://localhost:8080/"
        },
        "outputId": "4f73c54a-841d-435f-8aa0-8139150617ee"
      },
      "execution_count": 59,
      "outputs": [
        {
          "output_type": "stream",
          "name": "stdout",
          "text": [
            "[[4731 2201]\n",
            " [1698 5509]]\n"
          ]
        }
      ]
    },
    {
      "cell_type": "code",
      "source": [
        "# heatmap matrix\n",
        "plt.figure(figsize = (8,6))\n",
        "sns.heatmap(matrix_rf, annot = True, fmt = \".0f\", cmap = 'viridis')\n",
        "plt.title(\"Confusion Matrix - Random Forest\")\n",
        "plt.xlabel(\"Prediction\")\n",
        "plt.ylabel(\"Actual\")\n",
        "plt.show()"
      ],
      "metadata": {
        "colab": {
          "base_uri": "https://localhost:8080/",
          "height": 404
        },
        "id": "fmie0WqLPRlp",
        "outputId": "6ba789ff-fcde-40fb-f0ed-e3fa5c3bf2ef"
      },
      "execution_count": 60,
      "outputs": [
        {
          "output_type": "display_data",
          "data": {
            "image/png": "[encoded data removed]",
            "text/plain": [
              "<Figure size 576x432 with 2 Axes>"
            ]
          },
          "metadata": {
            "needs_background": "light"
          }
        }
      ]
    },
    {
      "cell_type": "code",
      "source": [
        "# RF classification report\n",
        "report_rf = metrics.classification_report(y_test, y_pred)\n",
        "print(report_rf)\n"
      ],
      "metadata": {
        "colab": {
          "base_uri": "https://localhost:8080/"
        },
        "id": "z5DKBCrxPh8g",
        "outputId": "a8b847dc-3809-4fca-f160-3bd355056344"
      },
      "execution_count": 61,
      "outputs": [
        {
          "output_type": "stream",
          "name": "stdout",
          "text": [
            "              precision    recall  f1-score   support\n",
            "\n",
            "         0.0       0.74      0.68      0.71      6932\n",
            "         1.0       0.71      0.76      0.74      7207\n",
            "\n",
            "    accuracy                           0.72     14139\n",
            "   macro avg       0.73      0.72      0.72     14139\n",
            "weighted avg       0.72      0.72      0.72     14139\n",
            "\n"
          ]
        }
      ]
    },
    {
      "cell_type": "code",
      "source": [
        "# cross validate\n",
        "scores_rf = cross_val_score(rf, X, y, cv=10)\n",
        "print(scores_rf)\n",
        "print(\"%0.2f accuracy with a standard deviation of %0.2f\" % (scores_rf.mean(), scores_rf.std()))"
      ],
      "metadata": {
        "colab": {
          "base_uri": "https://localhost:8080/"
        },
        "id": "OcVz9WWnz8hJ",
        "outputId": "fbd351b1-f076-4d96-d896-3553dbeeaa50"
      },
      "execution_count": 62,
      "outputs": [
        {
          "output_type": "stream",
          "name": "stderr",
          "text": [
            "[Parallel(n_jobs=1)]: Using backend SequentialBackend with 1 concurrent workers.\n",
            "[Parallel(n_jobs=1)]: Done 100 out of 100 | elapsed:    6.5s finished\n",
            "[Parallel(n_jobs=1)]: Using backend SequentialBackend with 1 concurrent workers.\n",
            "[Parallel(n_jobs=1)]: Done 100 out of 100 | elapsed:    0.3s finished\n",
            "[Parallel(n_jobs=1)]: Using backend SequentialBackend with 1 concurrent workers.\n",
            "[Parallel(n_jobs=1)]: Done 100 out of 100 | elapsed:    6.3s finished\n",
            "[Parallel(n_jobs=1)]: Using backend SequentialBackend with 1 concurrent workers.\n",
            "[Parallel(n_jobs=1)]: Done 100 out of 100 | elapsed:    0.3s finished\n",
            "[Parallel(n_jobs=1)]: Using backend SequentialBackend with 1 concurrent workers.\n",
            "[Parallel(n_jobs=1)]: Done 100 out of 100 | elapsed:    6.6s finished\n",
            "[Parallel(n_jobs=1)]: Using backend SequentialBackend with 1 concurrent workers.\n",
            "[Parallel(n_jobs=1)]: Done 100 out of 100 | elapsed:    0.3s finished\n",
            "[Parallel(n_jobs=1)]: Using backend SequentialBackend with 1 concurrent workers.\n",
            "[Parallel(n_jobs=1)]: Done 100 out of 100 | elapsed:    6.2s finished\n",
            "[Parallel(n_jobs=1)]: Using backend SequentialBackend with 1 concurrent workers.\n",
            "[Parallel(n_jobs=1)]: Done 100 out of 100 | elapsed:    0.3s finished\n",
            "[Parallel(n_jobs=1)]: Using backend SequentialBackend with 1 concurrent workers.\n",
            "[Parallel(n_jobs=1)]: Done 100 out of 100 | elapsed:    6.2s finished\n",
            "[Parallel(n_jobs=1)]: Using backend SequentialBackend with 1 concurrent workers.\n",
            "[Parallel(n_jobs=1)]: Done 100 out of 100 | elapsed:    0.3s finished\n",
            "[Parallel(n_jobs=1)]: Using backend SequentialBackend with 1 concurrent workers.\n",
            "[Parallel(n_jobs=1)]: Done 100 out of 100 | elapsed:    6.1s finished\n",
            "[Parallel(n_jobs=1)]: Using backend SequentialBackend with 1 concurrent workers.\n",
            "[Parallel(n_jobs=1)]: Done 100 out of 100 | elapsed:    0.3s finished\n",
            "[Parallel(n_jobs=1)]: Using backend SequentialBackend with 1 concurrent workers.\n",
            "[Parallel(n_jobs=1)]: Done 100 out of 100 | elapsed:    6.1s finished\n",
            "[Parallel(n_jobs=1)]: Using backend SequentialBackend with 1 concurrent workers.\n",
            "[Parallel(n_jobs=1)]: Done 100 out of 100 | elapsed:    0.3s finished\n",
            "[Parallel(n_jobs=1)]: Using backend SequentialBackend with 1 concurrent workers.\n",
            "[Parallel(n_jobs=1)]: Done 100 out of 100 | elapsed:    6.2s finished\n",
            "[Parallel(n_jobs=1)]: Using backend SequentialBackend with 1 concurrent workers.\n",
            "[Parallel(n_jobs=1)]: Done 100 out of 100 | elapsed:    0.3s finished\n",
            "[Parallel(n_jobs=1)]: Using backend SequentialBackend with 1 concurrent workers.\n",
            "[Parallel(n_jobs=1)]: Done 100 out of 100 | elapsed:    6.1s finished\n",
            "[Parallel(n_jobs=1)]: Using backend SequentialBackend with 1 concurrent workers.\n",
            "[Parallel(n_jobs=1)]: Done 100 out of 100 | elapsed:    0.3s finished\n",
            "[Parallel(n_jobs=1)]: Using backend SequentialBackend with 1 concurrent workers.\n",
            "[Parallel(n_jobs=1)]: Done 100 out of 100 | elapsed:    6.2s finished\n",
            "[Parallel(n_jobs=1)]: Using backend SequentialBackend with 1 concurrent workers.\n"
          ]
        },
        {
          "output_type": "stream",
          "name": "stdout",
          "text": [
            "[0.72319661 0.71711457 0.72655255 0.71608431 0.7271184  0.72839157\n",
            " 0.73390862 0.72358184 0.72527939 0.73730372]\n",
            "0.73 accuracy with a standard deviation of 0.01\n"
          ]
        },
        {
          "output_type": "stream",
          "name": "stderr",
          "text": [
            "[Parallel(n_jobs=1)]: Done 100 out of 100 | elapsed:    0.3s finished\n"
          ]
        }
      ]
    },
    {
      "cell_type": "markdown",
      "source": [
        "Although this model performs pretty well across the entire data, it is not better than Naive Bayes or Decision Tree, which is a bit surprising. "
      ],
      "metadata": {
        "id": "RfAZGMFPdjOf"
      }
    },
    {
      "cell_type": "markdown",
      "source": [
        "Overall: Interestingly, Naive Bayes produced the best results out of 3 models. This might be because Naive Bayes is resilient to noisy data. It is also the fastest out of 3 models, with only a bit over 50 ms! Decision Trees and Random Forest have similar performance, which is surprising because I expected Random Forest to have better results. Perhaps I need to reduce the number of irrelevant features and try some techniques to see if these 2 models can improve, since I think they should be able to yield better results. "
      ],
      "metadata": {
        "id": "H0Dvp0b_4lfs"
      }
    },
    {
      "cell_type": "markdown",
      "source": [
        "## Conclusion"
      ],
      "metadata": {
        "id": "siTY57Awsztv"
      }
    },
    {
      "cell_type": "markdown",
      "source": [
        "Through this entire process, I was able to learn so much about data preprocessing, modeling, and evaluating results. It was very challenging to figure out what is the best method to treat the data and choosing the right model for the data set. I definitely see how difficult it can be to optimize the performance of the models to yield the best results when having to work with a relatively big and complicated dataset with a mix of categorical and numerical features like this diabetes data set. I am glad to take on this challenge because I was able to understand more about the importance of Feature Selection, some preprocessing techniques such as One Hot Encoding and Target Encoding, how different machine learning models work for classification tasks, how to evaluate the model performance and deciding what to do from there to improve the models' performance. "
      ],
      "metadata": {
        "id": "AKTYReRk3I60"
      }
    }
  ]
}