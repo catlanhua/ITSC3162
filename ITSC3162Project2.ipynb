{
  "nbformat": 4,
  "nbformat_minor": 0,
  "metadata": {
    "colab": {
      "name": "ITSC3162Project2.ipynb",
      "provenance": [],
      "collapsed_sections": []
    },
    "kernelspec": {
      "name": "python3",
      "display_name": "Python 3"
    },
    "language_info": {
      "name": "python"
    }
  },
  "cells": [
    {
      "cell_type": "markdown",
      "source": [
        "# Project 2"
      ],
      "metadata": {
        "id": "XREObe3c-T2u"
      }
    },
    {
      "cell_type": "markdown",
      "source": [
        "For this project, I am going to build classification models to predict if a person is diabetic or not given certain features. My main goal for this project is to understand various classification algorithms on a deeper level and be able to compare them."
      ],
      "metadata": {
        "id": "2twB08q48-K7"
      }
    },
    {
      "cell_type": "markdown",
      "source": [
        "## Data Inspection\n"
      ],
      "metadata": {
        "id": "I651gWmfZlFN"
      }
    },
    {
      "cell_type": "code",
      "execution_count": 1,
      "metadata": {
        "id": "W93q_EZD8dKW"
      },
      "outputs": [],
      "source": [
        "# import libraries\n",
        "import numpy as np\n",
        "import pandas as pd\n",
        "import seaborn as sns\n",
        "import matplotlib.pyplot as plt\n",
        "import math\n",
        "import scipy.stats as stats\n"
      ]
    },
    {
      "cell_type": "code",
      "source": [
        "# read data\n",
        "data = pd.read_csv('/content/diabetes_binary_5050split_health_indicators_BRFSS2015.csv')"
      ],
      "metadata": {
        "id": "CKE3uaXqKJ0u"
      },
      "execution_count": 2,
      "outputs": []
    },
    {
      "cell_type": "code",
      "source": [
        "# inspect shape, columns, nulls, datatypes\n",
        "data.shape"
      ],
      "metadata": {
        "colab": {
          "base_uri": "https://localhost:8080/"
        },
        "id": "um7l3KTwLH_I",
        "outputId": "d62ed064-c12d-4880-9a38-7dde115cfa07"
      },
      "execution_count": 3,
      "outputs": [
        {
          "output_type": "execute_result",
          "data": {
            "text/plain": [
              "(70692, 22)"
            ]
          },
          "metadata": {},
          "execution_count": 3
        }
      ]
    },
    {
      "cell_type": "code",
      "source": [
        "data.info()"
      ],
      "metadata": {
        "colab": {
          "base_uri": "https://localhost:8080/"
        },
        "id": "38FY7Cx_Lfam",
        "outputId": "3c03eb21-738e-4658-9e98-840f170e3b45"
      },
      "execution_count": 4,
      "outputs": [
        {
          "output_type": "stream",
          "name": "stdout",
          "text": [
            "<class 'pandas.core.frame.DataFrame'>\n",
            "RangeIndex: 70692 entries, 0 to 70691\n",
            "Data columns (total 22 columns):\n",
            " #   Column                Non-Null Count  Dtype  \n",
            "---  ------                --------------  -----  \n",
            " 0   Diabetes_binary       70692 non-null  float64\n",
            " 1   HighBP                70692 non-null  float64\n",
            " 2   HighChol              70692 non-null  float64\n",
            " 3   CholCheck             70692 non-null  float64\n",
            " 4   BMI                   70692 non-null  float64\n",
            " 5   Smoker                70692 non-null  float64\n",
            " 6   Stroke                70692 non-null  float64\n",
            " 7   HeartDiseaseorAttack  70692 non-null  float64\n",
            " 8   PhysActivity          70692 non-null  float64\n",
            " 9   Fruits                70692 non-null  float64\n",
            " 10  Veggies               70692 non-null  float64\n",
            " 11  HvyAlcoholConsump     70692 non-null  float64\n",
            " 12  AnyHealthcare         70692 non-null  float64\n",
            " 13  NoDocbcCost           70692 non-null  float64\n",
            " 14  GenHlth               70692 non-null  float64\n",
            " 15  MentHlth              70692 non-null  float64\n",
            " 16  PhysHlth              70692 non-null  float64\n",
            " 17  DiffWalk              70692 non-null  float64\n",
            " 18  Sex                   70692 non-null  float64\n",
            " 19  Age                   70692 non-null  float64\n",
            " 20  Education             70692 non-null  float64\n",
            " 21  Income                70692 non-null  float64\n",
            "dtypes: float64(22)\n",
            "memory usage: 11.9 MB\n"
          ]
        }
      ]
    },
    {
      "cell_type": "markdown",
      "source": [
        "There are no nulls so that is great."
      ],
      "metadata": {
        "id": "cnUSPbMeZ9aZ"
      }
    },
    {
      "cell_type": "code",
      "source": [
        "data.head()"
      ],
      "metadata": {
        "colab": {
          "base_uri": "https://localhost:8080/",
          "height": 270
        },
        "id": "Ecirz0LeLMFd",
        "outputId": "1a75b157-5f11-42b0-99f5-6f862fe8d03e"
      },
      "execution_count": 5,
      "outputs": [
        {
          "output_type": "execute_result",
          "data": {
            "text/html": [
              "\n",
              "  <div id=\"df-3a0b4f67-5f67-4841-b6c3-ae97a59c9a20\">\n",
              "    <div class=\"colab-df-container\">\n",
              "      <div>\n",
              "<style scoped>\n",
              "    .dataframe tbody tr th:only-of-type {\n",
              "        vertical-align: middle;\n",
              "    }\n",
              "\n",
              "    .dataframe tbody tr th {\n",
              "        vertical-align: top;\n",
              "    }\n",
              "\n",
              "    .dataframe thead th {\n",
              "        text-align: right;\n",
              "    }\n",
              "</style>\n",
              "<table border=\"1\" class=\"dataframe\">\n",
              "  <thead>\n",
              "    <tr style=\"text-align: right;\">\n",
              "      <th></th>\n",
              "      <th>Diabetes_binary</th>\n",
              "      <th>HighBP</th>\n",
              "      <th>HighChol</th>\n",
              "      <th>CholCheck</th>\n",
              "      <th>BMI</th>\n",
              "      <th>Smoker</th>\n",
              "      <th>Stroke</th>\n",
              "      <th>HeartDiseaseorAttack</th>\n",
              "      <th>PhysActivity</th>\n",
              "      <th>Fruits</th>\n",
              "      <th>Veggies</th>\n",
              "      <th>HvyAlcoholConsump</th>\n",
              "      <th>AnyHealthcare</th>\n",
              "      <th>NoDocbcCost</th>\n",
              "      <th>GenHlth</th>\n",
              "      <th>MentHlth</th>\n",
              "      <th>PhysHlth</th>\n",
              "      <th>DiffWalk</th>\n",
              "      <th>Sex</th>\n",
              "      <th>Age</th>\n",
              "      <th>Education</th>\n",
              "      <th>Income</th>\n",
              "    </tr>\n",
              "  </thead>\n",
              "  <tbody>\n",
              "    <tr>\n",
              "      <th>0</th>\n",
              "      <td>0.0</td>\n",
              "      <td>1.0</td>\n",
              "      <td>0.0</td>\n",
              "      <td>1.0</td>\n",
              "      <td>26.0</td>\n",
              "      <td>0.0</td>\n",
              "      <td>0.0</td>\n",
              "      <td>0.0</td>\n",
              "      <td>1.0</td>\n",
              "      <td>0.0</td>\n",
              "      <td>1.0</td>\n",
              "      <td>0.0</td>\n",
              "      <td>1.0</td>\n",
              "      <td>0.0</td>\n",
              "      <td>3.0</td>\n",
              "      <td>5.0</td>\n",
              "      <td>30.0</td>\n",
              "      <td>0.0</td>\n",
              "      <td>1.0</td>\n",
              "      <td>4.0</td>\n",
              "      <td>6.0</td>\n",
              "      <td>8.0</td>\n",
              "    </tr>\n",
              "    <tr>\n",
              "      <th>1</th>\n",
              "      <td>0.0</td>\n",
              "      <td>1.0</td>\n",
              "      <td>1.0</td>\n",
              "      <td>1.0</td>\n",
              "      <td>26.0</td>\n",
              "      <td>1.0</td>\n",
              "      <td>1.0</td>\n",
              "      <td>0.0</td>\n",
              "      <td>0.0</td>\n",
              "      <td>1.0</td>\n",
              "      <td>0.0</td>\n",
              "      <td>0.0</td>\n",
              "      <td>1.0</td>\n",
              "      <td>0.0</td>\n",
              "      <td>3.0</td>\n",
              "      <td>0.0</td>\n",
              "      <td>0.0</td>\n",
              "      <td>0.0</td>\n",
              "      <td>1.0</td>\n",
              "      <td>12.0</td>\n",
              "      <td>6.0</td>\n",
              "      <td>8.0</td>\n",
              "    </tr>\n",
              "    <tr>\n",
              "      <th>2</th>\n",
              "      <td>0.0</td>\n",
              "      <td>0.0</td>\n",
              "      <td>0.0</td>\n",
              "      <td>1.0</td>\n",
              "      <td>26.0</td>\n",
              "      <td>0.0</td>\n",
              "      <td>0.0</td>\n",
              "      <td>0.0</td>\n",
              "      <td>1.0</td>\n",
              "      <td>1.0</td>\n",
              "      <td>1.0</td>\n",
              "      <td>0.0</td>\n",
              "      <td>1.0</td>\n",
              "      <td>0.0</td>\n",
              "      <td>1.0</td>\n",
              "      <td>0.0</td>\n",
              "      <td>10.0</td>\n",
              "      <td>0.0</td>\n",
              "      <td>1.0</td>\n",
              "      <td>13.0</td>\n",
              "      <td>6.0</td>\n",
              "      <td>8.0</td>\n",
              "    </tr>\n",
              "    <tr>\n",
              "      <th>3</th>\n",
              "      <td>0.0</td>\n",
              "      <td>1.0</td>\n",
              "      <td>1.0</td>\n",
              "      <td>1.0</td>\n",
              "      <td>28.0</td>\n",
              "      <td>1.0</td>\n",
              "      <td>0.0</td>\n",
              "      <td>0.0</td>\n",
              "      <td>1.0</td>\n",
              "      <td>1.0</td>\n",
              "      <td>1.0</td>\n",
              "      <td>0.0</td>\n",
              "      <td>1.0</td>\n",
              "      <td>0.0</td>\n",
              "      <td>3.0</td>\n",
              "      <td>0.0</td>\n",
              "      <td>3.0</td>\n",
              "      <td>0.0</td>\n",
              "      <td>1.0</td>\n",
              "      <td>11.0</td>\n",
              "      <td>6.0</td>\n",
              "      <td>8.0</td>\n",
              "    </tr>\n",
              "    <tr>\n",
              "      <th>4</th>\n",
              "      <td>0.0</td>\n",
              "      <td>0.0</td>\n",
              "      <td>0.0</td>\n",
              "      <td>1.0</td>\n",
              "      <td>29.0</td>\n",
              "      <td>1.0</td>\n",
              "      <td>0.0</td>\n",
              "      <td>0.0</td>\n",
              "      <td>1.0</td>\n",
              "      <td>1.0</td>\n",
              "      <td>1.0</td>\n",
              "      <td>0.0</td>\n",
              "      <td>1.0</td>\n",
              "      <td>0.0</td>\n",
              "      <td>2.0</td>\n",
              "      <td>0.0</td>\n",
              "      <td>0.0</td>\n",
              "      <td>0.0</td>\n",
              "      <td>0.0</td>\n",
              "      <td>8.0</td>\n",
              "      <td>5.0</td>\n",
              "      <td>8.0</td>\n",
              "    </tr>\n",
              "  </tbody>\n",
              "</table>\n",
              "</div>\n",
              "      <button class=\"colab-df-convert\" onclick=\"convertToInteractive('df-3a0b4f67-5f67-4841-b6c3-ae97a59c9a20')\"\n",
              "              title=\"Convert this dataframe to an interactive table.\"\n",
              "              style=\"display:none;\">\n",
              "        \n",
              "  <svg xmlns=\"http://www.w3.org/2000/svg\" height=\"24px\"viewBox=\"0 0 24 24\"\n",
              "       width=\"24px\">\n",
              "    <path d=\"M0 0h24v24H0V0z\" fill=\"none\"/>\n",
              "    <path d=\"M18.56 5.44l.94 2.06.94-2.06 2.06-.94-2.06-.94-.94-2.06-.94 2.06-2.06.94zm-11 1L8.5 8.5l.94-2.06 2.06-.94-2.06-.94L8.5 2.5l-.94 2.06-2.06.94zm10 10l.94 2.06.94-2.06 2.06-.94-2.06-.94-.94-2.06-.94 2.06-2.06.94z\"/><path d=\"M17.41 7.96l-1.37-1.37c-.4-.4-.92-.59-1.43-.59-.52 0-1.04.2-1.43.59L10.3 9.45l-7.72 7.72c-.78.78-.78 2.05 0 2.83L4 21.41c.39.39.9.59 1.41.59.51 0 1.02-.2 1.41-.59l7.78-7.78 2.81-2.81c.8-.78.8-2.07 0-2.86zM5.41 20L4 18.59l7.72-7.72 1.47 1.35L5.41 20z\"/>\n",
              "  </svg>\n",
              "      </button>\n",
              "      \n",
              "  <style>\n",
              "    .colab-df-container {\n",
              "      display:flex;\n",
              "      flex-wrap:wrap;\n",
              "      gap: 12px;\n",
              "    }\n",
              "\n",
              "    .colab-df-convert {\n",
              "      background-color: #E8F0FE;\n",
              "      border: none;\n",
              "      border-radius: 50%;\n",
              "      cursor: pointer;\n",
              "      display: none;\n",
              "      fill: #1967D2;\n",
              "      height: 32px;\n",
              "      padding: 0 0 0 0;\n",
              "      width: 32px;\n",
              "    }\n",
              "\n",
              "    .colab-df-convert:hover {\n",
              "      background-color: #E2EBFA;\n",
              "      box-shadow: 0px 1px 2px rgba(60, 64, 67, 0.3), 0px 1px 3px 1px rgba(60, 64, 67, 0.15);\n",
              "      fill: #174EA6;\n",
              "    }\n",
              "\n",
              "    [theme=dark] .colab-df-convert {\n",
              "      background-color: #3B4455;\n",
              "      fill: #D2E3FC;\n",
              "    }\n",
              "\n",
              "    [theme=dark] .colab-df-convert:hover {\n",
              "      background-color: #434B5C;\n",
              "      box-shadow: 0px 1px 3px 1px rgba(0, 0, 0, 0.15);\n",
              "      filter: drop-shadow(0px 1px 2px rgba(0, 0, 0, 0.3));\n",
              "      fill: #FFFFFF;\n",
              "    }\n",
              "  </style>\n",
              "\n",
              "      <script>\n",
              "        const buttonEl =\n",
              "          document.querySelector('#df-3a0b4f67-5f67-4841-b6c3-ae97a59c9a20 button.colab-df-convert');\n",
              "        buttonEl.style.display =\n",
              "          google.colab.kernel.accessAllowed ? 'block' : 'none';\n",
              "\n",
              "        async function convertToInteractive(key) {\n",
              "          const element = document.querySelector('#df-3a0b4f67-5f67-4841-b6c3-ae97a59c9a20');\n",
              "          const dataTable =\n",
              "            await google.colab.kernel.invokeFunction('convertToInteractive',\n",
              "                                                     [key], {});\n",
              "          if (!dataTable) return;\n",
              "\n",
              "          const docLinkHtml = 'Like what you see? Visit the ' +\n",
              "            '<a target=\"_blank\" href=https://colab.research.google.com/notebooks/data_table.ipynb>data table notebook</a>'\n",
              "            + ' to learn more about interactive tables.';\n",
              "          element.innerHTML = '';\n",
              "          dataTable['output_type'] = 'display_data';\n",
              "          await google.colab.output.renderOutput(dataTable, element);\n",
              "          const docLink = document.createElement('div');\n",
              "          docLink.innerHTML = docLinkHtml;\n",
              "          element.appendChild(docLink);\n",
              "        }\n",
              "      </script>\n",
              "    </div>\n",
              "  </div>\n",
              "  "
            ],
            "text/plain": [
              "   Diabetes_binary  HighBP  HighChol  CholCheck  ...  Sex   Age  Education  Income\n",
              "0              0.0     1.0       0.0        1.0  ...  1.0   4.0        6.0     8.0\n",
              "1              0.0     1.0       1.0        1.0  ...  1.0  12.0        6.0     8.0\n",
              "2              0.0     0.0       0.0        1.0  ...  1.0  13.0        6.0     8.0\n",
              "3              0.0     1.0       1.0        1.0  ...  1.0  11.0        6.0     8.0\n",
              "4              0.0     0.0       0.0        1.0  ...  0.0   8.0        5.0     8.0\n",
              "\n",
              "[5 rows x 22 columns]"
            ]
          },
          "metadata": {},
          "execution_count": 5
        }
      ]
    },
    {
      "cell_type": "markdown",
      "source": [
        "After inpsecting the data, I see that there are 2 types of variables in the dataset: categorical and numerical variables. So, instead of calculating correlation normally, I will need to use Cramer's V to calculate the correlation between each of the categorical value with the target and point biserial between the numerical value with the target."
      ],
      "metadata": {
        "id": "cdZ2fhveXqAI"
      }
    },
    {
      "cell_type": "code",
      "source": [
        "# Check see if data is balanced\n",
        "ax = sns.countplot(x=\"Diabetes_binary\", data=data)"
      ],
      "metadata": {
        "colab": {
          "base_uri": "https://localhost:8080/",
          "height": 280
        },
        "id": "_jK1kN_8QMte",
        "outputId": "828fb477-46eb-48e4-e1e7-f59574155f77"
      },
      "execution_count": 6,
      "outputs": [
        {
          "output_type": "display_data",
          "data": {
            "image/png": "[encoded data removed]",
            "text/plain": [
              "<Figure size 432x288 with 1 Axes>"
            ]
          },
          "metadata": {
            "needs_background": "light"
          }
        }
      ]
    },
    {
      "cell_type": "code",
      "source": [
        "data['Diabetes_binary'].value_counts()"
      ],
      "metadata": {
        "colab": {
          "base_uri": "https://localhost:8080/"
        },
        "id": "eqaEjXENZdui",
        "outputId": "7416d4e3-2c81-4ef2-d5e1-ef6698262d52"
      },
      "execution_count": 7,
      "outputs": [
        {
          "output_type": "execute_result",
          "data": {
            "text/plain": [
              "0.0    35346\n",
              "1.0    35346\n",
              "Name: Diabetes_binary, dtype: int64"
            ]
          },
          "metadata": {},
          "execution_count": 7
        }
      ]
    },
    {
      "cell_type": "markdown",
      "source": [
        "Data is perfectly balanced.\n"
      ],
      "metadata": {
        "id": "by_KFFmoaQvA"
      }
    },
    {
      "cell_type": "markdown",
      "source": [
        "## Preprocessing - Calculating Correlation"
      ],
      "metadata": {
        "id": "fJhEieuIpQuV"
      }
    },
    {
      "cell_type": "markdown",
      "source": [
        "First, I will calculate the correlation between numerical data and categorical data using Point Biserial. A result of 1 means there is a positive correlation, 0 means there is no correlation, and -1 means there is a negative correlation."
      ],
      "metadata": {
        "id": "D_n7EJ-zpT0O"
      }
    },
    {
      "cell_type": "code",
      "source": [
        "# calculate point-biserial correlation between BMI and target\n",
        "x = data['Diabetes_binary'].to_numpy()\n",
        "y = data['BMI'].to_numpy()\n",
        "stats.pointbiserialr(x, y)"
      ],
      "metadata": {
        "colab": {
          "base_uri": "https://localhost:8080/"
        },
        "id": "QX6oHbNAkowH",
        "outputId": "76151a7f-0980-446b-b221-e050b8eefc97"
      },
      "execution_count": 8,
      "outputs": [
        {
          "output_type": "execute_result",
          "data": {
            "text/plain": [
              "PointbiserialrResult(correlation=0.29337274476104624, pvalue=0.0)"
            ]
          },
          "metadata": {},
          "execution_count": 8
        }
      ]
    },
    {
      "cell_type": "code",
      "source": [
        "# similarly, correlation between target and mental health days\n",
        "x = data['Diabetes_binary'].to_numpy()\n",
        "y = data['MentHlth'].to_numpy()\n",
        "stats.pointbiserialr(x, y)"
      ],
      "metadata": {
        "colab": {
          "base_uri": "https://localhost:8080/"
        },
        "id": "PnK9iZRbmjg4",
        "outputId": "cde0d2cc-ce7c-4cee-ed9f-472c5fe4b293"
      },
      "execution_count": 9,
      "outputs": [
        {
          "output_type": "execute_result",
          "data": {
            "text/plain": [
              "PointbiserialrResult(correlation=0.08702877147509541, pvalue=6.795439709628024e-119)"
            ]
          },
          "metadata": {},
          "execution_count": 9
        }
      ]
    },
    {
      "cell_type": "code",
      "source": [
        "# correlation between target and days with physical illness or injury\n",
        "x = data['Diabetes_binary'].to_numpy()\n",
        "y = data['PhysHlth'].to_numpy()\n",
        "stats.pointbiserialr(x, y)"
      ],
      "metadata": {
        "colab": {
          "base_uri": "https://localhost:8080/"
        },
        "id": "K2DJ0Japm28F",
        "outputId": "c22c4ef8-853c-4456-b4a8-67e2e00afec1"
      },
      "execution_count": 10,
      "outputs": [
        {
          "output_type": "execute_result",
          "data": {
            "text/plain": [
              "PointbiserialrResult(correlation=0.21308101903810778, pvalue=0.0)"
            ]
          },
          "metadata": {},
          "execution_count": 10
        }
      ]
    },
    {
      "cell_type": "markdown",
      "source": [
        "Since the p-value of all 3 correlations are less than .05, they are statistically significant. "
      ],
      "metadata": {
        "id": "pmR15L6SnZV_"
      }
    },
    {
      "cell_type": "markdown",
      "source": [
        "Now I will use Cramer's V to calculate correlation between the categorical variables. A result of 1 means highly associated, 0 means not."
      ],
      "metadata": {
        "id": "XBBW78TepcgP"
      }
    },
    {
      "cell_type": "code",
      "source": [
        "# define cramers_v function\n",
        "def cramers_v(x, y):\n",
        "    confusion_matrix = pd.crosstab(x,y)\n",
        "    chi2 = stats.chi2_contingency(confusion_matrix)[0]\n",
        "    n = confusion_matrix.sum().sum()\n",
        "    phi2 = chi2/n\n",
        "    r,k = confusion_matrix.shape\n",
        "    phi2corr = max(0, phi2-((k-1)*(r-1))/(n-1))\n",
        "    rcorr = r-((r-1)**2)/(n-1)\n",
        "    kcorr = k-((k-1)**2)/(n-1)\n",
        "    return np.sqrt(phi2corr/min((kcorr-1),(rcorr-1)))"
      ],
      "metadata": {
        "id": "CkqC_qfcoxOY"
      },
      "execution_count": 11,
      "outputs": []
    },
    {
      "cell_type": "code",
      "source": [
        "# New dataframe with only categorical values\n",
        "data2 = data.copy()\n",
        "data2 = data2.drop(columns=['BMI', 'MentHlth', 'PhysHlth'])\n",
        "data2"
      ],
      "metadata": {
        "id": "1UBzUkNeqjjA",
        "colab": {
          "base_uri": "https://localhost:8080/",
          "height": 487
        },
        "outputId": "ece42ab3-9f5d-4d86-b1c4-11f37a245857"
      },
      "execution_count": 12,
      "outputs": [
        {
          "output_type": "execute_result",
          "data": {
            "text/html": [
              "\n",
              "  <div id=\"df-1d081407-9575-42f4-a7fe-9fc9e10cd8cb\">\n",
              "    <div class=\"colab-df-container\">\n",
              "      <div>\n",
              "<style scoped>\n",
              "    .dataframe tbody tr th:only-of-type {\n",
              "        vertical-align: middle;\n",
              "    }\n",
              "\n",
              "    .dataframe tbody tr th {\n",
              "        vertical-align: top;\n",
              "    }\n",
              "\n",
              "    .dataframe thead th {\n",
              "        text-align: right;\n",
              "    }\n",
              "</style>\n",
              "<table border=\"1\" class=\"dataframe\">\n",
              "  <thead>\n",
              "    <tr style=\"text-align: right;\">\n",
              "      <th></th>\n",
              "      <th>Diabetes_binary</th>\n",
              "      <th>HighBP</th>\n",
              "      <th>HighChol</th>\n",
              "      <th>CholCheck</th>\n",
              "      <th>Smoker</th>\n",
              "      <th>Stroke</th>\n",
              "      <th>HeartDiseaseorAttack</th>\n",
              "      <th>PhysActivity</th>\n",
              "      <th>Fruits</th>\n",
              "      <th>Veggies</th>\n",
              "      <th>HvyAlcoholConsump</th>\n",
              "      <th>AnyHealthcare</th>\n",
              "      <th>NoDocbcCost</th>\n",
              "      <th>GenHlth</th>\n",
              "      <th>DiffWalk</th>\n",
              "      <th>Sex</th>\n",
              "      <th>Age</th>\n",
              "      <th>Education</th>\n",
              "      <th>Income</th>\n",
              "    </tr>\n",
              "  </thead>\n",
              "  <tbody>\n",
              "    <tr>\n",
              "      <th>0</th>\n",
              "      <td>0.0</td>\n",
              "      <td>1.0</td>\n",
              "      <td>0.0</td>\n",
              "      <td>1.0</td>\n",
              "      <td>0.0</td>\n",
              "      <td>0.0</td>\n",
              "      <td>0.0</td>\n",
              "      <td>1.0</td>\n",
              "      <td>0.0</td>\n",
              "      <td>1.0</td>\n",
              "      <td>0.0</td>\n",
              "      <td>1.0</td>\n",
              "      <td>0.0</td>\n",
              "      <td>3.0</td>\n",
              "      <td>0.0</td>\n",
              "      <td>1.0</td>\n",
              "      <td>4.0</td>\n",
              "      <td>6.0</td>\n",
              "      <td>8.0</td>\n",
              "    </tr>\n",
              "    <tr>\n",
              "      <th>1</th>\n",
              "      <td>0.0</td>\n",
              "      <td>1.0</td>\n",
              "      <td>1.0</td>\n",
              "      <td>1.0</td>\n",
              "      <td>1.0</td>\n",
              "      <td>1.0</td>\n",
              "      <td>0.0</td>\n",
              "      <td>0.0</td>\n",
              "      <td>1.0</td>\n",
              "      <td>0.0</td>\n",
              "      <td>0.0</td>\n",
              "      <td>1.0</td>\n",
              "      <td>0.0</td>\n",
              "      <td>3.0</td>\n",
              "      <td>0.0</td>\n",
              "      <td>1.0</td>\n",
              "      <td>12.0</td>\n",
              "      <td>6.0</td>\n",
              "      <td>8.0</td>\n",
              "    </tr>\n",
              "    <tr>\n",
              "      <th>2</th>\n",
              "      <td>0.0</td>\n",
              "      <td>0.0</td>\n",
              "      <td>0.0</td>\n",
              "      <td>1.0</td>\n",
              "      <td>0.0</td>\n",
              "      <td>0.0</td>\n",
              "      <td>0.0</td>\n",
              "      <td>1.0</td>\n",
              "      <td>1.0</td>\n",
              "      <td>1.0</td>\n",
              "      <td>0.0</td>\n",
              "      <td>1.0</td>\n",
              "      <td>0.0</td>\n",
              "      <td>1.0</td>\n",
              "      <td>0.0</td>\n",
              "      <td>1.0</td>\n",
              "      <td>13.0</td>\n",
              "      <td>6.0</td>\n",
              "      <td>8.0</td>\n",
              "    </tr>\n",
              "    <tr>\n",
              "      <th>3</th>\n",
              "      <td>0.0</td>\n",
              "      <td>1.0</td>\n",
              "      <td>1.0</td>\n",
              "      <td>1.0</td>\n",
              "      <td>1.0</td>\n",
              "      <td>0.0</td>\n",
              "      <td>0.0</td>\n",
              "      <td>1.0</td>\n",
              "      <td>1.0</td>\n",
              "      <td>1.0</td>\n",
              "      <td>0.0</td>\n",
              "      <td>1.0</td>\n",
              "      <td>0.0</td>\n",
              "      <td>3.0</td>\n",
              "      <td>0.0</td>\n",
              "      <td>1.0</td>\n",
              "      <td>11.0</td>\n",
              "      <td>6.0</td>\n",
              "      <td>8.0</td>\n",
              "    </tr>\n",
              "    <tr>\n",
              "      <th>4</th>\n",
              "      <td>0.0</td>\n",
              "      <td>0.0</td>\n",
              "      <td>0.0</td>\n",
              "      <td>1.0</td>\n",
              "      <td>1.0</td>\n",
              "      <td>0.0</td>\n",
              "      <td>0.0</td>\n",
              "      <td>1.0</td>\n",
              "      <td>1.0</td>\n",
              "      <td>1.0</td>\n",
              "      <td>0.0</td>\n",
              "      <td>1.0</td>\n",
              "      <td>0.0</td>\n",
              "      <td>2.0</td>\n",
              "      <td>0.0</td>\n",
              "      <td>0.0</td>\n",
              "      <td>8.0</td>\n",
              "      <td>5.0</td>\n",
              "      <td>8.0</td>\n",
              "    </tr>\n",
              "    <tr>\n",
              "      <th>...</th>\n",
              "      <td>...</td>\n",
              "      <td>...</td>\n",
              "      <td>...</td>\n",
              "      <td>...</td>\n",
              "      <td>...</td>\n",
              "      <td>...</td>\n",
              "      <td>...</td>\n",
              "      <td>...</td>\n",
              "      <td>...</td>\n",
              "      <td>...</td>\n",
              "      <td>...</td>\n",
              "      <td>...</td>\n",
              "      <td>...</td>\n",
              "      <td>...</td>\n",
              "      <td>...</td>\n",
              "      <td>...</td>\n",
              "      <td>...</td>\n",
              "      <td>...</td>\n",
              "      <td>...</td>\n",
              "    </tr>\n",
              "    <tr>\n",
              "      <th>70687</th>\n",
              "      <td>1.0</td>\n",
              "      <td>0.0</td>\n",
              "      <td>1.0</td>\n",
              "      <td>1.0</td>\n",
              "      <td>0.0</td>\n",
              "      <td>0.0</td>\n",
              "      <td>0.0</td>\n",
              "      <td>0.0</td>\n",
              "      <td>0.0</td>\n",
              "      <td>1.0</td>\n",
              "      <td>0.0</td>\n",
              "      <td>1.0</td>\n",
              "      <td>0.0</td>\n",
              "      <td>4.0</td>\n",
              "      <td>0.0</td>\n",
              "      <td>0.0</td>\n",
              "      <td>6.0</td>\n",
              "      <td>4.0</td>\n",
              "      <td>1.0</td>\n",
              "    </tr>\n",
              "    <tr>\n",
              "      <th>70688</th>\n",
              "      <td>1.0</td>\n",
              "      <td>0.0</td>\n",
              "      <td>1.0</td>\n",
              "      <td>1.0</td>\n",
              "      <td>1.0</td>\n",
              "      <td>0.0</td>\n",
              "      <td>1.0</td>\n",
              "      <td>0.0</td>\n",
              "      <td>1.0</td>\n",
              "      <td>1.0</td>\n",
              "      <td>0.0</td>\n",
              "      <td>1.0</td>\n",
              "      <td>0.0</td>\n",
              "      <td>2.0</td>\n",
              "      <td>1.0</td>\n",
              "      <td>1.0</td>\n",
              "      <td>10.0</td>\n",
              "      <td>3.0</td>\n",
              "      <td>6.0</td>\n",
              "    </tr>\n",
              "    <tr>\n",
              "      <th>70689</th>\n",
              "      <td>1.0</td>\n",
              "      <td>1.0</td>\n",
              "      <td>1.0</td>\n",
              "      <td>1.0</td>\n",
              "      <td>0.0</td>\n",
              "      <td>0.0</td>\n",
              "      <td>1.0</td>\n",
              "      <td>0.0</td>\n",
              "      <td>1.0</td>\n",
              "      <td>0.0</td>\n",
              "      <td>0.0</td>\n",
              "      <td>1.0</td>\n",
              "      <td>0.0</td>\n",
              "      <td>5.0</td>\n",
              "      <td>1.0</td>\n",
              "      <td>0.0</td>\n",
              "      <td>13.0</td>\n",
              "      <td>6.0</td>\n",
              "      <td>4.0</td>\n",
              "    </tr>\n",
              "    <tr>\n",
              "      <th>70690</th>\n",
              "      <td>1.0</td>\n",
              "      <td>1.0</td>\n",
              "      <td>1.0</td>\n",
              "      <td>1.0</td>\n",
              "      <td>0.0</td>\n",
              "      <td>0.0</td>\n",
              "      <td>0.0</td>\n",
              "      <td>0.0</td>\n",
              "      <td>0.0</td>\n",
              "      <td>0.0</td>\n",
              "      <td>0.0</td>\n",
              "      <td>1.0</td>\n",
              "      <td>0.0</td>\n",
              "      <td>4.0</td>\n",
              "      <td>1.0</td>\n",
              "      <td>0.0</td>\n",
              "      <td>11.0</td>\n",
              "      <td>2.0</td>\n",
              "      <td>4.0</td>\n",
              "    </tr>\n",
              "    <tr>\n",
              "      <th>70691</th>\n",
              "      <td>1.0</td>\n",
              "      <td>1.0</td>\n",
              "      <td>1.0</td>\n",
              "      <td>1.0</td>\n",
              "      <td>0.0</td>\n",
              "      <td>0.0</td>\n",
              "      <td>1.0</td>\n",
              "      <td>1.0</td>\n",
              "      <td>1.0</td>\n",
              "      <td>0.0</td>\n",
              "      <td>0.0</td>\n",
              "      <td>1.0</td>\n",
              "      <td>0.0</td>\n",
              "      <td>2.0</td>\n",
              "      <td>0.0</td>\n",
              "      <td>0.0</td>\n",
              "      <td>9.0</td>\n",
              "      <td>6.0</td>\n",
              "      <td>2.0</td>\n",
              "    </tr>\n",
              "  </tbody>\n",
              "</table>\n",
              "<p>70692 rows × 19 columns</p>\n",
              "</div>\n",
              "      <button class=\"colab-df-convert\" onclick=\"convertToInteractive('df-1d081407-9575-42f4-a7fe-9fc9e10cd8cb')\"\n",
              "              title=\"Convert this dataframe to an interactive table.\"\n",
              "              style=\"display:none;\">\n",
              "        \n",
              "  <svg xmlns=\"http://www.w3.org/2000/svg\" height=\"24px\"viewBox=\"0 0 24 24\"\n",
              "       width=\"24px\">\n",
              "    <path d=\"M0 0h24v24H0V0z\" fill=\"none\"/>\n",
              "    <path d=\"M18.56 5.44l.94 2.06.94-2.06 2.06-.94-2.06-.94-.94-2.06-.94 2.06-2.06.94zm-11 1L8.5 8.5l.94-2.06 2.06-.94-2.06-.94L8.5 2.5l-.94 2.06-2.06.94zm10 10l.94 2.06.94-2.06 2.06-.94-2.06-.94-.94-2.06-.94 2.06-2.06.94z\"/><path d=\"M17.41 7.96l-1.37-1.37c-.4-.4-.92-.59-1.43-.59-.52 0-1.04.2-1.43.59L10.3 9.45l-7.72 7.72c-.78.78-.78 2.05 0 2.83L4 21.41c.39.39.9.59 1.41.59.51 0 1.02-.2 1.41-.59l7.78-7.78 2.81-2.81c.8-.78.8-2.07 0-2.86zM5.41 20L4 18.59l7.72-7.72 1.47 1.35L5.41 20z\"/>\n",
              "  </svg>\n",
              "      </button>\n",
              "      \n",
              "  <style>\n",
              "    .colab-df-container {\n",
              "      display:flex;\n",
              "      flex-wrap:wrap;\n",
              "      gap: 12px;\n",
              "    }\n",
              "\n",
              "    .colab-df-convert {\n",
              "      background-color: #E8F0FE;\n",
              "      border: none;\n",
              "      border-radius: 50%;\n",
              "      cursor: pointer;\n",
              "      display: none;\n",
              "      fill: #1967D2;\n",
              "      height: 32px;\n",
              "      padding: 0 0 0 0;\n",
              "      width: 32px;\n",
              "    }\n",
              "\n",
              "    .colab-df-convert:hover {\n",
              "      background-color: #E2EBFA;\n",
              "      box-shadow: 0px 1px 2px rgba(60, 64, 67, 0.3), 0px 1px 3px 1px rgba(60, 64, 67, 0.15);\n",
              "      fill: #174EA6;\n",
              "    }\n",
              "\n",
              "    [theme=dark] .colab-df-convert {\n",
              "      background-color: #3B4455;\n",
              "      fill: #D2E3FC;\n",
              "    }\n",
              "\n",
              "    [theme=dark] .colab-df-convert:hover {\n",
              "      background-color: #434B5C;\n",
              "      box-shadow: 0px 1px 3px 1px rgba(0, 0, 0, 0.15);\n",
              "      filter: drop-shadow(0px 1px 2px rgba(0, 0, 0, 0.3));\n",
              "      fill: #FFFFFF;\n",
              "    }\n",
              "  </style>\n",
              "\n",
              "      <script>\n",
              "        const buttonEl =\n",
              "          document.querySelector('#df-1d081407-9575-42f4-a7fe-9fc9e10cd8cb button.colab-df-convert');\n",
              "        buttonEl.style.display =\n",
              "          google.colab.kernel.accessAllowed ? 'block' : 'none';\n",
              "\n",
              "        async function convertToInteractive(key) {\n",
              "          const element = document.querySelector('#df-1d081407-9575-42f4-a7fe-9fc9e10cd8cb');\n",
              "          const dataTable =\n",
              "            await google.colab.kernel.invokeFunction('convertToInteractive',\n",
              "                                                     [key], {});\n",
              "          if (!dataTable) return;\n",
              "\n",
              "          const docLinkHtml = 'Like what you see? Visit the ' +\n",
              "            '<a target=\"_blank\" href=https://colab.research.google.com/notebooks/data_table.ipynb>data table notebook</a>'\n",
              "            + ' to learn more about interactive tables.';\n",
              "          element.innerHTML = '';\n",
              "          dataTable['output_type'] = 'display_data';\n",
              "          await google.colab.output.renderOutput(dataTable, element);\n",
              "          const docLink = document.createElement('div');\n",
              "          docLink.innerHTML = docLinkHtml;\n",
              "          element.appendChild(docLink);\n",
              "        }\n",
              "      </script>\n",
              "    </div>\n",
              "  </div>\n",
              "  "
            ],
            "text/plain": [
              "       Diabetes_binary  HighBP  HighChol  ...   Age  Education  Income\n",
              "0                  0.0     1.0       0.0  ...   4.0        6.0     8.0\n",
              "1                  0.0     1.0       1.0  ...  12.0        6.0     8.0\n",
              "2                  0.0     0.0       0.0  ...  13.0        6.0     8.0\n",
              "3                  0.0     1.0       1.0  ...  11.0        6.0     8.0\n",
              "4                  0.0     0.0       0.0  ...   8.0        5.0     8.0\n",
              "...                ...     ...       ...  ...   ...        ...     ...\n",
              "70687              1.0     0.0       1.0  ...   6.0        4.0     1.0\n",
              "70688              1.0     0.0       1.0  ...  10.0        3.0     6.0\n",
              "70689              1.0     1.0       1.0  ...  13.0        6.0     4.0\n",
              "70690              1.0     1.0       1.0  ...  11.0        2.0     4.0\n",
              "70691              1.0     1.0       1.0  ...   9.0        6.0     2.0\n",
              "\n",
              "[70692 rows x 19 columns]"
            ]
          },
          "metadata": {},
          "execution_count": 12
        }
      ]
    },
    {
      "cell_type": "code",
      "source": [
        "# Make empty dataframe\n",
        "df_cramers = pd.DataFrame(index = data2.columns, columns = data2.columns)\n",
        "# Use the function above to calculate cramers_v\n",
        "for col in df_cramers.columns:\n",
        "    for row in df_cramers.index:\n",
        "        df_cramers[col][row] = cramers_v(data2[col], data2[row])"
      ],
      "metadata": {
        "id": "oCI444LTwI6h"
      },
      "execution_count": 13,
      "outputs": []
    },
    {
      "cell_type": "code",
      "source": [
        "# Visualize it\n",
        "sns.heatmap(df_cramers.astype(float))"
      ],
      "metadata": {
        "colab": {
          "base_uri": "https://localhost:8080/",
          "height": 386
        },
        "id": "_icR0Nh1riZj",
        "outputId": "3d9dd7ad-7c4e-47f9-ac91-844c355cdb04"
      },
      "execution_count": 14,
      "outputs": [
        {
          "output_type": "execute_result",
          "data": {
            "text/plain": [
              "<matplotlib.axes._subplots.AxesSubplot at 0x7f3c53ad1ed0>"
            ]
          },
          "metadata": {},
          "execution_count": 14
        },
        {
          "output_type": "display_data",
          "data": {
            "image/png": "[encoded data removed]",
            "text/plain": [
              "<Figure size 432x288 with 2 Axes>"
            ]
          },
          "metadata": {
            "needs_background": "light"
          }
        }
      ]
    },
    {
      "cell_type": "code",
      "source": [
        "df_cramers"
      ],
      "metadata": {
        "id": "hySaATJUxRpO",
        "colab": {
          "base_uri": "https://localhost:8080/",
          "height": 709
        },
        "outputId": "b1f5cef1-b504-43d6-b3f4-e5ba35b5762e"
      },
      "execution_count": 15,
      "outputs": [
        {
          "output_type": "execute_result",
          "data": {
            "text/html": [
              "\n",
              "  <div id=\"df-0523f81c-5a36-4508-902e-950e6ca8f609\">\n",
              "    <div class=\"colab-df-container\">\n",
              "      <div>\n",
              "<style scoped>\n",
              "    .dataframe tbody tr th:only-of-type {\n",
              "        vertical-align: middle;\n",
              "    }\n",
              "\n",
              "    .dataframe tbody tr th {\n",
              "        vertical-align: top;\n",
              "    }\n",
              "\n",
              "    .dataframe thead th {\n",
              "        text-align: right;\n",
              "    }\n",
              "</style>\n",
              "<table border=\"1\" class=\"dataframe\">\n",
              "  <thead>\n",
              "    <tr style=\"text-align: right;\">\n",
              "      <th></th>\n",
              "      <th>Diabetes_binary</th>\n",
              "      <th>HighBP</th>\n",
              "      <th>HighChol</th>\n",
              "      <th>CholCheck</th>\n",
              "      <th>Smoker</th>\n",
              "      <th>Stroke</th>\n",
              "      <th>HeartDiseaseorAttack</th>\n",
              "      <th>PhysActivity</th>\n",
              "      <th>Fruits</th>\n",
              "      <th>Veggies</th>\n",
              "      <th>HvyAlcoholConsump</th>\n",
              "      <th>AnyHealthcare</th>\n",
              "      <th>NoDocbcCost</th>\n",
              "      <th>GenHlth</th>\n",
              "      <th>DiffWalk</th>\n",
              "      <th>Sex</th>\n",
              "      <th>Age</th>\n",
              "      <th>Education</th>\n",
              "      <th>Income</th>\n",
              "    </tr>\n",
              "  </thead>\n",
              "  <tbody>\n",
              "    <tr>\n",
              "      <th>Diabetes_binary</th>\n",
              "      <td>0.999972</td>\n",
              "      <td>0.381471</td>\n",
              "      <td>0.289162</td>\n",
              "      <td>0.11523</td>\n",
              "      <td>0.085889</td>\n",
              "      <td>0.125313</td>\n",
              "      <td>0.211452</td>\n",
              "      <td>0.158591</td>\n",
              "      <td>0.053917</td>\n",
              "      <td>0.07917</td>\n",
              "      <td>0.094709</td>\n",
              "      <td>0.022815</td>\n",
              "      <td>0.040755</td>\n",
              "      <td>0.417135</td>\n",
              "      <td>0.272589</td>\n",
              "      <td>0.044225</td>\n",
              "      <td>0.295364</td>\n",
              "      <td>0.173472</td>\n",
              "      <td>0.233325</td>\n",
              "    </tr>\n",
              "    <tr>\n",
              "      <th>HighBP</th>\n",
              "      <td>0.381471</td>\n",
              "      <td>0.999971</td>\n",
              "      <td>0.316466</td>\n",
              "      <td>0.103124</td>\n",
              "      <td>0.087329</td>\n",
              "      <td>0.128947</td>\n",
              "      <td>0.210678</td>\n",
              "      <td>0.13602</td>\n",
              "      <td>0.04065</td>\n",
              "      <td>0.066483</td>\n",
              "      <td>0.026696</td>\n",
              "      <td>0.035497</td>\n",
              "      <td>0.0262</td>\n",
              "      <td>0.328611</td>\n",
              "      <td>0.234723</td>\n",
              "      <td>0.040617</td>\n",
              "      <td>0.34953</td>\n",
              "      <td>0.144578</td>\n",
              "      <td>0.198216</td>\n",
              "    </tr>\n",
              "    <tr>\n",
              "      <th>HighChol</th>\n",
              "      <td>0.289162</td>\n",
              "      <td>0.316466</td>\n",
              "      <td>0.999972</td>\n",
              "      <td>0.085808</td>\n",
              "      <td>0.093295</td>\n",
              "      <td>0.099657</td>\n",
              "      <td>0.181109</td>\n",
              "      <td>0.090345</td>\n",
              "      <td>0.047205</td>\n",
              "      <td>0.042636</td>\n",
              "      <td>0.025093</td>\n",
              "      <td>0.031238</td>\n",
              "      <td>0.032937</td>\n",
              "      <td>0.24258</td>\n",
              "      <td>0.161968</td>\n",
              "      <td>0.016882</td>\n",
              "      <td>0.271031</td>\n",
              "      <td>0.084759</td>\n",
              "      <td>0.111766</td>\n",
              "    </tr>\n",
              "    <tr>\n",
              "      <th>CholCheck</th>\n",
              "      <td>0.11523</td>\n",
              "      <td>0.103124</td>\n",
              "      <td>0.085808</td>\n",
              "      <td>0.999707</td>\n",
              "      <td>0.001956</td>\n",
              "      <td>0.022022</td>\n",
              "      <td>0.043206</td>\n",
              "      <td>0.00723</td>\n",
              "      <td>0.016876</td>\n",
              "      <td>0.0</td>\n",
              "      <td>0.026657</td>\n",
              "      <td>0.106515</td>\n",
              "      <td>0.0624</td>\n",
              "      <td>0.061656</td>\n",
              "      <td>0.044166</td>\n",
              "      <td>0.006947</td>\n",
              "      <td>0.108023</td>\n",
              "      <td>0.007366</td>\n",
              "      <td>0.0</td>\n",
              "    </tr>\n",
              "    <tr>\n",
              "      <th>Smoker</th>\n",
              "      <td>0.085889</td>\n",
              "      <td>0.087329</td>\n",
              "      <td>0.093295</td>\n",
              "      <td>0.001956</td>\n",
              "      <td>0.999972</td>\n",
              "      <td>0.064491</td>\n",
              "      <td>0.124322</td>\n",
              "      <td>0.079704</td>\n",
              "      <td>0.074688</td>\n",
              "      <td>0.029654</td>\n",
              "      <td>0.077675</td>\n",
              "      <td>0.012309</td>\n",
              "      <td>0.035552</td>\n",
              "      <td>0.152524</td>\n",
              "      <td>0.119698</td>\n",
              "      <td>0.112034</td>\n",
              "      <td>0.126877</td>\n",
              "      <td>0.164007</td>\n",
              "      <td>0.115921</td>\n",
              "    </tr>\n",
              "    <tr>\n",
              "      <th>Stroke</th>\n",
              "      <td>0.125313</td>\n",
              "      <td>0.128947</td>\n",
              "      <td>0.099657</td>\n",
              "      <td>0.022022</td>\n",
              "      <td>0.064491</td>\n",
              "      <td>0.999879</td>\n",
              "      <td>0.223281</td>\n",
              "      <td>0.079833</td>\n",
              "      <td>0.008106</td>\n",
              "      <td>0.047381</td>\n",
              "      <td>0.022944</td>\n",
              "      <td>0.005107</td>\n",
              "      <td>0.035902</td>\n",
              "      <td>0.203748</td>\n",
              "      <td>0.192163</td>\n",
              "      <td>0.000128</td>\n",
              "      <td>0.125096</td>\n",
              "      <td>0.076245</td>\n",
              "      <td>0.137563</td>\n",
              "    </tr>\n",
              "    <tr>\n",
              "      <th>HeartDiseaseorAttack</th>\n",
              "      <td>0.211452</td>\n",
              "      <td>0.210678</td>\n",
              "      <td>0.181109</td>\n",
              "      <td>0.043206</td>\n",
              "      <td>0.124322</td>\n",
              "      <td>0.223281</td>\n",
              "      <td>0.999944</td>\n",
              "      <td>0.098108</td>\n",
              "      <td>0.019027</td>\n",
              "      <td>0.036071</td>\n",
              "      <td>0.03684</td>\n",
              "      <td>0.015131</td>\n",
              "      <td>0.035763</td>\n",
              "      <td>0.287309</td>\n",
              "      <td>0.232536</td>\n",
              "      <td>0.09805</td>\n",
              "      <td>0.225598</td>\n",
              "      <td>0.097944</td>\n",
              "      <td>0.149964</td>\n",
              "    </tr>\n",
              "    <tr>\n",
              "      <th>PhysActivity</th>\n",
              "      <td>0.158591</td>\n",
              "      <td>0.13602</td>\n",
              "      <td>0.090345</td>\n",
              "      <td>0.00723</td>\n",
              "      <td>0.079704</td>\n",
              "      <td>0.079833</td>\n",
              "      <td>0.098108</td>\n",
              "      <td>0.999966</td>\n",
              "      <td>0.133729</td>\n",
              "      <td>0.149238</td>\n",
              "      <td>0.018659</td>\n",
              "      <td>0.026751</td>\n",
              "      <td>0.063137</td>\n",
              "      <td>0.277149</td>\n",
              "      <td>0.276809</td>\n",
              "      <td>0.051585</td>\n",
              "      <td>0.104097</td>\n",
              "      <td>0.194184</td>\n",
              "      <td>0.202555</td>\n",
              "    </tr>\n",
              "    <tr>\n",
              "      <th>Fruits</th>\n",
              "      <td>0.053917</td>\n",
              "      <td>0.04065</td>\n",
              "      <td>0.047205</td>\n",
              "      <td>0.016876</td>\n",
              "      <td>0.074688</td>\n",
              "      <td>0.008106</td>\n",
              "      <td>0.019027</td>\n",
              "      <td>0.133729</td>\n",
              "      <td>0.99997</td>\n",
              "      <td>0.238542</td>\n",
              "      <td>0.03296</td>\n",
              "      <td>0.029073</td>\n",
              "      <td>0.045638</td>\n",
              "      <td>0.099937</td>\n",
              "      <td>0.050612</td>\n",
              "      <td>0.088615</td>\n",
              "      <td>0.086784</td>\n",
              "      <td>0.105919</td>\n",
              "      <td>0.080944</td>\n",
              "    </tr>\n",
              "    <tr>\n",
              "      <th>Veggies</th>\n",
              "      <td>0.07917</td>\n",
              "      <td>0.066483</td>\n",
              "      <td>0.042636</td>\n",
              "      <td>0.0</td>\n",
              "      <td>0.029654</td>\n",
              "      <td>0.047381</td>\n",
              "      <td>0.036071</td>\n",
              "      <td>0.149238</td>\n",
              "      <td>0.238542</td>\n",
              "      <td>0.999958</td>\n",
              "      <td>0.021681</td>\n",
              "      <td>0.028825</td>\n",
              "      <td>0.036896</td>\n",
              "      <td>0.117293</td>\n",
              "      <td>0.083948</td>\n",
              "      <td>0.052435</td>\n",
              "      <td>0.025875</td>\n",
              "      <td>0.154883</td>\n",
              "      <td>0.156458</td>\n",
              "    </tr>\n",
              "    <tr>\n",
              "      <th>HvyAlcoholConsump</th>\n",
              "      <td>0.094709</td>\n",
              "      <td>0.026696</td>\n",
              "      <td>0.025093</td>\n",
              "      <td>0.026657</td>\n",
              "      <td>0.077675</td>\n",
              "      <td>0.022944</td>\n",
              "      <td>0.03684</td>\n",
              "      <td>0.018659</td>\n",
              "      <td>0.03296</td>\n",
              "      <td>0.021681</td>\n",
              "      <td>0.999827</td>\n",
              "      <td>0.012773</td>\n",
              "      <td>0.008792</td>\n",
              "      <td>0.058737</td>\n",
              "      <td>0.04907</td>\n",
              "      <td>0.013583</td>\n",
              "      <td>0.057876</td>\n",
              "      <td>0.036785</td>\n",
              "      <td>0.066238</td>\n",
              "    </tr>\n",
              "    <tr>\n",
              "      <th>AnyHealthcare</th>\n",
              "      <td>0.022815</td>\n",
              "      <td>0.035497</td>\n",
              "      <td>0.031238</td>\n",
              "      <td>0.106515</td>\n",
              "      <td>0.012309</td>\n",
              "      <td>0.005107</td>\n",
              "      <td>0.015131</td>\n",
              "      <td>0.026751</td>\n",
              "      <td>0.029073</td>\n",
              "      <td>0.028825</td>\n",
              "      <td>0.012773</td>\n",
              "      <td>0.999836</td>\n",
              "      <td>0.22151</td>\n",
              "      <td>0.036136</td>\n",
              "      <td>0.0071</td>\n",
              "      <td>0.005293</td>\n",
              "      <td>0.147813</td>\n",
              "      <td>0.108314</td>\n",
              "      <td>0.133339</td>\n",
              "    </tr>\n",
              "    <tr>\n",
              "      <th>NoDocbcCost</th>\n",
              "      <td>0.040755</td>\n",
              "      <td>0.0262</td>\n",
              "      <td>0.032937</td>\n",
              "      <td>0.0624</td>\n",
              "      <td>0.035552</td>\n",
              "      <td>0.035902</td>\n",
              "      <td>0.035763</td>\n",
              "      <td>0.063137</td>\n",
              "      <td>0.045638</td>\n",
              "      <td>0.036896</td>\n",
              "      <td>0.008792</td>\n",
              "      <td>0.22151</td>\n",
              "      <td>0.999917</td>\n",
              "      <td>0.176638</td>\n",
              "      <td>0.127</td>\n",
              "      <td>0.047991</td>\n",
              "      <td>0.147085</td>\n",
              "      <td>0.104486</td>\n",
              "      <td>0.198535</td>\n",
              "    </tr>\n",
              "    <tr>\n",
              "      <th>GenHlth</th>\n",
              "      <td>0.417135</td>\n",
              "      <td>0.328611</td>\n",
              "      <td>0.24258</td>\n",
              "      <td>0.061656</td>\n",
              "      <td>0.152524</td>\n",
              "      <td>0.203748</td>\n",
              "      <td>0.287309</td>\n",
              "      <td>0.277149</td>\n",
              "      <td>0.099937</td>\n",
              "      <td>0.117293</td>\n",
              "      <td>0.058737</td>\n",
              "      <td>0.036136</td>\n",
              "      <td>0.176638</td>\n",
              "      <td>1.0</td>\n",
              "      <td>0.503896</td>\n",
              "      <td>0.032456</td>\n",
              "      <td>0.091427</td>\n",
              "      <td>0.150413</td>\n",
              "      <td>0.203369</td>\n",
              "    </tr>\n",
              "    <tr>\n",
              "      <th>DiffWalk</th>\n",
              "      <td>0.272589</td>\n",
              "      <td>0.234723</td>\n",
              "      <td>0.161968</td>\n",
              "      <td>0.044166</td>\n",
              "      <td>0.119698</td>\n",
              "      <td>0.192163</td>\n",
              "      <td>0.232536</td>\n",
              "      <td>0.276809</td>\n",
              "      <td>0.050612</td>\n",
              "      <td>0.083948</td>\n",
              "      <td>0.04907</td>\n",
              "      <td>0.0071</td>\n",
              "      <td>0.127</td>\n",
              "      <td>0.503896</td>\n",
              "      <td>0.999963</td>\n",
              "      <td>0.08213</td>\n",
              "      <td>0.201399</td>\n",
              "      <td>0.208486</td>\n",
              "      <td>0.344189</td>\n",
              "    </tr>\n",
              "    <tr>\n",
              "      <th>Sex</th>\n",
              "      <td>0.044225</td>\n",
              "      <td>0.040617</td>\n",
              "      <td>0.016882</td>\n",
              "      <td>0.006947</td>\n",
              "      <td>0.112034</td>\n",
              "      <td>0.000128</td>\n",
              "      <td>0.09805</td>\n",
              "      <td>0.051585</td>\n",
              "      <td>0.088615</td>\n",
              "      <td>0.052435</td>\n",
              "      <td>0.013583</td>\n",
              "      <td>0.005293</td>\n",
              "      <td>0.047991</td>\n",
              "      <td>0.032456</td>\n",
              "      <td>0.08213</td>\n",
              "      <td>0.999971</td>\n",
              "      <td>0.034789</td>\n",
              "      <td>0.059492</td>\n",
              "      <td>0.159844</td>\n",
              "    </tr>\n",
              "    <tr>\n",
              "      <th>Age</th>\n",
              "      <td>0.295364</td>\n",
              "      <td>0.34953</td>\n",
              "      <td>0.271031</td>\n",
              "      <td>0.108023</td>\n",
              "      <td>0.126877</td>\n",
              "      <td>0.125096</td>\n",
              "      <td>0.225598</td>\n",
              "      <td>0.104097</td>\n",
              "      <td>0.086784</td>\n",
              "      <td>0.025875</td>\n",
              "      <td>0.057876</td>\n",
              "      <td>0.147813</td>\n",
              "      <td>0.147085</td>\n",
              "      <td>0.091427</td>\n",
              "      <td>0.201399</td>\n",
              "      <td>0.034789</td>\n",
              "      <td>1.0</td>\n",
              "      <td>0.064986</td>\n",
              "      <td>0.09592</td>\n",
              "    </tr>\n",
              "    <tr>\n",
              "      <th>Education</th>\n",
              "      <td>0.173472</td>\n",
              "      <td>0.144578</td>\n",
              "      <td>0.084759</td>\n",
              "      <td>0.007366</td>\n",
              "      <td>0.164007</td>\n",
              "      <td>0.076245</td>\n",
              "      <td>0.097944</td>\n",
              "      <td>0.194184</td>\n",
              "      <td>0.105919</td>\n",
              "      <td>0.154883</td>\n",
              "      <td>0.036785</td>\n",
              "      <td>0.108314</td>\n",
              "      <td>0.104486</td>\n",
              "      <td>0.150413</td>\n",
              "      <td>0.208486</td>\n",
              "      <td>0.059492</td>\n",
              "      <td>0.064986</td>\n",
              "      <td>1.0</td>\n",
              "      <td>0.223364</td>\n",
              "    </tr>\n",
              "    <tr>\n",
              "      <th>Income</th>\n",
              "      <td>0.233325</td>\n",
              "      <td>0.198216</td>\n",
              "      <td>0.111766</td>\n",
              "      <td>0.0</td>\n",
              "      <td>0.115921</td>\n",
              "      <td>0.137563</td>\n",
              "      <td>0.149964</td>\n",
              "      <td>0.202555</td>\n",
              "      <td>0.080944</td>\n",
              "      <td>0.156458</td>\n",
              "      <td>0.066238</td>\n",
              "      <td>0.133339</td>\n",
              "      <td>0.198535</td>\n",
              "      <td>0.203369</td>\n",
              "      <td>0.344189</td>\n",
              "      <td>0.159844</td>\n",
              "      <td>0.09592</td>\n",
              "      <td>0.223364</td>\n",
              "      <td>1.0</td>\n",
              "    </tr>\n",
              "  </tbody>\n",
              "</table>\n",
              "</div>\n",
              "      <button class=\"colab-df-convert\" onclick=\"convertToInteractive('df-0523f81c-5a36-4508-902e-950e6ca8f609')\"\n",
              "              title=\"Convert this dataframe to an interactive table.\"\n",
              "              style=\"display:none;\">\n",
              "        \n",
              "  <svg xmlns=\"http://www.w3.org/2000/svg\" height=\"24px\"viewBox=\"0 0 24 24\"\n",
              "       width=\"24px\">\n",
              "    <path d=\"M0 0h24v24H0V0z\" fill=\"none\"/>\n",
              "    <path d=\"M18.56 5.44l.94 2.06.94-2.06 2.06-.94-2.06-.94-.94-2.06-.94 2.06-2.06.94zm-11 1L8.5 8.5l.94-2.06 2.06-.94-2.06-.94L8.5 2.5l-.94 2.06-2.06.94zm10 10l.94 2.06.94-2.06 2.06-.94-2.06-.94-.94-2.06-.94 2.06-2.06.94z\"/><path d=\"M17.41 7.96l-1.37-1.37c-.4-.4-.92-.59-1.43-.59-.52 0-1.04.2-1.43.59L10.3 9.45l-7.72 7.72c-.78.78-.78 2.05 0 2.83L4 21.41c.39.39.9.59 1.41.59.51 0 1.02-.2 1.41-.59l7.78-7.78 2.81-2.81c.8-.78.8-2.07 0-2.86zM5.41 20L4 18.59l7.72-7.72 1.47 1.35L5.41 20z\"/>\n",
              "  </svg>\n",
              "      </button>\n",
              "      \n",
              "  <style>\n",
              "    .colab-df-container {\n",
              "      display:flex;\n",
              "      flex-wrap:wrap;\n",
              "      gap: 12px;\n",
              "    }\n",
              "\n",
              "    .colab-df-convert {\n",
              "      background-color: #E8F0FE;\n",
              "      border: none;\n",
              "      border-radius: 50%;\n",
              "      cursor: pointer;\n",
              "      display: none;\n",
              "      fill: #1967D2;\n",
              "      height: 32px;\n",
              "      padding: 0 0 0 0;\n",
              "      width: 32px;\n",
              "    }\n",
              "\n",
              "    .colab-df-convert:hover {\n",
              "      background-color: #E2EBFA;\n",
              "      box-shadow: 0px 1px 2px rgba(60, 64, 67, 0.3), 0px 1px 3px 1px rgba(60, 64, 67, 0.15);\n",
              "      fill: #174EA6;\n",
              "    }\n",
              "\n",
              "    [theme=dark] .colab-df-convert {\n",
              "      background-color: #3B4455;\n",
              "      fill: #D2E3FC;\n",
              "    }\n",
              "\n",
              "    [theme=dark] .colab-df-convert:hover {\n",
              "      background-color: #434B5C;\n",
              "      box-shadow: 0px 1px 3px 1px rgba(0, 0, 0, 0.15);\n",
              "      filter: drop-shadow(0px 1px 2px rgba(0, 0, 0, 0.3));\n",
              "      fill: #FFFFFF;\n",
              "    }\n",
              "  </style>\n",
              "\n",
              "      <script>\n",
              "        const buttonEl =\n",
              "          document.querySelector('#df-0523f81c-5a36-4508-902e-950e6ca8f609 button.colab-df-convert');\n",
              "        buttonEl.style.display =\n",
              "          google.colab.kernel.accessAllowed ? 'block' : 'none';\n",
              "\n",
              "        async function convertToInteractive(key) {\n",
              "          const element = document.querySelector('#df-0523f81c-5a36-4508-902e-950e6ca8f609');\n",
              "          const dataTable =\n",
              "            await google.colab.kernel.invokeFunction('convertToInteractive',\n",
              "                                                     [key], {});\n",
              "          if (!dataTable) return;\n",
              "\n",
              "          const docLinkHtml = 'Like what you see? Visit the ' +\n",
              "            '<a target=\"_blank\" href=https://colab.research.google.com/notebooks/data_table.ipynb>data table notebook</a>'\n",
              "            + ' to learn more about interactive tables.';\n",
              "          element.innerHTML = '';\n",
              "          dataTable['output_type'] = 'display_data';\n",
              "          await google.colab.output.renderOutput(dataTable, element);\n",
              "          const docLink = document.createElement('div');\n",
              "          docLink.innerHTML = docLinkHtml;\n",
              "          element.appendChild(docLink);\n",
              "        }\n",
              "      </script>\n",
              "    </div>\n",
              "  </div>\n",
              "  "
            ],
            "text/plain": [
              "                     Diabetes_binary    HighBP  ... Education    Income\n",
              "Diabetes_binary             0.999972  0.381471  ...  0.173472  0.233325\n",
              "HighBP                      0.381471  0.999971  ...  0.144578  0.198216\n",
              "HighChol                    0.289162  0.316466  ...  0.084759  0.111766\n",
              "CholCheck                    0.11523  0.103124  ...  0.007366       0.0\n",
              "Smoker                      0.085889  0.087329  ...  0.164007  0.115921\n",
              "Stroke                      0.125313  0.128947  ...  0.076245  0.137563\n",
              "HeartDiseaseorAttack        0.211452  0.210678  ...  0.097944  0.149964\n",
              "PhysActivity                0.158591   0.13602  ...  0.194184  0.202555\n",
              "Fruits                      0.053917   0.04065  ...  0.105919  0.080944\n",
              "Veggies                      0.07917  0.066483  ...  0.154883  0.156458\n",
              "HvyAlcoholConsump           0.094709  0.026696  ...  0.036785  0.066238\n",
              "AnyHealthcare               0.022815  0.035497  ...  0.108314  0.133339\n",
              "NoDocbcCost                 0.040755    0.0262  ...  0.104486  0.198535\n",
              "GenHlth                     0.417135  0.328611  ...  0.150413  0.203369\n",
              "DiffWalk                    0.272589  0.234723  ...  0.208486  0.344189\n",
              "Sex                         0.044225  0.040617  ...  0.059492  0.159844\n",
              "Age                         0.295364   0.34953  ...  0.064986   0.09592\n",
              "Education                   0.173472  0.144578  ...       1.0  0.223364\n",
              "Income                      0.233325  0.198216  ...  0.223364       1.0\n",
              "\n",
              "[19 rows x 19 columns]"
            ]
          },
          "metadata": {},
          "execution_count": 15
        }
      ]
    },
    {
      "cell_type": "markdown",
      "source": [
        "I will drop several variables that have very low correlation with the target: Smoker, Fruits, Veggies, HvyAlcoholConsump, AnyHealthcare, NoDocbcCost, Sex as Cramer V's values below 0.1 indicate no to very weak relationship. This also helps with the model's performance."
      ],
      "metadata": {
        "id": "ADmhzjmTxbS2"
      }
    },
    {
      "cell_type": "code",
      "source": [
        "data = data.drop(columns=['Smoker', 'Fruits', 'Veggies', 'HvyAlcoholConsump', 'AnyHealthcare', 'NoDocbcCost', 'Sex'])"
      ],
      "metadata": {
        "id": "9z1PhDyHJ4Tu"
      },
      "execution_count": 16,
      "outputs": []
    },
    {
      "cell_type": "code",
      "source": [
        "data"
      ],
      "metadata": {
        "colab": {
          "base_uri": "https://localhost:8080/",
          "height": 487
        },
        "id": "p-0FQOOELil_",
        "outputId": "6feb1e9a-5246-4084-e6a6-fd0a9ea14d7c"
      },
      "execution_count": 17,
      "outputs": [
        {
          "output_type": "execute_result",
          "data": {
            "text/html": [
              "\n",
              "  <div id=\"df-a8a12aff-b85f-47ea-b24e-8ee2bde7aff3\">\n",
              "    <div class=\"colab-df-container\">\n",
              "      <div>\n",
              "<style scoped>\n",
              "    .dataframe tbody tr th:only-of-type {\n",
              "        vertical-align: middle;\n",
              "    }\n",
              "\n",
              "    .dataframe tbody tr th {\n",
              "        vertical-align: top;\n",
              "    }\n",
              "\n",
              "    .dataframe thead th {\n",
              "        text-align: right;\n",
              "    }\n",
              "</style>\n",
              "<table border=\"1\" class=\"dataframe\">\n",
              "  <thead>\n",
              "    <tr style=\"text-align: right;\">\n",
              "      <th></th>\n",
              "      <th>Diabetes_binary</th>\n",
              "      <th>HighBP</th>\n",
              "      <th>HighChol</th>\n",
              "      <th>CholCheck</th>\n",
              "      <th>BMI</th>\n",
              "      <th>Stroke</th>\n",
              "      <th>HeartDiseaseorAttack</th>\n",
              "      <th>PhysActivity</th>\n",
              "      <th>GenHlth</th>\n",
              "      <th>MentHlth</th>\n",
              "      <th>PhysHlth</th>\n",
              "      <th>DiffWalk</th>\n",
              "      <th>Age</th>\n",
              "      <th>Education</th>\n",
              "      <th>Income</th>\n",
              "    </tr>\n",
              "  </thead>\n",
              "  <tbody>\n",
              "    <tr>\n",
              "      <th>0</th>\n",
              "      <td>0.0</td>\n",
              "      <td>1.0</td>\n",
              "      <td>0.0</td>\n",
              "      <td>1.0</td>\n",
              "      <td>26.0</td>\n",
              "      <td>0.0</td>\n",
              "      <td>0.0</td>\n",
              "      <td>1.0</td>\n",
              "      <td>3.0</td>\n",
              "      <td>5.0</td>\n",
              "      <td>30.0</td>\n",
              "      <td>0.0</td>\n",
              "      <td>4.0</td>\n",
              "      <td>6.0</td>\n",
              "      <td>8.0</td>\n",
              "    </tr>\n",
              "    <tr>\n",
              "      <th>1</th>\n",
              "      <td>0.0</td>\n",
              "      <td>1.0</td>\n",
              "      <td>1.0</td>\n",
              "      <td>1.0</td>\n",
              "      <td>26.0</td>\n",
              "      <td>1.0</td>\n",
              "      <td>0.0</td>\n",
              "      <td>0.0</td>\n",
              "      <td>3.0</td>\n",
              "      <td>0.0</td>\n",
              "      <td>0.0</td>\n",
              "      <td>0.0</td>\n",
              "      <td>12.0</td>\n",
              "      <td>6.0</td>\n",
              "      <td>8.0</td>\n",
              "    </tr>\n",
              "    <tr>\n",
              "      <th>2</th>\n",
              "      <td>0.0</td>\n",
              "      <td>0.0</td>\n",
              "      <td>0.0</td>\n",
              "      <td>1.0</td>\n",
              "      <td>26.0</td>\n",
              "      <td>0.0</td>\n",
              "      <td>0.0</td>\n",
              "      <td>1.0</td>\n",
              "      <td>1.0</td>\n",
              "      <td>0.0</td>\n",
              "      <td>10.0</td>\n",
              "      <td>0.0</td>\n",
              "      <td>13.0</td>\n",
              "      <td>6.0</td>\n",
              "      <td>8.0</td>\n",
              "    </tr>\n",
              "    <tr>\n",
              "      <th>3</th>\n",
              "      <td>0.0</td>\n",
              "      <td>1.0</td>\n",
              "      <td>1.0</td>\n",
              "      <td>1.0</td>\n",
              "      <td>28.0</td>\n",
              "      <td>0.0</td>\n",
              "      <td>0.0</td>\n",
              "      <td>1.0</td>\n",
              "      <td>3.0</td>\n",
              "      <td>0.0</td>\n",
              "      <td>3.0</td>\n",
              "      <td>0.0</td>\n",
              "      <td>11.0</td>\n",
              "      <td>6.0</td>\n",
              "      <td>8.0</td>\n",
              "    </tr>\n",
              "    <tr>\n",
              "      <th>4</th>\n",
              "      <td>0.0</td>\n",
              "      <td>0.0</td>\n",
              "      <td>0.0</td>\n",
              "      <td>1.0</td>\n",
              "      <td>29.0</td>\n",
              "      <td>0.0</td>\n",
              "      <td>0.0</td>\n",
              "      <td>1.0</td>\n",
              "      <td>2.0</td>\n",
              "      <td>0.0</td>\n",
              "      <td>0.0</td>\n",
              "      <td>0.0</td>\n",
              "      <td>8.0</td>\n",
              "      <td>5.0</td>\n",
              "      <td>8.0</td>\n",
              "    </tr>\n",
              "    <tr>\n",
              "      <th>...</th>\n",
              "      <td>...</td>\n",
              "      <td>...</td>\n",
              "      <td>...</td>\n",
              "      <td>...</td>\n",
              "      <td>...</td>\n",
              "      <td>...</td>\n",
              "      <td>...</td>\n",
              "      <td>...</td>\n",
              "      <td>...</td>\n",
              "      <td>...</td>\n",
              "      <td>...</td>\n",
              "      <td>...</td>\n",
              "      <td>...</td>\n",
              "      <td>...</td>\n",
              "      <td>...</td>\n",
              "    </tr>\n",
              "    <tr>\n",
              "      <th>70687</th>\n",
              "      <td>1.0</td>\n",
              "      <td>0.0</td>\n",
              "      <td>1.0</td>\n",
              "      <td>1.0</td>\n",
              "      <td>37.0</td>\n",
              "      <td>0.0</td>\n",
              "      <td>0.0</td>\n",
              "      <td>0.0</td>\n",
              "      <td>4.0</td>\n",
              "      <td>0.0</td>\n",
              "      <td>0.0</td>\n",
              "      <td>0.0</td>\n",
              "      <td>6.0</td>\n",
              "      <td>4.0</td>\n",
              "      <td>1.0</td>\n",
              "    </tr>\n",
              "    <tr>\n",
              "      <th>70688</th>\n",
              "      <td>1.0</td>\n",
              "      <td>0.0</td>\n",
              "      <td>1.0</td>\n",
              "      <td>1.0</td>\n",
              "      <td>29.0</td>\n",
              "      <td>0.0</td>\n",
              "      <td>1.0</td>\n",
              "      <td>0.0</td>\n",
              "      <td>2.0</td>\n",
              "      <td>0.0</td>\n",
              "      <td>0.0</td>\n",
              "      <td>1.0</td>\n",
              "      <td>10.0</td>\n",
              "      <td>3.0</td>\n",
              "      <td>6.0</td>\n",
              "    </tr>\n",
              "    <tr>\n",
              "      <th>70689</th>\n",
              "      <td>1.0</td>\n",
              "      <td>1.0</td>\n",
              "      <td>1.0</td>\n",
              "      <td>1.0</td>\n",
              "      <td>25.0</td>\n",
              "      <td>0.0</td>\n",
              "      <td>1.0</td>\n",
              "      <td>0.0</td>\n",
              "      <td>5.0</td>\n",
              "      <td>15.0</td>\n",
              "      <td>0.0</td>\n",
              "      <td>1.0</td>\n",
              "      <td>13.0</td>\n",
              "      <td>6.0</td>\n",
              "      <td>4.0</td>\n",
              "    </tr>\n",
              "    <tr>\n",
              "      <th>70690</th>\n",
              "      <td>1.0</td>\n",
              "      <td>1.0</td>\n",
              "      <td>1.0</td>\n",
              "      <td>1.0</td>\n",
              "      <td>18.0</td>\n",
              "      <td>0.0</td>\n",
              "      <td>0.0</td>\n",
              "      <td>0.0</td>\n",
              "      <td>4.0</td>\n",
              "      <td>0.0</td>\n",
              "      <td>0.0</td>\n",
              "      <td>1.0</td>\n",
              "      <td>11.0</td>\n",
              "      <td>2.0</td>\n",
              "      <td>4.0</td>\n",
              "    </tr>\n",
              "    <tr>\n",
              "      <th>70691</th>\n",
              "      <td>1.0</td>\n",
              "      <td>1.0</td>\n",
              "      <td>1.0</td>\n",
              "      <td>1.0</td>\n",
              "      <td>25.0</td>\n",
              "      <td>0.0</td>\n",
              "      <td>1.0</td>\n",
              "      <td>1.0</td>\n",
              "      <td>2.0</td>\n",
              "      <td>0.0</td>\n",
              "      <td>0.0</td>\n",
              "      <td>0.0</td>\n",
              "      <td>9.0</td>\n",
              "      <td>6.0</td>\n",
              "      <td>2.0</td>\n",
              "    </tr>\n",
              "  </tbody>\n",
              "</table>\n",
              "<p>70692 rows × 15 columns</p>\n",
              "</div>\n",
              "      <button class=\"colab-df-convert\" onclick=\"convertToInteractive('df-a8a12aff-b85f-47ea-b24e-8ee2bde7aff3')\"\n",
              "              title=\"Convert this dataframe to an interactive table.\"\n",
              "              style=\"display:none;\">\n",
              "        \n",
              "  <svg xmlns=\"http://www.w3.org/2000/svg\" height=\"24px\"viewBox=\"0 0 24 24\"\n",
              "       width=\"24px\">\n",
              "    <path d=\"M0 0h24v24H0V0z\" fill=\"none\"/>\n",
              "    <path d=\"M18.56 5.44l.94 2.06.94-2.06 2.06-.94-2.06-.94-.94-2.06-.94 2.06-2.06.94zm-11 1L8.5 8.5l.94-2.06 2.06-.94-2.06-.94L8.5 2.5l-.94 2.06-2.06.94zm10 10l.94 2.06.94-2.06 2.06-.94-2.06-.94-.94-2.06-.94 2.06-2.06.94z\"/><path d=\"M17.41 7.96l-1.37-1.37c-.4-.4-.92-.59-1.43-.59-.52 0-1.04.2-1.43.59L10.3 9.45l-7.72 7.72c-.78.78-.78 2.05 0 2.83L4 21.41c.39.39.9.59 1.41.59.51 0 1.02-.2 1.41-.59l7.78-7.78 2.81-2.81c.8-.78.8-2.07 0-2.86zM5.41 20L4 18.59l7.72-7.72 1.47 1.35L5.41 20z\"/>\n",
              "  </svg>\n",
              "      </button>\n",
              "      \n",
              "  <style>\n",
              "    .colab-df-container {\n",
              "      display:flex;\n",
              "      flex-wrap:wrap;\n",
              "      gap: 12px;\n",
              "    }\n",
              "\n",
              "    .colab-df-convert {\n",
              "      background-color: #E8F0FE;\n",
              "      border: none;\n",
              "      border-radius: 50%;\n",
              "      cursor: pointer;\n",
              "      display: none;\n",
              "      fill: #1967D2;\n",
              "      height: 32px;\n",
              "      padding: 0 0 0 0;\n",
              "      width: 32px;\n",
              "    }\n",
              "\n",
              "    .colab-df-convert:hover {\n",
              "      background-color: #E2EBFA;\n",
              "      box-shadow: 0px 1px 2px rgba(60, 64, 67, 0.3), 0px 1px 3px 1px rgba(60, 64, 67, 0.15);\n",
              "      fill: #174EA6;\n",
              "    }\n",
              "\n",
              "    [theme=dark] .colab-df-convert {\n",
              "      background-color: #3B4455;\n",
              "      fill: #D2E3FC;\n",
              "    }\n",
              "\n",
              "    [theme=dark] .colab-df-convert:hover {\n",
              "      background-color: #434B5C;\n",
              "      box-shadow: 0px 1px 3px 1px rgba(0, 0, 0, 0.15);\n",
              "      filter: drop-shadow(0px 1px 2px rgba(0, 0, 0, 0.3));\n",
              "      fill: #FFFFFF;\n",
              "    }\n",
              "  </style>\n",
              "\n",
              "      <script>\n",
              "        const buttonEl =\n",
              "          document.querySelector('#df-a8a12aff-b85f-47ea-b24e-8ee2bde7aff3 button.colab-df-convert');\n",
              "        buttonEl.style.display =\n",
              "          google.colab.kernel.accessAllowed ? 'block' : 'none';\n",
              "\n",
              "        async function convertToInteractive(key) {\n",
              "          const element = document.querySelector('#df-a8a12aff-b85f-47ea-b24e-8ee2bde7aff3');\n",
              "          const dataTable =\n",
              "            await google.colab.kernel.invokeFunction('convertToInteractive',\n",
              "                                                     [key], {});\n",
              "          if (!dataTable) return;\n",
              "\n",
              "          const docLinkHtml = 'Like what you see? Visit the ' +\n",
              "            '<a target=\"_blank\" href=https://colab.research.google.com/notebooks/data_table.ipynb>data table notebook</a>'\n",
              "            + ' to learn more about interactive tables.';\n",
              "          element.innerHTML = '';\n",
              "          dataTable['output_type'] = 'display_data';\n",
              "          await google.colab.output.renderOutput(dataTable, element);\n",
              "          const docLink = document.createElement('div');\n",
              "          docLink.innerHTML = docLinkHtml;\n",
              "          element.appendChild(docLink);\n",
              "        }\n",
              "      </script>\n",
              "    </div>\n",
              "  </div>\n",
              "  "
            ],
            "text/plain": [
              "       Diabetes_binary  HighBP  HighChol  ...   Age  Education  Income\n",
              "0                  0.0     1.0       0.0  ...   4.0        6.0     8.0\n",
              "1                  0.0     1.0       1.0  ...  12.0        6.0     8.0\n",
              "2                  0.0     0.0       0.0  ...  13.0        6.0     8.0\n",
              "3                  0.0     1.0       1.0  ...  11.0        6.0     8.0\n",
              "4                  0.0     0.0       0.0  ...   8.0        5.0     8.0\n",
              "...                ...     ...       ...  ...   ...        ...     ...\n",
              "70687              1.0     0.0       1.0  ...   6.0        4.0     1.0\n",
              "70688              1.0     0.0       1.0  ...  10.0        3.0     6.0\n",
              "70689              1.0     1.0       1.0  ...  13.0        6.0     4.0\n",
              "70690              1.0     1.0       1.0  ...  11.0        2.0     4.0\n",
              "70691              1.0     1.0       1.0  ...   9.0        6.0     2.0\n",
              "\n",
              "[70692 rows x 15 columns]"
            ]
          },
          "metadata": {},
          "execution_count": 17
        }
      ]
    },
    {
      "cell_type": "markdown",
      "source": [
        "## Modeling"
      ],
      "metadata": {
        "id": "x5n06M5YO0Im"
      }
    },
    {
      "cell_type": "markdown",
      "source": [
        "1. **Random Forest**\n",
        "\n"
      ],
      "metadata": {
        "id": "2xuHX5cjc2u_"
      }
    },
    {
      "cell_type": "markdown",
      "source": [
        "Random Forest is an ensemble method for classification using multiple decision trees. I am going to use Random Forest because it is useful for application where accuracy matters and it is suitable for large data sets. It is good for both discrete and continuous variables. Preprocessing is also quite easy. "
      ],
      "metadata": {
        "id": "lwiQM2TAtlkh"
      }
    },
    {
      "cell_type": "code",
      "source": [
        "from sklearn.model_selection import train_test_split"
      ],
      "metadata": {
        "id": "yi3gDr8QOYiv"
      },
      "execution_count": 18,
      "outputs": []
    },
    {
      "cell_type": "code",
      "source": [
        "# split data into test and train\n",
        "# drop target from X and save the target to y\n",
        "X = data.drop('Diabetes_binary', axis = 1)\n",
        "y = data['Diabetes_binary']\n",
        "X_train, X_test, y_train, y_test = train_test_split(X, y, test_size = 0.3, random_state = 0)\n",
        "print(X_train.shape)\n",
        "print(y_train.shape)\n",
        "print(X_test.shape)\n",
        "print(y_test.shape)"
      ],
      "metadata": {
        "colab": {
          "base_uri": "https://localhost:8080/"
        },
        "id": "zIpLG2R0OKa8",
        "outputId": "07311d21-849e-4149-bc3b-793f8647b97a"
      },
      "execution_count": 19,
      "outputs": [
        {
          "output_type": "stream",
          "name": "stdout",
          "text": [
            "(49484, 14)\n",
            "(49484,)\n",
            "(21208, 14)\n",
            "(21208,)\n"
          ]
        }
      ]
    },
    {
      "cell_type": "code",
      "source": [
        "from sklearn.ensemble import RandomForestClassifier\n"
      ],
      "metadata": {
        "id": "1ruYRjfvO5MG"
      },
      "execution_count": 20,
      "outputs": []
    },
    {
      "cell_type": "code",
      "source": [
        "# build random forest model\n",
        "rf = RandomForestClassifier(random_state = 1, max_features = 'sqrt', n_jobs = 1, verbose = 1)\n",
        "# train the model\n",
        "%time rf.fit(X_train, y_train)\n",
        "# mean accuracy on test data and labels\n",
        "rf.score(X_test, y_test)"
      ],
      "metadata": {
        "colab": {
          "base_uri": "https://localhost:8080/"
        },
        "id": "B5MqKgRpOxxI",
        "outputId": "5c9bab10-0a0d-4b65-b236-cf91baeb3cc1"
      },
      "execution_count": 21,
      "outputs": [
        {
          "output_type": "stream",
          "name": "stderr",
          "text": [
            "[Parallel(n_jobs=1)]: Using backend SequentialBackend with 1 concurrent workers.\n",
            "[Parallel(n_jobs=1)]: Done 100 out of 100 | elapsed:    4.7s finished\n",
            "[Parallel(n_jobs=1)]: Using backend SequentialBackend with 1 concurrent workers.\n"
          ]
        },
        {
          "output_type": "stream",
          "name": "stdout",
          "text": [
            "CPU times: user 4.55 s, sys: 167 ms, total: 4.72 s\n",
            "Wall time: 4.72 s\n"
          ]
        },
        {
          "output_type": "stream",
          "name": "stderr",
          "text": [
            "[Parallel(n_jobs=1)]: Done 100 out of 100 | elapsed:    0.7s finished\n"
          ]
        },
        {
          "output_type": "execute_result",
          "data": {
            "text/plain": [
              "0.7290173519426631"
            ]
          },
          "metadata": {},
          "execution_count": 21
        }
      ]
    },
    {
      "cell_type": "code",
      "source": [
        "# get the predictions\n",
        "y_pred = rf.predict(X_test)\n",
        "print(y_pred)"
      ],
      "metadata": {
        "colab": {
          "base_uri": "https://localhost:8080/"
        },
        "id": "IQdN685JPO8t",
        "outputId": "98c9b8ab-48ae-4347-90ba-271c44c38e2c"
      },
      "execution_count": 22,
      "outputs": [
        {
          "output_type": "stream",
          "name": "stderr",
          "text": [
            "[Parallel(n_jobs=1)]: Using backend SequentialBackend with 1 concurrent workers.\n"
          ]
        },
        {
          "output_type": "stream",
          "name": "stdout",
          "text": [
            "[1. 0. 0. ... 0. 0. 1.]\n"
          ]
        },
        {
          "output_type": "stream",
          "name": "stderr",
          "text": [
            "[Parallel(n_jobs=1)]: Done 100 out of 100 | elapsed:    0.7s finished\n"
          ]
        }
      ]
    },
    {
      "cell_type": "markdown",
      "source": [
        "Now I am going to evaluate the model with confusion matrix, accuracy, precision, recall and F1 score."
      ],
      "metadata": {
        "id": "irAcRiq5dX1S"
      }
    },
    {
      "cell_type": "code",
      "source": [
        "from sklearn import metrics"
      ],
      "metadata": {
        "id": "ylRu6ETHPD7D"
      },
      "execution_count": 23,
      "outputs": []
    },
    {
      "cell_type": "code",
      "source": [
        "# confusion matrix to evaluate model\n",
        "matrix_rf = metrics.confusion_matrix(y_test, y_pred)\n",
        "print(matrix_rf)\n",
        "\n",
        "# heatmap matrix\n",
        "plt.figure(figsize = (8,6))\n",
        "sns.heatmap(matrix_rf, annot = True, fmt = \".0f\", cmap = 'viridis')\n",
        "plt.title(\"Confusion Matrix - Random Forest\")\n",
        "plt.xlabel(\"Prediction\")\n",
        "plt.ylabel(\"Actual\")\n",
        "plt.show()"
      ],
      "metadata": {
        "colab": {
          "base_uri": "https://localhost:8080/",
          "height": 438
        },
        "id": "fmie0WqLPRlp",
        "outputId": "dbebd86e-e778-4d2a-d1ec-3bc8b1994038"
      },
      "execution_count": 24,
      "outputs": [
        {
          "output_type": "stream",
          "name": "stdout",
          "text": [
            "[[7249 3232]\n",
            " [2515 8212]]\n"
          ]
        },
        {
          "output_type": "display_data",
          "data": {
            "image/png": "[encoded data removed]",
            "text/plain": [
              "<Figure size 576x432 with 2 Axes>"
            ]
          },
          "metadata": {
            "needs_background": "light"
          }
        }
      ]
    },
    {
      "cell_type": "code",
      "source": [
        "# RF classification report\n",
        "report_rf = metrics.classification_report(y_test, y_pred)\n",
        "print(report_rf)\n"
      ],
      "metadata": {
        "colab": {
          "base_uri": "https://localhost:8080/"
        },
        "id": "z5DKBCrxPh8g",
        "outputId": "50a26037-10d7-42cf-d494-f11b0055d453"
      },
      "execution_count": 25,
      "outputs": [
        {
          "output_type": "stream",
          "name": "stdout",
          "text": [
            "              precision    recall  f1-score   support\n",
            "\n",
            "         0.0       0.74      0.69      0.72     10481\n",
            "         1.0       0.72      0.77      0.74     10727\n",
            "\n",
            "    accuracy                           0.73     21208\n",
            "   macro avg       0.73      0.73      0.73     21208\n",
            "weighted avg       0.73      0.73      0.73     21208\n",
            "\n"
          ]
        }
      ]
    },
    {
      "cell_type": "markdown",
      "source": [
        "From the graph, we have 8212 TP, 7249 TN, 2515 FN, and 3232 FP. False Negatives in this case would be bad, since the model predicts people to be healthy but they actually have diabetes. Because we care about reducing the False Negatives, the most important metric is Recall. \n",
        "\n",
        "Recall value of 70% means that 3 of every 10 diabetic people in reality are missed by this model and 7 labeled as diabetic."
      ],
      "metadata": {
        "id": "RfAZGMFPdjOf"
      }
    },
    {
      "cell_type": "markdown",
      "source": [
        "2. **Naive Bayes**"
      ],
      "metadata": {
        "id": "4PNIG7ImwLUA"
      }
    },
    {
      "cell_type": "markdown",
      "source": [
        "Now I am going to test a different ML algorithm: Naive Bayes. This assumes that the variables are independent of each other. I decided to use this because this is fairly simple and works well with a large data set.\n",
        "I will use Gaussian NB for continuous and Multinomial NB for discrete variables, and combine the two. "
      ],
      "metadata": {
        "id": "zjlSU38oXEOT"
      }
    },
    {
      "cell_type": "code",
      "source": [
        "from sklearn.naive_bayes import CategoricalNB"
      ],
      "metadata": {
        "id": "O4zqJ702rxDS"
      },
      "execution_count": 26,
      "outputs": []
    },
    {
      "cell_type": "code",
      "source": [
        "# build a Gaussian Classifier\n",
        "cnb = CategoricalNB()\n",
        "# train the model \n",
        "%time cnb.fit(X_train, y_train)\n",
        "# get the predictions\n",
        "y_pred = cnb.predict(X_test)"
      ],
      "metadata": {
        "colab": {
          "base_uri": "https://localhost:8080/"
        },
        "id": "nvlPtHVAmvHl",
        "outputId": "9de0ef85-fe01-4a92-9a19-ce4162b281bb"
      },
      "execution_count": 27,
      "outputs": [
        {
          "output_type": "stream",
          "name": "stdout",
          "text": [
            "CPU times: user 39.7 ms, sys: 0 ns, total: 39.7 ms\n",
            "Wall time: 44 ms\n"
          ]
        }
      ]
    },
    {
      "cell_type": "code",
      "source": [
        "# confusion matrix to evaluate model\n",
        "matrix_nb = metrics.confusion_matrix(y_test, y_pred)\n",
        "print(matrix_nb)\n",
        "\n",
        "# heatmap matrix\n",
        "plt.figure(figsize = (8,6))\n",
        "sns.heatmap(matrix_nb, annot = True, fmt = \".0f\", cmap = 'viridis')\n",
        "plt.title(\"Confusion Matrix - Naive Bayes\")\n",
        "plt.xlabel(\"Prediction\")\n",
        "plt.ylabel(\"Actual\")\n",
        "plt.show()"
      ],
      "metadata": {
        "colab": {
          "base_uri": "https://localhost:8080/",
          "height": 438
        },
        "id": "YrVBwYMKm_tx",
        "outputId": "294a5cc2-2444-4a5c-f146-79a7681415e9"
      },
      "execution_count": 28,
      "outputs": [
        {
          "output_type": "stream",
          "name": "stdout",
          "text": [
            "[[7771 2710]\n",
            " [2793 7934]]\n"
          ]
        },
        {
          "output_type": "display_data",
          "data": {
            "image/png": "[encoded data removed]",
            "text/plain": [
              "<Figure size 576x432 with 2 Axes>"
            ]
          },
          "metadata": {
            "needs_background": "light"
          }
        }
      ]
    },
    {
      "cell_type": "code",
      "source": [
        "# NB classification report\n",
        "report_nb = metrics.classification_report(y_test, y_pred)\n",
        "print(report_nb)\n"
      ],
      "metadata": {
        "colab": {
          "base_uri": "https://localhost:8080/"
        },
        "id": "sE7EhAmZnOTC",
        "outputId": "8b2dff5e-9d33-4d0a-fa7e-c54c7489b2ee"
      },
      "execution_count": 29,
      "outputs": [
        {
          "output_type": "stream",
          "name": "stdout",
          "text": [
            "              precision    recall  f1-score   support\n",
            "\n",
            "         0.0       0.74      0.74      0.74     10481\n",
            "         1.0       0.75      0.74      0.74     10727\n",
            "\n",
            "    accuracy                           0.74     21208\n",
            "   macro avg       0.74      0.74      0.74     21208\n",
            "weighted avg       0.74      0.74      0.74     21208\n",
            "\n"
          ]
        }
      ]
    },
    {
      "cell_type": "code",
      "source": [
        ""
      ],
      "metadata": {
        "id": "3xBukcj3szOg"
      },
      "execution_count": 29,
      "outputs": []
    },
    {
      "cell_type": "markdown",
      "source": [
        "3. "
      ],
      "metadata": {
        "id": "cuK2PfXRwJUs"
      }
    },
    {
      "cell_type": "markdown",
      "source": [
        "## Evaluation"
      ],
      "metadata": {
        "id": "siTY57Awsztv"
      }
    }
  ]
}